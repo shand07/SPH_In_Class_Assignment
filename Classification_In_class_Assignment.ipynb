{
  "nbformat": 4,
  "nbformat_minor": 0,
  "metadata": {
    "colab": {
      "provenance": [],
      "include_colab_link": true
    },
    "kernelspec": {
      "name": "python3",
      "display_name": "Python 3"
    },
    "language_info": {
      "name": "python"
    }
  },
  "cells": [
    {
      "cell_type": "markdown",
      "metadata": {
        "id": "view-in-github",
        "colab_type": "text"
      },
      "source": [
        "<a href=\"https://colab.research.google.com/github/shand07/SPH_In_Class_Assignment/blob/main/Classification_In_class_Assignment.ipynb\" target=\"_parent\"><img src=\"https://colab.research.google.com/assets/colab-badge.svg\" alt=\"Open In Colab\"/></a>"
      ]
    },
    {
      "cell_type": "markdown",
      "source": [
        "# Titanic Survival Prediction: Model Selection and Hyperparameter Tuning\n",
        "\n",
        "In this notebook, you will:\n",
        "1. Load the Titanic dataset from an online source.\n",
        "2. Perform basic EDA to understand the data.\n",
        "3. Use pipelines to preprocess numerical and categorical data.\n",
        "4. Train and evaluate multiple classification models (KNN, SVC, Random Forest, Decision Tree, Logistic Regression, Bagging, and Boosting).\n",
        "5. Conduct hyperparameter tuning to find the best model.\n",
        "6. Write reflection on the findings\n",
        "\n",
        "---\n",
        "\n",
        "## 1. Importing Libraries\n",
        "**Task**: Import the necessary libraries for data handling, visualization, model training, and evaluation."
      ],
      "metadata": {
        "id": "zSEzInbSthpr"
      }
    },
    {
      "cell_type": "code",
      "source": [
        "# import the required libraries\n",
        "import pandas as pd\n",
        "import numpy as np\n",
        "import seaborn as sns\n",
        "import matplotlib.pyplot as plt\n",
        "from sklearn.preprocessing import StandardScaler, OneHotEncoder\n",
        "from sklearn.compose import ColumnTransformer\n",
        "from sklearn.pipeline import Pipeline\n",
        "from sklearn.neighbors import KNeighborsClassifier\n",
        "from sklearn.svm import SVC\n",
        "from sklearn.ensemble import RandomForestClassifier, BaggingClassifier, GradientBoostingClassifier\n",
        "from sklearn.tree import DecisionTreeClassifier\n",
        "from sklearn.linear_model import LogisticRegression\n",
        "from sklearn.metrics import accuracy_score\n",
        "from sklearn.model_selection import GridSearchCV\n",
        "from sklearn.metrics import classification_report\n",
        "from sklearn.model_selection import RandomizedSearchCV\n"
      ],
      "metadata": {
        "id": "cGlUdEKst5LX"
      },
      "execution_count": null,
      "outputs": []
    },
    {
      "cell_type": "markdown",
      "source": [
        "## 2. Load the titanic dataset from seaborn"
      ],
      "metadata": {
        "id": "iM_WopTRt6fz"
      }
    },
    {
      "cell_type": "code",
      "source": [
        "titanic = sns.load_dataset('titanic')\n",
        "\n"
      ],
      "metadata": {
        "id": "L2zF6L6ttnry"
      },
      "execution_count": null,
      "outputs": []
    },
    {
      "cell_type": "code",
      "source": [
        "df = titanic.copy()\n",
        "df.head()"
      ],
      "metadata": {
        "colab": {
          "base_uri": "https://localhost:8080/",
          "height": 206
        },
        "id": "yxh1cHQJooZA",
        "outputId": "da438218-3abb-40be-f466-c552303a1f78"
      },
      "execution_count": null,
      "outputs": [
        {
          "output_type": "execute_result",
          "data": {
            "text/plain": [
              "   survived  pclass     sex   age  sibsp  parch     fare embarked  class  \\\n",
              "0         0       3    male  22.0      1      0   7.2500        S  Third   \n",
              "1         1       1  female  38.0      1      0  71.2833        C  First   \n",
              "2         1       3  female  26.0      0      0   7.9250        S  Third   \n",
              "3         1       1  female  35.0      1      0  53.1000        S  First   \n",
              "4         0       3    male  35.0      0      0   8.0500        S  Third   \n",
              "\n",
              "     who  adult_male deck  embark_town alive  alone  \n",
              "0    man        True  NaN  Southampton    no  False  \n",
              "1  woman       False    C    Cherbourg   yes  False  \n",
              "2  woman       False  NaN  Southampton   yes   True  \n",
              "3  woman       False    C  Southampton   yes  False  \n",
              "4    man        True  NaN  Southampton    no   True  "
            ],
            "text/html": [
              "\n",
              "  <div id=\"df-d4cfc80c-c856-47c8-b8dc-7bbb47cc6972\" class=\"colab-df-container\">\n",
              "    <div>\n",
              "<style scoped>\n",
              "    .dataframe tbody tr th:only-of-type {\n",
              "        vertical-align: middle;\n",
              "    }\n",
              "\n",
              "    .dataframe tbody tr th {\n",
              "        vertical-align: top;\n",
              "    }\n",
              "\n",
              "    .dataframe thead th {\n",
              "        text-align: right;\n",
              "    }\n",
              "</style>\n",
              "<table border=\"1\" class=\"dataframe\">\n",
              "  <thead>\n",
              "    <tr style=\"text-align: right;\">\n",
              "      <th></th>\n",
              "      <th>survived</th>\n",
              "      <th>pclass</th>\n",
              "      <th>sex</th>\n",
              "      <th>age</th>\n",
              "      <th>sibsp</th>\n",
              "      <th>parch</th>\n",
              "      <th>fare</th>\n",
              "      <th>embarked</th>\n",
              "      <th>class</th>\n",
              "      <th>who</th>\n",
              "      <th>adult_male</th>\n",
              "      <th>deck</th>\n",
              "      <th>embark_town</th>\n",
              "      <th>alive</th>\n",
              "      <th>alone</th>\n",
              "    </tr>\n",
              "  </thead>\n",
              "  <tbody>\n",
              "    <tr>\n",
              "      <th>0</th>\n",
              "      <td>0</td>\n",
              "      <td>3</td>\n",
              "      <td>male</td>\n",
              "      <td>22.0</td>\n",
              "      <td>1</td>\n",
              "      <td>0</td>\n",
              "      <td>7.2500</td>\n",
              "      <td>S</td>\n",
              "      <td>Third</td>\n",
              "      <td>man</td>\n",
              "      <td>True</td>\n",
              "      <td>NaN</td>\n",
              "      <td>Southampton</td>\n",
              "      <td>no</td>\n",
              "      <td>False</td>\n",
              "    </tr>\n",
              "    <tr>\n",
              "      <th>1</th>\n",
              "      <td>1</td>\n",
              "      <td>1</td>\n",
              "      <td>female</td>\n",
              "      <td>38.0</td>\n",
              "      <td>1</td>\n",
              "      <td>0</td>\n",
              "      <td>71.2833</td>\n",
              "      <td>C</td>\n",
              "      <td>First</td>\n",
              "      <td>woman</td>\n",
              "      <td>False</td>\n",
              "      <td>C</td>\n",
              "      <td>Cherbourg</td>\n",
              "      <td>yes</td>\n",
              "      <td>False</td>\n",
              "    </tr>\n",
              "    <tr>\n",
              "      <th>2</th>\n",
              "      <td>1</td>\n",
              "      <td>3</td>\n",
              "      <td>female</td>\n",
              "      <td>26.0</td>\n",
              "      <td>0</td>\n",
              "      <td>0</td>\n",
              "      <td>7.9250</td>\n",
              "      <td>S</td>\n",
              "      <td>Third</td>\n",
              "      <td>woman</td>\n",
              "      <td>False</td>\n",
              "      <td>NaN</td>\n",
              "      <td>Southampton</td>\n",
              "      <td>yes</td>\n",
              "      <td>True</td>\n",
              "    </tr>\n",
              "    <tr>\n",
              "      <th>3</th>\n",
              "      <td>1</td>\n",
              "      <td>1</td>\n",
              "      <td>female</td>\n",
              "      <td>35.0</td>\n",
              "      <td>1</td>\n",
              "      <td>0</td>\n",
              "      <td>53.1000</td>\n",
              "      <td>S</td>\n",
              "      <td>First</td>\n",
              "      <td>woman</td>\n",
              "      <td>False</td>\n",
              "      <td>C</td>\n",
              "      <td>Southampton</td>\n",
              "      <td>yes</td>\n",
              "      <td>False</td>\n",
              "    </tr>\n",
              "    <tr>\n",
              "      <th>4</th>\n",
              "      <td>0</td>\n",
              "      <td>3</td>\n",
              "      <td>male</td>\n",
              "      <td>35.0</td>\n",
              "      <td>0</td>\n",
              "      <td>0</td>\n",
              "      <td>8.0500</td>\n",
              "      <td>S</td>\n",
              "      <td>Third</td>\n",
              "      <td>man</td>\n",
              "      <td>True</td>\n",
              "      <td>NaN</td>\n",
              "      <td>Southampton</td>\n",
              "      <td>no</td>\n",
              "      <td>True</td>\n",
              "    </tr>\n",
              "  </tbody>\n",
              "</table>\n",
              "</div>\n",
              "    <div class=\"colab-df-buttons\">\n",
              "\n",
              "  <div class=\"colab-df-container\">\n",
              "    <button class=\"colab-df-convert\" onclick=\"convertToInteractive('df-d4cfc80c-c856-47c8-b8dc-7bbb47cc6972')\"\n",
              "            title=\"Convert this dataframe to an interactive table.\"\n",
              "            style=\"display:none;\">\n",
              "\n",
              "  <svg xmlns=\"http://www.w3.org/2000/svg\" height=\"24px\" viewBox=\"0 -960 960 960\">\n",
              "    <path d=\"M120-120v-720h720v720H120Zm60-500h600v-160H180v160Zm220 220h160v-160H400v160Zm0 220h160v-160H400v160ZM180-400h160v-160H180v160Zm440 0h160v-160H620v160ZM180-180h160v-160H180v160Zm440 0h160v-160H620v160Z\"/>\n",
              "  </svg>\n",
              "    </button>\n",
              "\n",
              "  <style>\n",
              "    .colab-df-container {\n",
              "      display:flex;\n",
              "      gap: 12px;\n",
              "    }\n",
              "\n",
              "    .colab-df-convert {\n",
              "      background-color: #E8F0FE;\n",
              "      border: none;\n",
              "      border-radius: 50%;\n",
              "      cursor: pointer;\n",
              "      display: none;\n",
              "      fill: #1967D2;\n",
              "      height: 32px;\n",
              "      padding: 0 0 0 0;\n",
              "      width: 32px;\n",
              "    }\n",
              "\n",
              "    .colab-df-convert:hover {\n",
              "      background-color: #E2EBFA;\n",
              "      box-shadow: 0px 1px 2px rgba(60, 64, 67, 0.3), 0px 1px 3px 1px rgba(60, 64, 67, 0.15);\n",
              "      fill: #174EA6;\n",
              "    }\n",
              "\n",
              "    .colab-df-buttons div {\n",
              "      margin-bottom: 4px;\n",
              "    }\n",
              "\n",
              "    [theme=dark] .colab-df-convert {\n",
              "      background-color: #3B4455;\n",
              "      fill: #D2E3FC;\n",
              "    }\n",
              "\n",
              "    [theme=dark] .colab-df-convert:hover {\n",
              "      background-color: #434B5C;\n",
              "      box-shadow: 0px 1px 3px 1px rgba(0, 0, 0, 0.15);\n",
              "      filter: drop-shadow(0px 1px 2px rgba(0, 0, 0, 0.3));\n",
              "      fill: #FFFFFF;\n",
              "    }\n",
              "  </style>\n",
              "\n",
              "    <script>\n",
              "      const buttonEl =\n",
              "        document.querySelector('#df-d4cfc80c-c856-47c8-b8dc-7bbb47cc6972 button.colab-df-convert');\n",
              "      buttonEl.style.display =\n",
              "        google.colab.kernel.accessAllowed ? 'block' : 'none';\n",
              "\n",
              "      async function convertToInteractive(key) {\n",
              "        const element = document.querySelector('#df-d4cfc80c-c856-47c8-b8dc-7bbb47cc6972');\n",
              "        const dataTable =\n",
              "          await google.colab.kernel.invokeFunction('convertToInteractive',\n",
              "                                                    [key], {});\n",
              "        if (!dataTable) return;\n",
              "\n",
              "        const docLinkHtml = 'Like what you see? Visit the ' +\n",
              "          '<a target=\"_blank\" href=https://colab.research.google.com/notebooks/data_table.ipynb>data table notebook</a>'\n",
              "          + ' to learn more about interactive tables.';\n",
              "        element.innerHTML = '';\n",
              "        dataTable['output_type'] = 'display_data';\n",
              "        await google.colab.output.renderOutput(dataTable, element);\n",
              "        const docLink = document.createElement('div');\n",
              "        docLink.innerHTML = docLinkHtml;\n",
              "        element.appendChild(docLink);\n",
              "      }\n",
              "    </script>\n",
              "  </div>\n",
              "\n",
              "\n",
              "<div id=\"df-fdc74f83-46ab-44c0-903a-3c44b2e1d89e\">\n",
              "  <button class=\"colab-df-quickchart\" onclick=\"quickchart('df-fdc74f83-46ab-44c0-903a-3c44b2e1d89e')\"\n",
              "            title=\"Suggest charts\"\n",
              "            style=\"display:none;\">\n",
              "\n",
              "<svg xmlns=\"http://www.w3.org/2000/svg\" height=\"24px\"viewBox=\"0 0 24 24\"\n",
              "     width=\"24px\">\n",
              "    <g>\n",
              "        <path d=\"M19 3H5c-1.1 0-2 .9-2 2v14c0 1.1.9 2 2 2h14c1.1 0 2-.9 2-2V5c0-1.1-.9-2-2-2zM9 17H7v-7h2v7zm4 0h-2V7h2v10zm4 0h-2v-4h2v4z\"/>\n",
              "    </g>\n",
              "</svg>\n",
              "  </button>\n",
              "\n",
              "<style>\n",
              "  .colab-df-quickchart {\n",
              "      --bg-color: #E8F0FE;\n",
              "      --fill-color: #1967D2;\n",
              "      --hover-bg-color: #E2EBFA;\n",
              "      --hover-fill-color: #174EA6;\n",
              "      --disabled-fill-color: #AAA;\n",
              "      --disabled-bg-color: #DDD;\n",
              "  }\n",
              "\n",
              "  [theme=dark] .colab-df-quickchart {\n",
              "      --bg-color: #3B4455;\n",
              "      --fill-color: #D2E3FC;\n",
              "      --hover-bg-color: #434B5C;\n",
              "      --hover-fill-color: #FFFFFF;\n",
              "      --disabled-bg-color: #3B4455;\n",
              "      --disabled-fill-color: #666;\n",
              "  }\n",
              "\n",
              "  .colab-df-quickchart {\n",
              "    background-color: var(--bg-color);\n",
              "    border: none;\n",
              "    border-radius: 50%;\n",
              "    cursor: pointer;\n",
              "    display: none;\n",
              "    fill: var(--fill-color);\n",
              "    height: 32px;\n",
              "    padding: 0;\n",
              "    width: 32px;\n",
              "  }\n",
              "\n",
              "  .colab-df-quickchart:hover {\n",
              "    background-color: var(--hover-bg-color);\n",
              "    box-shadow: 0 1px 2px rgba(60, 64, 67, 0.3), 0 1px 3px 1px rgba(60, 64, 67, 0.15);\n",
              "    fill: var(--button-hover-fill-color);\n",
              "  }\n",
              "\n",
              "  .colab-df-quickchart-complete:disabled,\n",
              "  .colab-df-quickchart-complete:disabled:hover {\n",
              "    background-color: var(--disabled-bg-color);\n",
              "    fill: var(--disabled-fill-color);\n",
              "    box-shadow: none;\n",
              "  }\n",
              "\n",
              "  .colab-df-spinner {\n",
              "    border: 2px solid var(--fill-color);\n",
              "    border-color: transparent;\n",
              "    border-bottom-color: var(--fill-color);\n",
              "    animation:\n",
              "      spin 1s steps(1) infinite;\n",
              "  }\n",
              "\n",
              "  @keyframes spin {\n",
              "    0% {\n",
              "      border-color: transparent;\n",
              "      border-bottom-color: var(--fill-color);\n",
              "      border-left-color: var(--fill-color);\n",
              "    }\n",
              "    20% {\n",
              "      border-color: transparent;\n",
              "      border-left-color: var(--fill-color);\n",
              "      border-top-color: var(--fill-color);\n",
              "    }\n",
              "    30% {\n",
              "      border-color: transparent;\n",
              "      border-left-color: var(--fill-color);\n",
              "      border-top-color: var(--fill-color);\n",
              "      border-right-color: var(--fill-color);\n",
              "    }\n",
              "    40% {\n",
              "      border-color: transparent;\n",
              "      border-right-color: var(--fill-color);\n",
              "      border-top-color: var(--fill-color);\n",
              "    }\n",
              "    60% {\n",
              "      border-color: transparent;\n",
              "      border-right-color: var(--fill-color);\n",
              "    }\n",
              "    80% {\n",
              "      border-color: transparent;\n",
              "      border-right-color: var(--fill-color);\n",
              "      border-bottom-color: var(--fill-color);\n",
              "    }\n",
              "    90% {\n",
              "      border-color: transparent;\n",
              "      border-bottom-color: var(--fill-color);\n",
              "    }\n",
              "  }\n",
              "</style>\n",
              "\n",
              "  <script>\n",
              "    async function quickchart(key) {\n",
              "      const quickchartButtonEl =\n",
              "        document.querySelector('#' + key + ' button');\n",
              "      quickchartButtonEl.disabled = true;  // To prevent multiple clicks.\n",
              "      quickchartButtonEl.classList.add('colab-df-spinner');\n",
              "      try {\n",
              "        const charts = await google.colab.kernel.invokeFunction(\n",
              "            'suggestCharts', [key], {});\n",
              "      } catch (error) {\n",
              "        console.error('Error during call to suggestCharts:', error);\n",
              "      }\n",
              "      quickchartButtonEl.classList.remove('colab-df-spinner');\n",
              "      quickchartButtonEl.classList.add('colab-df-quickchart-complete');\n",
              "    }\n",
              "    (() => {\n",
              "      let quickchartButtonEl =\n",
              "        document.querySelector('#df-fdc74f83-46ab-44c0-903a-3c44b2e1d89e button');\n",
              "      quickchartButtonEl.style.display =\n",
              "        google.colab.kernel.accessAllowed ? 'block' : 'none';\n",
              "    })();\n",
              "  </script>\n",
              "</div>\n",
              "\n",
              "    </div>\n",
              "  </div>\n"
            ],
            "application/vnd.google.colaboratory.intrinsic+json": {
              "type": "dataframe",
              "variable_name": "df",
              "summary": "{\n  \"name\": \"df\",\n  \"rows\": 891,\n  \"fields\": [\n    {\n      \"column\": \"survived\",\n      \"properties\": {\n        \"dtype\": \"number\",\n        \"std\": 0,\n        \"min\": 0,\n        \"max\": 1,\n        \"num_unique_values\": 2,\n        \"samples\": [\n          1,\n          0\n        ],\n        \"semantic_type\": \"\",\n        \"description\": \"\"\n      }\n    },\n    {\n      \"column\": \"pclass\",\n      \"properties\": {\n        \"dtype\": \"number\",\n        \"std\": 0,\n        \"min\": 1,\n        \"max\": 3,\n        \"num_unique_values\": 3,\n        \"samples\": [\n          3,\n          1\n        ],\n        \"semantic_type\": \"\",\n        \"description\": \"\"\n      }\n    },\n    {\n      \"column\": \"sex\",\n      \"properties\": {\n        \"dtype\": \"category\",\n        \"num_unique_values\": 2,\n        \"samples\": [\n          \"female\",\n          \"male\"\n        ],\n        \"semantic_type\": \"\",\n        \"description\": \"\"\n      }\n    },\n    {\n      \"column\": \"age\",\n      \"properties\": {\n        \"dtype\": \"number\",\n        \"std\": 14.526497332334044,\n        \"min\": 0.42,\n        \"max\": 80.0,\n        \"num_unique_values\": 88,\n        \"samples\": [\n          0.75,\n          22.0\n        ],\n        \"semantic_type\": \"\",\n        \"description\": \"\"\n      }\n    },\n    {\n      \"column\": \"sibsp\",\n      \"properties\": {\n        \"dtype\": \"number\",\n        \"std\": 1,\n        \"min\": 0,\n        \"max\": 8,\n        \"num_unique_values\": 7,\n        \"samples\": [\n          1,\n          0\n        ],\n        \"semantic_type\": \"\",\n        \"description\": \"\"\n      }\n    },\n    {\n      \"column\": \"parch\",\n      \"properties\": {\n        \"dtype\": \"number\",\n        \"std\": 0,\n        \"min\": 0,\n        \"max\": 6,\n        \"num_unique_values\": 7,\n        \"samples\": [\n          0,\n          1\n        ],\n        \"semantic_type\": \"\",\n        \"description\": \"\"\n      }\n    },\n    {\n      \"column\": \"fare\",\n      \"properties\": {\n        \"dtype\": \"number\",\n        \"std\": 49.693428597180905,\n        \"min\": 0.0,\n        \"max\": 512.3292,\n        \"num_unique_values\": 248,\n        \"samples\": [\n          11.2417,\n          51.8625\n        ],\n        \"semantic_type\": \"\",\n        \"description\": \"\"\n      }\n    },\n    {\n      \"column\": \"embarked\",\n      \"properties\": {\n        \"dtype\": \"category\",\n        \"num_unique_values\": 3,\n        \"samples\": [\n          \"S\",\n          \"C\"\n        ],\n        \"semantic_type\": \"\",\n        \"description\": \"\"\n      }\n    },\n    {\n      \"column\": \"class\",\n      \"properties\": {\n        \"dtype\": \"category\",\n        \"num_unique_values\": 3,\n        \"samples\": [\n          \"Third\",\n          \"First\"\n        ],\n        \"semantic_type\": \"\",\n        \"description\": \"\"\n      }\n    },\n    {\n      \"column\": \"who\",\n      \"properties\": {\n        \"dtype\": \"category\",\n        \"num_unique_values\": 3,\n        \"samples\": [\n          \"man\",\n          \"woman\"\n        ],\n        \"semantic_type\": \"\",\n        \"description\": \"\"\n      }\n    },\n    {\n      \"column\": \"adult_male\",\n      \"properties\": {\n        \"dtype\": \"boolean\",\n        \"num_unique_values\": 2,\n        \"samples\": [\n          false,\n          true\n        ],\n        \"semantic_type\": \"\",\n        \"description\": \"\"\n      }\n    },\n    {\n      \"column\": \"deck\",\n      \"properties\": {\n        \"dtype\": \"category\",\n        \"num_unique_values\": 7,\n        \"samples\": [\n          \"C\",\n          \"E\"\n        ],\n        \"semantic_type\": \"\",\n        \"description\": \"\"\n      }\n    },\n    {\n      \"column\": \"embark_town\",\n      \"properties\": {\n        \"dtype\": \"category\",\n        \"num_unique_values\": 3,\n        \"samples\": [\n          \"Southampton\",\n          \"Cherbourg\"\n        ],\n        \"semantic_type\": \"\",\n        \"description\": \"\"\n      }\n    },\n    {\n      \"column\": \"alive\",\n      \"properties\": {\n        \"dtype\": \"category\",\n        \"num_unique_values\": 2,\n        \"samples\": [\n          \"yes\",\n          \"no\"\n        ],\n        \"semantic_type\": \"\",\n        \"description\": \"\"\n      }\n    },\n    {\n      \"column\": \"alone\",\n      \"properties\": {\n        \"dtype\": \"boolean\",\n        \"num_unique_values\": 2,\n        \"samples\": [\n          true,\n          false\n        ],\n        \"semantic_type\": \"\",\n        \"description\": \"\"\n      }\n    }\n  ]\n}"
            }
          },
          "metadata": {},
          "execution_count": 4
        }
      ]
    },
    {
      "cell_type": "markdown",
      "source": [
        "## 3. Basic EDA (Exploratory Data Analysis)\n",
        "Question 1: What is the shape of the dataset?"
      ],
      "metadata": {
        "id": "FFWv6NLSuULJ"
      }
    },
    {
      "cell_type": "code",
      "source": [
        "titanic.shape"
      ],
      "metadata": {
        "id": "HF_YfTF108ci",
        "colab": {
          "base_uri": "https://localhost:8080/"
        },
        "outputId": "9f3e77b2-6739-453e-b46f-b8226c3e0ea5"
      },
      "execution_count": null,
      "outputs": [
        {
          "output_type": "execute_result",
          "data": {
            "text/plain": [
              "(891, 15)"
            ]
          },
          "metadata": {},
          "execution_count": 9
        }
      ]
    },
    {
      "cell_type": "markdown",
      "source": [
        "Question 2: Are there any missing values?"
      ],
      "metadata": {
        "id": "3nN1l9DxudC0"
      }
    },
    {
      "cell_type": "code",
      "source": [
        "titanic.isnull().sum()"
      ],
      "metadata": {
        "id": "FYzT8tsQ0-EE",
        "colab": {
          "base_uri": "https://localhost:8080/",
          "height": 554
        },
        "outputId": "b0eae8a1-6efe-4c9d-a89d-9127af28a66a"
      },
      "execution_count": null,
      "outputs": [
        {
          "output_type": "execute_result",
          "data": {
            "text/plain": [
              "survived         0\n",
              "pclass           0\n",
              "sex              0\n",
              "age            177\n",
              "sibsp            0\n",
              "parch            0\n",
              "fare             0\n",
              "embarked         2\n",
              "class            0\n",
              "who              0\n",
              "adult_male       0\n",
              "deck           688\n",
              "embark_town      2\n",
              "alive            0\n",
              "alone            0\n",
              "dtype: int64"
            ],
            "text/html": [
              "<div>\n",
              "<style scoped>\n",
              "    .dataframe tbody tr th:only-of-type {\n",
              "        vertical-align: middle;\n",
              "    }\n",
              "\n",
              "    .dataframe tbody tr th {\n",
              "        vertical-align: top;\n",
              "    }\n",
              "\n",
              "    .dataframe thead th {\n",
              "        text-align: right;\n",
              "    }\n",
              "</style>\n",
              "<table border=\"1\" class=\"dataframe\">\n",
              "  <thead>\n",
              "    <tr style=\"text-align: right;\">\n",
              "      <th></th>\n",
              "      <th>0</th>\n",
              "    </tr>\n",
              "  </thead>\n",
              "  <tbody>\n",
              "    <tr>\n",
              "      <th>survived</th>\n",
              "      <td>0</td>\n",
              "    </tr>\n",
              "    <tr>\n",
              "      <th>pclass</th>\n",
              "      <td>0</td>\n",
              "    </tr>\n",
              "    <tr>\n",
              "      <th>sex</th>\n",
              "      <td>0</td>\n",
              "    </tr>\n",
              "    <tr>\n",
              "      <th>age</th>\n",
              "      <td>177</td>\n",
              "    </tr>\n",
              "    <tr>\n",
              "      <th>sibsp</th>\n",
              "      <td>0</td>\n",
              "    </tr>\n",
              "    <tr>\n",
              "      <th>parch</th>\n",
              "      <td>0</td>\n",
              "    </tr>\n",
              "    <tr>\n",
              "      <th>fare</th>\n",
              "      <td>0</td>\n",
              "    </tr>\n",
              "    <tr>\n",
              "      <th>embarked</th>\n",
              "      <td>2</td>\n",
              "    </tr>\n",
              "    <tr>\n",
              "      <th>class</th>\n",
              "      <td>0</td>\n",
              "    </tr>\n",
              "    <tr>\n",
              "      <th>who</th>\n",
              "      <td>0</td>\n",
              "    </tr>\n",
              "    <tr>\n",
              "      <th>adult_male</th>\n",
              "      <td>0</td>\n",
              "    </tr>\n",
              "    <tr>\n",
              "      <th>deck</th>\n",
              "      <td>688</td>\n",
              "    </tr>\n",
              "    <tr>\n",
              "      <th>embark_town</th>\n",
              "      <td>2</td>\n",
              "    </tr>\n",
              "    <tr>\n",
              "      <th>alive</th>\n",
              "      <td>0</td>\n",
              "    </tr>\n",
              "    <tr>\n",
              "      <th>alone</th>\n",
              "      <td>0</td>\n",
              "    </tr>\n",
              "  </tbody>\n",
              "</table>\n",
              "</div><br><label><b>dtype:</b> int64</label>"
            ]
          },
          "metadata": {},
          "execution_count": 10
        }
      ]
    },
    {
      "cell_type": "markdown",
      "source": [
        "Question 3: Visualize some relationships (atleast 3). such as:\n",
        "\n",
        "- The distribution of numerical features like age and fare.\n",
        "- The survival rate by different classes, gender, etc."
      ],
      "metadata": {
        "id": "VcV_MML2urpz"
      }
    },
    {
      "cell_type": "code",
      "source": [
        "sns.countplot(x='class', data=titanic, hue='survived')\n",
        "plt.title('Surived by class')\n",
        "plt.show()"
      ],
      "metadata": {
        "id": "2HTh__6M1AUa",
        "colab": {
          "base_uri": "https://localhost:8080/",
          "height": 472
        },
        "outputId": "920955ea-c669-4ff5-d7f7-73ddda5ad773"
      },
      "execution_count": null,
      "outputs": [
        {
          "output_type": "display_data",
          "data": {
            "text/plain": [
              "<Figure size 640x480 with 1 Axes>"
            ],
            "image/png": "[encoded data removed]"
          },
          "metadata": {}
        }
      ]
    },
    {
      "cell_type": "code",
      "source": [
        "# Split the data into features and target\n",
        "X = titanic[['age', 'fare', 'pclass', 'sex', 'embarked', 'who', 'alone']]\n",
        "y = titanic['survived']\n",
        "\n"
      ],
      "metadata": {
        "id": "iN_3dzYru5rS"
      },
      "execution_count": null,
      "outputs": []
    },
    {
      "cell_type": "markdown",
      "source": [
        "\n",
        "### Split the data into training and testing sets"
      ],
      "metadata": {
        "id": "cK_eLDAJ1UVk"
      }
    },
    {
      "cell_type": "code",
      "source": [
        "#split into training and test sets\n",
        "from sklearn.model_selection import train_test_split\n",
        "X_train, X_test, y_train, y_test = train_test_split(X, y, test_size=0.2, random_state=42)"
      ],
      "metadata": {
        "id": "8A31TXd61XiL"
      },
      "execution_count": null,
      "outputs": []
    },
    {
      "cell_type": "markdown",
      "source": [
        "## 4. Data Preprocessing with Pipelines\n",
        "Task: Create a data preprocessing pipeline for numerical and categorical features.\n",
        "\n",
        "- Numerical features: Use StandardScaler to scale them.\n",
        "- Categorical features: Use OneHotEncoder to encode them.\n",
        "- impute missing values"
      ],
      "metadata": {
        "id": "EBlOVDj4vB40"
      }
    },
    {
      "cell_type": "code",
      "source": [
        "#import libraries for pipeline\n",
        "from sklearn.impute import SimpleImputer\n",
        "from sklearn.compose import ColumnTransformer\n",
        "from sklearn.pipeline import Pipeline\n",
        "from sklearn.preprocessing import StandardScaler, OneHotEncoder\n",
        "from sklearn.impute import SimpleImputer\n",
        "\n",
        "#define numerical and categorical features\n",
        "numerical_features = ['age', 'fare','pclass']\n",
        "categorical_features = [ 'sex', 'embarked', 'who', 'alone']\n",
        "\n",
        "#define transformations\n",
        "numerical_transformer = Pipeline(steps=[\n",
        "    ('imputer', SimpleImputer(strategy='mean')),\n",
        "    ('scaler', StandardScaler())\n",
        "])\n",
        "\n",
        "categorical_transformer = Pipeline(steps=[\n",
        "    ('imputer', SimpleImputer(strategy='most_frequent')),\n",
        "    ('onehot', OneHotEncoder(handle_unknown='ignore'))\n",
        "])"
      ],
      "metadata": {
        "id": "CQ7mlWCd1a3L"
      },
      "execution_count": null,
      "outputs": []
    },
    {
      "cell_type": "code",
      "source": [],
      "metadata": {
        "id": "tHpwsYme1bBZ"
      },
      "execution_count": null,
      "outputs": []
    },
    {
      "cell_type": "code",
      "source": [],
      "metadata": {
        "id": "9Rt5tX-j1bj7"
      },
      "execution_count": null,
      "outputs": []
    },
    {
      "cell_type": "markdown",
      "source": [
        "## Training data with multiple models"
      ],
      "metadata": {
        "id": "LG94c1Y03gcf"
      }
    },
    {
      "cell_type": "code",
      "source": [
        "# Define models\n",
        "models = {\n",
        "    'K-Nearest Neighbors': KNeighborsClassifier(),\n",
        "    'Logistic Regression': LogisticRegression(max_iter=1000),\n",
        "    'Decision Tree': DecisionTreeClassifier(),\n",
        "    'Random Forest': RandomForestClassifier(),\n",
        "    'Support Vector Machine': SVC(),\n",
        "    'Bagging Classifier': BaggingClassifier(),\n",
        "    'Gradient Boosting': GradientBoostingClassifier()\n",
        "}\n",
        "\n",
        "\n",
        "\n",
        "# Evaluate each model\n",
        "for model_name, model in models.items():\n",
        "    # Create pipeline with preprocessor and model\n",
        "    pipeline = Pipeline(steps=[('preprocessor', preprocessor), ('classifier', model)])\n",
        "\n",
        "    # Train the model\n",
        "    pipeline.fit(X_train, y_train)\n",
        "\n",
        "    # Make predictions\n",
        "    y_pred = pipeline.predict(X_test)\n",
        "\n",
        "    # Print accuracy and classification report\n",
        "    print(f\"\\nModel: {model_name}\")\n",
        "    print(\"Accuracy:\", accuracy_score(y_test, y_pred))\n",
        "\n"
      ],
      "metadata": {
        "id": "l-ey09xmwE9k"
      },
      "execution_count": null,
      "outputs": []
    },
    {
      "cell_type": "markdown",
      "source": [
        "#Hyperparameter Tuning\n",
        "## Define parameter grids for the top 2 models\n",
        "Example:\n",
        "![image.png](data:image/png;base64,iVBORw0KGgoAAAANSUhEUgAABJsAAALCCAYAAAB5ptIYAAAAAXNSR0IArs4c6QAAAARnQU1BAACxjwv8YQUAAAAJcEhZcwAAITcAACE3ATNYn3oAAP+lSURBVHhe7N0JWFTl/gfwr7IIDiIgAiKIiAoauGTkdjOumEZ51dwybdMsy+VfWdfslnrNFrOyumpdbLHs6i01U7NIUzO9akaukDsqggiIgMCEMkD/c2bemXNmmGGRYfX7eZ7z9L5n8HTmPe85M+9v3qVJu3bt/gQREREREREREZEdNBX/JSIiIiIiIiIiqjYGm4iIiIiIiIiIyG4YbCIiIiIiIiIiIrthsImIiIiIiIiIiOyGwSYiIiIiIiIiIrIbBpuIiIiIiIiIiMhuGGwiIiIiIiIiIiK7YbCJiIiIiIiIiIjshsEmIiIiIiIiIiKyGwabiIiIiIiIiIjIbhhsIiIiIiIiIiIiu2GwiYiIiIiIiIiI7IbBJiIiIiIiIiIishsGm4iIiIiIiIiIyG4YbCIiIiIiIiIiIrthsImIiIiIiIiIiOyGwSYiIiIiIiIiIrIbBpuIiIiIiIiIiMhuGGwiIiIiIiIiIiK7YbCJiIiIiIiIiIjshsEmIiIiIiIiIiKyGwabiIiIiIiIiIjIbhhsIiIiIiIiIiIiu6lksIkxKSIiqq/4GUVEREREVJ9U8ht6qfgvERFRfcPPKCIiIiKi+oQ/BxMRERERERERkd0w2ERERERERERERHbDYBMREREREREREdkNg01ERERERERERGQ3DDYREREREREREZHdqIJNjDsREREREREREVH1qCJMXDqaiIiIiIiIiIiqh92ZiIiIiIiIiIjIbhhsIiIiIiIiIiIiu2GwiRonV2f4jw/EbZP94N+5idhJ1Ng1gdtAP3SfGojQgc58wBMRERERUZ1o0q5duz9Fmqj+CfXDwMlt0FxO51/CzlfSUaB/oTwuCH2pCzp5iCy0OLbkFM5eEFmiRsptbBiiIl1FDsjbm4Bd3xSLHBERERERUe3gD9/U+IR6oK0p0CTToF0fZ5Emaqxc0DZMCTTJ3Lt6wU2kiYiIiIiIaksleja1xO1vdYCPlPrj0HHsWH3NsFum6nWSue0Qft1i2F2rWrgg8P526BqqgZN+Rw4O/v080vTpxqGptyv8BnsjqL0H3N0d4eQgXsCf0BVeR+GVXFyKz8X5Q4VSXrzUWNxIzyYPT/R9qT1aiSxQgrQNR3Fwj8g2cM17tUJgz5bw9XfDH/87it92iBfqgNv4Lojq6SJy1sh19BryLuQieXcG0k6yI6VJgAZBA7zgG+gGz6tp2PLvq+KFG9UEgc/2QHd/kZWUJp3G9/+uuC8gERERERGRPVXcsynU1fTLeEG6KtAkc3OAMe5Rel0kaoufK4Ke7IJ75nZBd1OgqZFxdUWHGV1w9wthuLWnN1p5qgNNsiZwcnWBe4AfQu8Lwx33ldfov4nk5uC3DVko0I8e+hMFJ88ioZEEmmQe/dqhU2hLuLdwaABdE+U66opWoW1w6+QeGPJ0KzR3FC/d7Dq3RoR0X/t4u8DJLg+wP5HyxWmk5BoCeqW5WfhtHQNNRERERERU+ypuqzookyuXloqEUUsnNNMnrsmdTmpF0wA3dJrRBfc8F4aIEJfGOw6wqzf6vxSGru0s3mNJCa4XFoutBJaXhAx0e1Kw88VD2Pz3w9j5cQF0Yj/VoMICpJ+7YrZdySk2q6NOAe1wxxPujTM4XB9kFeDIa4elen8I37+WgswssZ+IiIiIiKgWVRyr8WtmGMJkJaDUrKVxHpwiXMsQyRrkPq4L7n66E0JNAZhi5Bw6jR+35ehzjYZ3S9w+PhCehkie5E/8kXQB+5ZIjcjZR/Hj3ASxHcX3cqPynRP4dX86rlxh6Inq0OVM/PbBBbNt3+sJ+H7u70hIKxF/BDgF+yFQNdSLiIiIiIiIGpcKg01KQKkEunyRFJxcjWO6pNdyRbIG5R3LNfVQ0aVfwq/vJGDP6gJcb1TdVhzR4bEO8DEFmgqRvCYBO/59BVcuWJ/vpjS9EJnrLuHIliKxh6geKSxC8pKzSDMtiqaBd5hIEhERERERUaNT4QThygTAZSfe9p/RE7e2kxL56dj1yiXkGXbXIEd0eDoYTr+cw8n9quW8B7bH0BhPkWnYE4Q7Se/lLum9GKKAJciM+x2/7lB6hVSZaoJt9QTvzXq2QthgH/h5uoh5oP6ELicP5/+XipO7bAet5MnKvfu2RJsO7mjVqhlcXB2ViKU8xC9Pi/SEdCRt0+KPyk5WLs+/NcQfwSEaNHdV5iEqvV6MP/7Qobmnq2GfzQnClUnsrbuG0x8fx8mTIltZLVzg/zd/dA5zU87L9B7TcCquENIp2uCC0Lld0KmFlCzMxJ65F6WaKZVfqCciRviZl3v+H0iPP4+EuKIywyIrnoC7PDV/L5id34Wz2LzE1iTXqvKQZMYdkuq1IW2VqzP87/NDx44t4dZCqWOl16+hIC0HZ7ZlIO1UJScbt+exHB3hGdMaYRHecJeO5aSaf0qur7qi67ialY3TH2Tpr7eJeqL7G2CrvEzPYBvKLOpgi+oZemXnYez7TioP6d72ubcduvZwh1szMZy6uFgqswwcW5uJzHTDrnKZyt5DKvtKzDFW2UUAiIiIiIioXnNo2bLlP0XaQG50TA1G58Ft9Fv7NsbWlCvaiH3GrU1L8VIzNwSp9ge0zsW5BJut8GooRc7+bFy5aNEkD/ZA507GJb+v4dKPubDohNVAOKL92CD4iBZp6YXz2PNVYfXmZfJ2Q/CtLfRz5OjSs3DujBM6Pd0Ft/f1RMvmjnAwtf6awMHVBa1CfRAUVICUg2UDH3JQJ3J+J3QOaoGW7s5wcmoq/SuVpk3h6NoMHkGtENyvBYrTs5FzWbxmlQNaPRKKv45oAz+fZnC2OF4Tx6ZwdnVS9hUV4PzPBSgbCnNB28Ge0IhcWcXIPpiFK1dEthKaD2mPqImBCGzjYn5epvfojZA7muP6uRxctdqrzxHed7ZGK7mHmlMRsn4qgGZSKO4Y7A0Py3Jv5oyWwT5o36kQF+Kvm5W7c0Rr1T1YVTV/L5id39UcnPrV1koBqvKQ5J9KR9p5Q9pS83s7YKBU9gFtmqNZM8s64Yhmni3QppcfgqTySj90HbpybhB7Hsspsg0GTA9Bx2A5+NhUdQ0N5PrqKF1LjWcpsizLXXUf3gjtmXRcPCcyKi16q57DVujv+co8i9XP0JwcJDfxQr+nOqJjkFT/HVWlJtV/55buaNvbA03SpHuqnPvbqX8gop5oj3b+ZcveJpv3OBERERERNSRlg01mgZsbU+kGjr00lmCThyfC7m4pej8U40LcBVyq7sTr6mBTfgla/a092nuIVnJxEfLScpFzRbpWLZrBWex29PZAc20GLqUY8gpVUEfu4XP9Oq6m5iEvtxAFuTqUOjrBydiodHRG664uyDuYiwKrHSsc4D/jFtzeydnUCJV7muSnX5XORzqe9k80bSYdT93QtdkQbYpmnZqgRH8exq0UTp7OMIRBqhZschvRCX+JagnjAFJdzhWcjc9E6uk85OuawNWzGZzksnJ0gW83FxQclerbH4a/VaiDK03g0s0PIUHivZZYL3cHT3e4l2SaBRWatHKCxum66n0VQufSHK4ianE98wqyMtXvW71pkRn/h3RH1JxKB5tCvdG9rzHYkoektTnIs3Ji7uPDENXXzbTKpb4nTWYOsi9L7+d6EzST3rgxyOPo6YmAzoW4IP0/rcWI7HkshPpgwEP+cBN/L9f/P7LzcSVDK8paupYuDmjSVA5CWXkGSfeFq9+fuK6+PjpHuGnE2cmTq6fmK69ZbFdOSPeFlXnxHP2d4Vxi/rfq+nEjwaZSJ1d06OsNN3FZS3PzkHGpAH+UOMK1ufQe5Z1NndCqI5BmKzDU1Q8DHvCFxlhe10WPx99zcPWPpmgu3Rj6e0jvT+QcTcaphFxknCnA1WTzSeWJiIiIiKjhKTuMLkCDwFuMzWwntOnfFj5yGyQnE0cOqFvUzRE8yAfuUqo0/RISEpVGpi4lF+nHKjksxR4ayzC6KOl93CveR3EWfn0xBZmG3I2zOnynCOk7TuOgetiWoyMCp3VF9wBD47f01Gl8/5HlYBZX+I92QMH/tMhLt359m3Zuhd4PtzP1YMnbm4Bd35Rt7Da/rzMG9jP2RSpE8rozSFAPjRSa9myLqPE+hvOv0hAb9dC6KgyjC/VB1OS2cNNnSpC57Rh+3WJxXq6u6DS9k/SnIlCQdh5b3s2xWPHOfNiY0fVTSdi1Ik8ZfmdR7ki/gC3vXCl39Tz10KkKh6PVsMoMo5PrxG1SnTDOQ1YQfxw711iJNPULxJD7vEVAqgQ5h87itzUF5kMVpfLymdARt4WLoZWSKzuPYt93FkNN7Xksic/j3XB7Z8M10knvc+eHV20OoWzqLf1dViVWilQ/t8odglg16vpxI8PoTK4X4OSaMzh9VLnXm3Zrg6iH/EwB8eQvE5BwQJ9RcUSnf0QgVBzOanlJ91DXmWHo4CHydnz/RERERERU90y/LZukapGyJUds+TBOu1N6+apqv7wVmHpMXLuUa/ZarQaaGhE3H9XcPFl/mM/5oueKDlPb4TZb24hK9Ei7noMj7/yO3yznByouRkp8jmlf0zZuIuCiVoi0dQU2A02y0lNX8Ns+ZfYu9wArg9sc3RB2u3F/kdRgPWE10CQr/aMa81VVWRME3mMMNMkN9VNlA02ywkKc/igZmcaX/FujfTnz5hgVHDqB7R+pAk0yudz/dwWmUK13c1g0+RuO1j4WdTIEUa/2wD2PGwNN8uqRp7DHWqBJDlBEGYNDhrLXT/5vWfxSeWV+fgL7jin9aVpF+liUmT2PJXOBZxsRDJTqa9rPtgNNstLKBJrqO/k5sfS0WaBJVno0HUmmuZoc4dnOyhDPEC+0NRZi8RUcshaYk+6hY9+mK/Xe372cOdeIiIiIiKihKRtsMuMs/wCtd01r0VoIdTU1ygvSK/HLOVXMbMhYsZXeLc7wDm4FP1tboLFHmg2FV/Dbe+eRYmti3ys6uwy50p3RwtQHzr1Z2aDVAG/4G9uo6ek4UaZnRB3x8EKAaUn+PCR9X05p5F7F+bPGQJgGbXpZaXSryL079qy2Mf/WgQKY+nQ4OkhN+AbK1c2iTqomli4pQvqBczjyjdZ6r61QbwSqAhSJVgNSipxv0mAaFanxgE+oSMvseSw96V40RUWc0bqn0hOqcSrE6dW2nhN/4solpTwdXa3U1qDmyj2fflUJylo6mg95JKmeo/RZY+zlREREREREDV75babyAkqtnGDoh1OC4vLbclRfFBehIEukrTmZjh1/P4TN8laJ4WpN/Rzh3s8TgUMstu7NlXlyLGdRlviEyIMvDfLOXi13yFit6tECrUQSWVeRbnXib0VOmlakAPc25gMVzV3D+a316H3WBQdn+PXqhKhXbsFtQ8oGRZ06apShnmnlBCiMcnORZgqGuKBle5GU2PNYBsVISVR66zUPD8PdL7VDUC9nNG2wkcFyXLiEk8dEukY1bZzlR0REREREFQSb2riIRpuVgFILJ/GPddBWYZUvqo6r+NUYDDJucWUH29UoeSnzR0Jw18KeuOe5CAy4rz26D7LYIltCTM9jRRO4uptCUbh2taJIQO0xG8bo0Aw+lkE0i83POGeTzEHVK+1mJc+7Y1E/v3/nBH7dn4U8Vc8gv0FhuC3KvLyatVQCUH9cUeZ/s+1PFOYpQyzdWinXzp7HMtJ9dx4Hzyl1talHK0SMuwX3vNoNA19oh9AhGjSvxCjWm8LFa0rPRr+W8LEVUOrVQhmyWHgNeRUEd4mIiIiIqOEwDzbJk4OrG9TBxkbbn3AMUO2Xtk5hxjl3SuDSXvVaBcOJyLbrV1XrOnkqvcrqDe+WuO2lW3BruDuaqeIsVdMMLqZpnK6hwNaQvrqgHsbo6VM2iGa5dbUyHxWZKU0vROa6FOz653GcNgUTHOAX5Wc2N5KbR9kAT0X+0FrvK2bPYylKkPZBAnZ8m44rhap5jBwc0Ny7FToN6oyBr/RA1JOt4O4tXrtZnczFReNSfI6t0POplqb5s0zkCcLv9jEFpa8nZVuZo46IiIiIiBoq82BT59Y2GtOO8IlU7Ze20ABjUEmDQNX+7qYVxqiqdOnXlAlzWzSHZ72K2zmiw2Md4GdsHZZcQ/quU9j55uEyvVk2f3xJ6dlQLhc056zAN4fiazj5Q6ZSvzUt4RMi0pKC3KqPxW2uUUIYpcXKbFj2PJalP3Zdwr65h/H9x6dxMvEq8tSBJzSBW0g7DHg+DKFdxa6bknSt16WbngFO7Trgrlc647bxrQw/VDwSgoHzVCvRXc9BwkbjUhRERERERNQYlD+MjmrXkavKhLloiYC76tHQrFBvtDf12LiGsyuP47dvtSjIsr0ynXXX8IdqhfOmFdVANwdl/qcaVqAecmVlSFi5G5dtr5h6InRIdVsdTC1W6lFzjwomutdzhJuXUjMKMlW9Au15LBtKTxbg9OdnsUsOPL15AgcTC5Q5uRxc0WmEjzJv1E3IvUdLs/ff1FUDv57tDD9UhLujubG49avena9wfjQiIiIiImpYzJv6O86bNaAPXhD78y9hp2r/5r//rgyJSb+ALerXGniju1nPVoiYKjWKxnvC00/srC3FBUhNVuaOaRXpB/f60ruprXH+Lkl+Di5UYwLhgjxl7puWQeVMdOPoglDVUJsad/4PpUdWfRzGaE2Z8Un1mL9xUQFZCXTGoVaSglStslJfoIfteX6MvFuijSn4mYfLh0VSYs9jVUZpViHSPj+NLSuU3jzw9ICfaWXDSmhMYf9ebdG7p+G+Lk29iCOHriAvv0S5JiUluJ6Th+Qdx/H9P8tZHZOIiIiIiBqscpo4zmhhXDRMq1OGv+g1lacqMbC6RH/D1HxEJ0SPb4eg4FYI7Nke/ae3h38tz7+S+ZNqFbgWfug92a1BxRPg545bH2hTbq+OnGQlytAsyMv6cEE50DQrDJ1qczn0k1dx2bjAXAsfdB1SW32qqqbgijJMzDu4QYTE9Jr384JpHUJtPnLSRFr2aw7SjTFIx1boOra8eZcc4P9AW2XOp7RspKl7xtjzWFVx7A/VCo4OcGohkrakX6/cRNoNjM+trUSA+BrO/5iJlNUXsOuVo/je+IPE7KP48fUkJMRdQ6kSdyYiIiIiokaknGBTeQGlZnATDanKrfbUELghrLebeYE088Qtf6vlJaZOZuLgIWX+kmYhnTDw723g37mOh9RdVQUcW7RC5/4WgRhHR/iM7oC7nguBf0XTdu3KQpqxkanxQfeHNOYBNTlg9XIXdPKU3vP1kloMZhYi6Ygx2uQAn0FdcftoVzQrJwjQtJ0Ggfe61V7vK0leulI/moZ0wO1DrJygYxO4D3SrH72z5HP5Wwfc0VupGHlHLptPCF1cgFOqeu/WszP6S2Vf5gEl17OJnXBrO2P9K8Tp73PM64g9j6XnCPdezmhWbvCoCdz+5q0EraRzyDkp0racUgWnxETa1upa09CW8AkVmQbA0cVYnk5wC2okETQiIiIiIqqSJu3atbMx6U5L3P5WB8jzN/9x6Dh2rFZNuhvig6gn2+obsnl7E7Drm9r6edod3V8J0p+TmaYOaNbMGIz5E7pC1ZANvVwkzE1B+aM1lPdr5lwSNn+QJzK1xQH+U7vi1mDzhlrp9WL8kXMVBfp2tCOae2vg1sJRaUTL8wxZDmMM9cPAyaKnkTwc8hVVz6kqcUXEP8MQZIoXSOWck48ruTo0bdEC3t7OynmU/IlShyaGvI3/p9vYMERFKoG80kItstKlOmZ2rCKkbUiH44h2huti41jNotogoqtl/69m8Aw2BoFKUJCWiwKzuKgOqRsuIV3du0bPEYHPdkV3f3UwTXmvBlIj2q85mjk7wkn+M6vn5YLQuV3QSR+guIbTHx/HSZvBB3Xdy8HBv59HmdNSc5SuxcvqayHXjULkpP2hD5Q4ebSEu7t8bpU4VjW5je+CqJ6i51BhAdLTzYPPyrmIHRKdVE93SPW0TFBH7s32glRm6t5sxcUoyBJ13rU5WrV2VR2rBFd2HMO+OCvPH3seS319pGNcL7yOq1nXlGeMfCxv6Viq27Wyz0XPibegf1fVvFIlUl29LNVVcY6eni76Z1tm3CH8usPwJyb+7ug6wqNML8Jmfq3kUaB6pblXkZljfh5/HEvDsZ0W5zawPYbGiFCZteeIivqal/lskJjVCZlcZqaLrUNBuqGeyq5n5iPjRB6yEi2f2URERERE1JCV+bHfRDW/SnGhRcOkmYPpH167WnGDyn6aoJmrY9nNFGiSNYFTmb9Rzte2PFwq0yovQfox1cQytUZeZj0RO3dcwR/KFE5o2swRblJD0i9Y3qRGvDrQJNEV1OS1KETCmosoMJ2PVM6e7vpz8VEFmkrzs/Dbe+eQJfK2FKw5jYPnlPOVJxD2UR+rpBDJa07g4J6K35OTv4coE/Wm7m3kADd/y9c90NJqT5VipCw5gSNJqmCC6r0aNne4SfXKFKgoqeVmcrF8LVKQo4rrNG3milbi/Fp5mgd3ao2rm6qMrJ1LMXIOnbIeaJLJK9a9eRzHTGPgJI6qOu+nCg6VXEPKd7aCQxJ7HktNOkazFoa6anqf8rFMgSbpPe49XukAfM4XSTiWqbrJHaS6qjpH82ebhRbNlXNQbcZAk6ypR8uyf+Nfs72NCtacw+kc1W8YcpmZnsVKPZW3oN7tcfsj3XDPq53QqVsd994kIiIiIiK7cWjZsuU/RdqcvztCbm2hH950NTENF88ZdutFeOOWTnKL5hoy/peFy5cNu2ueC9oO9kRFo7TKuoZLP+aiorBR3pGr+LOLO7zcHNCkuAhXfjmDX3+oXKOxJhSduYpze7JwpaQUTu5OUuPYQWq3mffgKrySg0u/X8TRTy/g2H4rTXhvNwSL64iiApz/uQAVr7Vlw2UtzidexfVWrmjRQjof47nIPUYyM3Fy8zkc/FIq5wLVdbL5//wT+fGXkSY1RL28m8GpWVPIR5N76GSfuIhfP0hFarLcYK34WM4RrdG+TVUb0MXIPiiV7RWRVSstQd5vWUg6no9rbk7QtJDK3clwfnryBMfXr+Pq2Syc3nYeB7/Kt5jTTOYI7ztbo5U+4lXO/0tPXa8rV1dx+Q+k7MtGgYcDNG7OpvKTyT3gtGkZOP5dOi6m12wgrKKyl8+lMDcH5/em4shnqTh7SFd+D5bSYuTsy8SZC4WApzNcm6vqmVzuVwtwMT4ZB1ekIfVMBe/NbscqwbWWf0r/1kG6B5vgz6ZN4aCO8so9d+RjHb2Aw8tTkZRQhWeGfI57M5FW8idcPJ30veVMx9YfN196BpzHyZ3FZWOa6nu7CnTpWThneY7BHuisf6ZLrubg1K9la7SR+ppbPZZ0/k6dPeHfyhDNk+tAka4UJcXG7U80Vd9PMkdneHdviSYXyrtPiIiIiIiooShnGB0REVFVNIHf1AjcFmwINMlDJnd+eBXXrcXfXB3g3tcHEQP94Cm6IZaeOo3vP7qxgb5ERERERFR/qH+fJyIiunGhvugqAk0ovoJDtgJNssIS5O24hN8OGCfllz6Q2tSTSe2JiIiIiKhaGGwiIiL7aOuiTFheWIQ/KjGisLmHai3HnMIbXMCAiIiIiIjqEwabiIjIPtTzSrXwQLsKJv1u1rstundV5vy6cqa2V/4kIiIiIqKawDmbiIjIPhzdcOs/O8Hf1FnpT+hy8nElU4vLKddFLKopmge2hG+AO9w1SjBKnt/J5kqFRERERETUoDDYRERE9hPcCrc/1g4+qtFx5StGzqFz+G1Nge35nYiIiIiIqEFhsImIiOysCZr38kLIX1qhdatmcHF1NBuzXXq9GNfytbiclInkLQXIyxcvEBERERFRo8BgExERERERERER2Q0nCCciIiIiIiIiIrthsImIiIiIiIiIiOyGwSYiIiIiIiIiIrIbBpuIiIiIiIiIiMhuGGwiIiIiIiIiIiK7YbCJiIiIiIiIiIjshsEmIiIiIiIiIiKyGwabiIiIiIiIiIjIbhhsIiIiIiIiIiIiu2GwiYiIiIiIiIiI7IbBJiIiIiIiIiIishsGm4iIiIiIiIiIyG4YbCIiIiIiIiIiIrthsImIiIiIiIiIiOymSbt27f4UaaI6pek2FI/fPwQhSMKWrz7C5qNa8QqRHWlK8fyUPIy4XQsf9xI0c5B3OmHvojZ4YLv+L4iIiIiIiKgaGGyi+qH9ZCx5byRCnEW+6ARWTpiJL+0ab5L+H99L/w99Ognr75mBj/Xp+i4K8/87C5Et5bQW8W+Pwbwd+heoqsIKsX3hZXR0FXkTBpuIiIiIiIjshcPoqH64q7sSaJI5h6H/OJEmsosSfPYPdaCpCfJS3PHTRm9s3OiJHUliNxEREREREVULg01UP6QVwLwTUw4yEkWSyB5G5qOfr0gXabBxViAiJnvg0Q+a4/8+cMFH58VrREREREREVC0MNlH98N2r+GhnCrQlUrpEi5Sdn+Pd/YaXiOzh4YhraCbSl3/xwP8dERkiIiIiIiKyKwabqJ7QYuuiKRjzt3twz9/GYMqirRY9nYiqJ9y7SKQckHJcPys4ERERERER1QAGm4jo5uAo/is99q5dFUkiIiIiIiKyOwabiIiIiIiIiIjIbpq0a9fuT5FWPL4E399nWCA+Y+eLmLjoCKDpjqGPP4JRvTvAt6VYNqykCDkpv+Hbf7+LL4+WN+jJEyF3D8Hfet+OLu0D4euugbN66fEi6TiZxxEftx6ffxOPHLHbmqh5azGrt0ZKqZaAt3luR7Dli0VYuc/2uXl2Gowh9/bH7Z3bIdDXExpX1ZJo0jGK8jJwPH4L1v9nPeKzxH61gfOx9vlIaIzns78fpr4+DUM7eepf1qbuxEfPLsJW6RQ0fadi4fTBCPGU/h/yvES//Rfvzl+PE/q/rGmeiHrsGYz6S1cEekvlX+EoIitL7Jveq/Tq/kUYM3+nlNKg+7DH8ch9/dFBddyinBQc2fo5Fn2+1/pwONWxrEvC+ntm4GORqzTvKEyeNgr9w6R6ZqwLMulaarOkM5GvsX7HDR7/hhjKaNzQSHRp41mJspfO7pt7MOMjkUEU5v93FiJbymnlunjeNhKP3P839O/kC43xrWozcGLn51iwbGe599HNaNGHF3B/BznlhL2L2uCB7frdREREREREZGcV9mxyc5Ua54NnYcXKNzB1cJh5A97BGZ7t++HhhZ9h8UNhYqcVj7+CJf/3MAb3DkOgr0WgSeYsHSegOwY/Ph8rVszCYNsRiDI87325nHOLxLg50rk9ECh2WpqMV95/Bg8PjkRYe6nBrg40yaRjOHsGovvgyZj/8QrMqvDEwjD5zVmmQJNMExCFqf8cJ700GQtfGGoINMkcNAjsPRkv/F855WYvYQ9j8X9XYdaoSITI5W+v6Wq8h+Llj1fhjScHI8ziuHK5Rd7/Mj57axxslb59adDv/2KxYeUsjOwdYl4XZNK11JgCTbVIMxizRBl1D6hcoKliGgyetQIrXpmMwbeoAk0yjS/C7pXu1yreR0RERERERET2UvEwOt9RWP5MFHyNAaKiHKScTkJSqrrfhAZho57F1MrETYqK9L1ekuRjyNv5DGiN8/ZKnH2jMPX1yZUKULSIWoIV0/op56bNsH5u9z+LcRU1vOVeTIXivem3FGRcNTsxRE1diMntRb4MJ3gNnYahHaSWv9xr6bT0vsQrzgHd8fJTQxEiBwXk/0eq0tfHt+cwdBfpGqEZjPlzxiFM3ytGVoSc0/HYumkzNu8+ghTLuWvS4rFZfm3Tt9hzVuyzxu2vWBI7Ff38RaRDes8Z5w3lliOvKCdobhmHZx+wUvhSHThmKmuxSddNVeJVoMHgecvx8t2BMMVd5J5tqcZjS+dUeGNHrh45+DgVUcYykmhTj2CvXL5b45GUZXFOV5OwU1/2m/HTUbHPCq/hy/FMlK/pvWoz5PtJqq+qLmTyffT4C4NrP7hGREREREREN70Kh9GZlGhxYt2rmPP5EVMQRdNtKha+IoIoEu2hDzDmpc2GjNqwyXhZcwHf7t6DI6pAi8ITUc8sxDODjcGCDOx8aSIWHdJnzCjD6FS0Sdi8bC4+2KkEmeRzWyydW6D+gEU48cUIzPyv/iWVoZj8ohsufLcHe46mWB3u5Rn1DBY+M1gcRzWs0KjMcDAt4t97FPO2ajFy4QZM7ib9QznA5uwM56IkrJ89Ax+fGIz5/31GDIuq2eFckS+uwvw7RE8r6f+/ee5sfGA25NETQ19Ziqm3GXtjSeczRjofa4VhdeibFknfLcNc9bAtTXdMfWs+hrY3FFrRiZUYMfNLfbpcZsevfLloHliMVQ+FibpThJSt72H2e2WHkWkCnsHi5dK11Odqfhid5iHpvB4wnlcO4pdNx7zvzAOh3Z9ciPnDQsTfWBm6qKceRqcoStuLj2e/is2m4Z2W1zIFm6dOwQfnRdbuumPyK5PR3eK8KuXqEXw892Oo7qQa9idiV6Tgbn857YKfXvTBowf1LxAREREREZGdVW6C8KIUbH39UcxUBZpk2qMfYPbXJ0y9UTS3DMQ4kTaz6WO8+t+tNgJNshzsfO9V7EwTWfgi8DaRrEDR6c148dEZZoEmmXxuP501npkzAjtHibTaZnz8xpfYaiPQJMvZ+R5e3ZEhctKZtYsUKeuKTnyNRfIETZLsQp3+v/IwQWeplJK+W4SP9RM0bUXKFf0rNawfhoQbAw9FOPG1ZaBJloPNc/+LI6bdgeg6TCQrUpiEzbMfxQzL+YG0R/DB7rOmeuHcpguslb59ROLZGGNAB8j4YTamWAk0ybSpBaZzqg0P3KacV87u9ywCTTItjvx7Ebamiiw0aHdb5fq55Rz9GLMnqwNNMvlavoe9pn2BiBxbk/3mPBHYKQQhN7QFSv+69gQOyUc/faBJctkVcQw0ERERERER1ZhKBJtyEP/BTLxnY5Jt7Re/Qonp+KLjHSJdZSk4nKL8P7z8+omUbUWnv8Tspz9QBUrMpV8VwZ5qSkm8oASjPP1g+8wysHP5l9YDVxl7sfKjFJGpLV3l+bCFDJxZb6OgsBlHUpTAnGfrSgxiLEzCly/NsBK8EjLyYZ/Sr8DAoejuLdKFR/Dtv2pnuvWKRSHQRySlGnHmQLxIW0rBnjNKMNPTy6JHoRVFZ9djwWxbE8vH49tEVXC0bfnB0UarTxH+NfUP/GtmHr7/OB3/m5kLd/0Lztj7RQt8pU8TERERERFRTag42HT2J/2QMNuOI93UYcMTvhXN26QJRPeegzHuyamYarH9xddJ/JHUJGxq7BNimy77Qrkrue2cPwb33HOPfjOsnFYeDQK7dcfgB8qe19TefjCdWVMnU2+VMs7H4yMbJ5SyfxlshRvqAzeHisvbTFE2LpRX+DvmYYwo+3semIeKSv9Gdb+tnWlYX1HyEawX6YZE06wqZa/FkfUfl1vvj6So5r7yCazBXmU7Me8BcY2rutVgndDrno/hw7MwfEgubgmUS6MJ8s564qNZfnhgi+FPiIiIiIiIqGZUbhhduY4gu7xYlOAZNRlvLF+L79fG4o3XnsHDw4ZiqMXWT8zxU6vkpfJfi8Xab9ciduEbeOahsuc19A7VxNPlKS2y3qtJUlRSiUKyuzPINk0A7ouOIy3mujLSjESIcYgRipCeUts9sG5ciJcyGEt3NV2k6oN41VBJDTr2stXDKAy3BynvISfNDiHJ2upV1qD8CfcOubj/4Wv4q9hDRERERERENcMOwaaKhT2+BCtmjUT3ABvBjroSNhlLYmdhZM9AaOyyJH19sxM/nTAGuZwRNmohJpfpeeaJoS+MQnfjpdEex55vRLoB8HJTwoDZGfWp75gWW44kmXoYed7xDOYPtqz/8gTh0xBlCvSlIH5Twwn01WuxrRA0pB2CHgzAnFhPpBTKO/+Ee3gm/jWvWP8nREREREREVDNqPtjUexZeuM+42pbkahK2frQIMx4uO7Rm0f7a7P0TiVkvjESIq8iWaJG09WMsenpCmfO65+14mz2W6rudb3+EeGPvJucQjHxrLVa8Px/PyMMDX3wDsf9dpVq9rAhJP3wAK+sJNghurWtyMuyqS/loGbaeN4WbEPnMWqxa/gZelsv+mflYsnIV3jCtRAfk7PtvDa4cVxPkVfK+x/ff38D23/k1OLxP5XJTrFzfAn+Z3QrGMJ77bfl4WaSJiIiIiIjI/uwQbBqMwFYiCS2yk0VSiLo7Er4ijavxeG/yDLz3zU4kma2iVQcGDkWk6cS0iF/yKGa8tx47T1tbx6zh0vTvj47qpekdNPDtFInB+uGB3RFoeq0ISZvmYfYnDatnzQXVGM4K5/lq7wY3kawVYX9BF3/zc/IM6I5+ctkPjkSIt/Jazv4PMH2BfWYx0nT2M81jhZyMej1XWK050Ry/G1e7dL6GW6JFmoiIiIiIiOyu+sGm3rcrwYyiFBzfKtJCx9bK0CHtiZ9Q7lzjtSnES2mQXz2Gn+rNidmRZiRefjwS+n5L0rXZ+108kjK0KCrRv6pXVJiDlEOb8d4TEzDj30caXA+u41kFIiW93cAesL2OXhgmPx+lBD5rXBieeX4kQvTxJC1OfLcVR1JzzMoehVpknN6LL+dOwIT5m2GfMKcGozor7zLj/J4avKZS3TmdhKQb2lLs9H4rqwmuXhNJIiIiIiIiqlHVDDZpMO7+2wzBDEnR2V/xrUhXjQbdH1mMab0t57Spe5puD2PxU5FKYKohGfYXdBEnrj36NV5dNg8zJo7BiL8pQwRHjJqAKS99gK2pDTPYlpJ4QQmm+HfHKKurIYZh8vsLMbJDBT2f7KnnMHQ3zsV0/ifMWfYeXnxiglnZ3zNqDCY+/SpW/mbHsEvvafhrmPF9piB+zRGRrglH8PHcGZjx9A1scz+W/jURERERERE1RtUINnli6ItLMc7UsM3AzuVflulFkV1gWoQdmvBheNgiGKDpNg4vf/AZ3rg/rHYDOlkFyvLwLbti2EOWJ9Yd416MxWcLxyGsQUaaJG5OpvmAnLw7KpOANyY7NuOIaUimL6JmPoN+6vfpPRQvr1iIkZ3kkihCkVIda5anRhmy5xmIv3qLdA3SB0ZVvbe0R7fg8wY1BxQRERERERE1Bk3atWv3p0grHl+C7+8LERlJUQ5Ski8g5XgKsqWsV2B3hHQOhK+pUV+EpG9mY8ZHJ0Re5d43sHZadyWQVFKEnEvScQqd4eavPoZEHmIkVoXT7l+EMfPLzmETNW8tZokeULb+pnKG4o21U80CMEU5KUjJKoKzux8C1SemOi953qlFD8yD6f86cD7WPi96Pp1dj3umf6zfLVOfa9I390jlo0/qTV76PUZ2kFNJWH/PDCj/yo7U5yYUFSrRFu0V+TqITEEGjif+ii0/brU9n5b6eJblUEVDn1+CIZZj3ly9EBjgKQJk8hCzdCiD5GQp2PL0ojITmAc+tgRLRqkmoS+R6uvZbBRJxwuRjmdQhIydW3Gh51BE6od91mC5yzSTsWTtSKjuIrOy1+VlID1P5IuykXTiCH7dsgV7rfYwkyfiniXO20CbIdXV88dxJkM6hosvOnbtiDDTe5Vk7cV7T71af4at1gOLPryA+/X3nBP2LmqDB7brdxMREREREZGdVa5nk7MnAjuJiY2lrV9PVZCoMAPxn9gINMm+exUf7VMNE3JwhmdACEI6mQeatL9/iRe/SxK52rAZr360FzmqOXScPQOl8woxDzRdPYEvX9qM2jwzu9mxyLzsJc6uzqbNcB3E1rMfhj70DJas3IAVLw6FKmxRI/zaq/7fxs0UaJLJE5lb/k0g/MSrailS/fvArI7J9dVwPIMipPywCNMXHRP5WqD9GMu+SVJ6z0nUZa/xNdQ1/XZLJAaPmoyXl6/F2rcettIDrQg6nUgK8r8P6z1Yfz/Kk42rA03a01LdZqCJiIiIiIiI6kjFwaaSIvNJjWXSPm1GEuK/fg9THp6IeV/bCDTpabF1wRN48d9bccJicmroJ6feio/nTsCYv6/EEcv/Tw3Tbn0VT8jzFf2eAa06KiD3vko9gq0fzcOEB2Zi5VH1iw1LxgXpvYm0/loWWmxlytwZvndMxdI5tbIwvZ2IOvb5XqTkqK5ViWEC7pWzJ2DKv/aWGeJZ0zLSMqA+nYrLHtDcMg7zX59sMdH5Xrz68ATM+NdK7D2UpH+PlsMBDRO9i3vp6Q+wl4EmIiIiIiIiqiMVD6OzGBpGDYfZ8LKiJGyeOxsfHLUWhfBEyN2jMPn+oejuK/oWFZ3AyhEz8aUhR1U18GWser6f6CGWg/hl0zHvO2sTgWsQ2HcIRo17AIM7Gbs0ZWDnSxOx6JDIkl1wGB0REREREVHtqOZqdFR/RWHyIOM8RkU48bWtQJMsB0k/fIwX/7UXGWIPnAPRZaBIUxVpMHmkMdAkle7u92wEmmRapOxbj/ee/honTL2VfBF4m0iS3eQVNREpHXyCRZKIiIiIiIjsjsGmRqsjvEwTSuuQf7ES46rae6rmakpHyn6RpCqKRGArkZRkZ8WLVDna+8HTNGGVFtkNcpKw+u1CtpNIAYEhFpNgERERERERkd0w2HRT0KBjVPmTfmu6jcMbo7srE3SnHscWzvtzg4qgKxVJSWB381UPy/COwjP/iIKvyEJ7BvE7RJrsZuVBF1wX6Wa3XsF/h4gMERERERER2RXnbKonhj6/BEPMZ4W+cSlbMOPtnzBu8So8HGYKHwFFOUhJzkD6uTPIuGbY5ezbEV3aB5qvwFeUhPWzZ+Dj8uZ9b0S6PzYfk7t5iVw1XT2Cj+d+DOdZKzA/yhQ+MkxWnpKO9JTjSDGOqPMMRJfgdghs4wlnB7FPnt/pvScwj0vJ1YBSxK5Ixd3+IosmyEtpgQMHnZGHpkj43gUfnRcvERERERER0Q1jsKmemLz0e4zUT15sB8ZrpumHZ96ahcHtVQGnChSlxePLfy3Clzbnd2p8ouatxaze5XU9qoKr8Vj0wDzsRBhGvjYHk3uW15/MwtUkbI6diw922prfiaot7Bq+fz0Tt5S53Jw0nIiIiIiIyF44jK4x0+7Fe1NHYMLcj7H1UAoyrlpZbr9E2nc1AymH9mLle1MwYfK8myrQVHNOYP1LEzDmifewfv8JpORI5WyaAFxRVJiDlN/jsfmjeZjwwAwGmmraCRfc81AgXv3WXbomDrhueT8QERERERFRtVnv2URERERERERERHQD2LOJiIiIiIiIiIjshsEmIiIiIiIiIiKyGwabiIiIiIiIiIjIbhhsIiIiIiIiIiIiu2GwiYiIiIiIiIiI7IbBJiIiIiIiIiIishsGm4iIiIiIiIiIyG4YbCIiIiIiIiIiIrthsImIiIiIiIiIiOyGwSYiIiIiIiIiIrIbVbCpifgvERERERERERHRjVEFm/4U/yUiIiIiIiIiIroxHEZHRERERERERER2w2ATERERERERERHZTZN27dpx/BxReZzdMfGOLohoXoiE+N+xIr1EvFDH6ut5EdWwiKBOGNvLD0g7jjW/ZiGhVLxA1Eg92fcHjG4jMtYUxOP1rXOwQ2SJqCF4HP8eOQodRc6aM/F348kUkSEiamAYbKoxQVj8XH90EDnkn8DS5QexTWRrTZtuWDU+HBqRLSsNG9/ZiRUiR5bcMfvxoejjLrKlOdj1eRwWZ4v8DfLwC8KMfl0R5u8OTTMHsVdSdA2664U4se8nzEm4JnZaUzPnRVTfBYTfgXeHBMJJ5HVnduLRjWnQijzdjOrJ520NYrCJqDFisImIGjcOo6sxecjJF0nZn8UoEklqQNq0R4QxoCNr6oluPdQ7qsoZE/42DJ9N6I9ewZ7mgSaZswucWniig4+z2GGD3c+LqGG4q6sSaJI5dQjBWJGmm9XN9HlbhAvHvsWmgxZb4v9wRvwFETUUh7HN8l6Wtv9lsMVARI0DezbVGHfMeXwoehnb/3mJWPjRUfwisrXG1RMTunrBTWT1WgRiUC9/0WBjz6ZyuYZg6ZO9EWAKy5bgZNxXeOGYyFbRgIFDMbOnKihUfA0Zly5DWyxnHKDx9oKXqwuKEjdjwvY8/Z9YZefzIqoR8vMnsiN6Bfoi0PEClnx+FLvESzcqZshITAl3ETlJ9lEsWJGIAyLbsDljUHhn3NlZKi9/Z5z4Og4LL4mXqBz15PO2Bik9m7T4ddso/KOcjwfrojFrwxAEi1zFkrFpxDLEiZwtThE9MGzUIPQM9UIrV0fDzpJiFOZfROJPP+C/nyeh0LC3wXO9tS9GPzII/YJaGHbkHcayh1cj0ZCrHI0PIifdjXt6haGVh6PSQ7MwG6mJ8dgYux0ns8TOitjzWPWcU9swxEwfgUFdvMT7rFz9lIW/NAfTIsU1q4S8+E/xwmsnRM4WV4Q+ch+G9w9BQKsWcBK/G+oK85F3/hA2rv4B8Qn6L3Y3ZOAtX+MfoYYxCezZREQNGXs21ZarV+vmi29hDlYdSEKsejuZzV5WlVWYhCVbkpArf2coLUHuqd349EYDOq4hGNtdCTTlJmzFo++vx5Q1uzFzvbztxJTl6zHm/dXlB5pk9jwvopriEYh7Ijuhg587nCrorFdZcT/+hF2XxBDTwgzs2tpYAk0yF/Tt2w0Rwb7waOZk1oOLqqCuPm9vKq7o8ffn8c6C8RjUw0cJNMkcHOHqEYTI+6Zg8cpJuLOz2N9AuQ6IxpRl87F47n1KoOkGuMaMwbyPn8ek6HD4qYJDMidXLwRHDsEzsXMwbbyX2GubPY9Vn8nBzFFvz8E7yyYhxhRoqltOEQMwbeV8PHNfDwT7KIEmmZNrC7TqMgCTFryCeTPD+Awnopseg001Jg+pV0WSGrSTx/bj0fdXY8S7X+HRb9NwUuyvKk1YoNITKfsolmzNQq7I3gh7nRdRg1Kag8Wr12PEO1Ld/2A7Fl8U++kmxs/bKtFm4tyZ5Aq2NNjuVOeI8Jeex5T+PkpjuqQQV5IN/+6KoauugXsYxr02DTENLuDkCPfoIZj28etYPHMIerR1FftvjFP0ePxzSiT8TIcpRmFmmr6sUzILoRN74dAC4WOfx6xJtoNE9jxWfSX3Invo/Tn4lxzM7NjCTkGbYuRdtKznZbezqeX82Nc5Gs/OHYpwVQd1Xa64ny5mQ2dap8URfgMm4dWXGHAiopsbh9HVoIljx2N4oCEtT2I7ZmOaIVPXzCYN5zC62jIgehhm9jAMaNQermCYHFFjoH7W5CVi8UfVH0bXuKmHgxXgwOpNWMBhdJVSbz9v7cSuw+jObcFTz27X770RTsMm4c1JYTDEOoqRvmc1Fr2VaDZcTu55M2tSJPxES1t36hs8N2ufEgip11og5t0XMSxY1VurJB8nt67GTu/xmGIcklXZYXSaHpi2fDzCxUotusx4fPqPtTisHuLmHY6HXh+Pfj7i/6lLwpePxuJny5UP7HmseqrHi3Mwpbe6B5lUx+K/QWzm7Zh3b5DYdyPD6PIR/94CfLrTsL/qvDDqw9kYZJyoX5uErxd+gm3q4XIaHwyaNw2jOhsjgdn4+bWF+DJeZCuJw+iIqLFgz6aapPr8KSooECm6WYW0UmbOyslmoImIyG74eVtLgjBqqDHQBOQdXInXLQJNssK4tXj934dh/KRz6nwnxkWKTL2Xjz0nMkVaeo9ntuO9KQvwXmySuppVWvCUu03BITlAtfxZi+CQLCsRXzy7EvGmAgvBXVONgRWFPY9VXx0+nGyqT7pLh/HFnLmY/1o80k29huqG09gxuNMYaNKlIW5+rHmgSabNxLZZ7yMu2bjfC/3G9GXvJiK6abFnUw2yV08WTTNPjP1LOPqE+MJX46yECIuuQZt3GScOJmLF7zlILRX7K1KNnk0eGk/cFRGI29q1RYC3Rjo31fmUFkGXl4MTvydiw8EMHKjkxFAefkGY0a8rwvyk47mqJnYpLYHuug7aq5eRdDQeCxLEPC3l0Lh7Y2L/7rgt2BMe6nODdKxCHYq02cg4k4iZe2zNmmmxhHYZN97bQP3L+9ntqzHzsCFdOTVzXoa61R13hnrDw1j2put4BGt+zUJCBfVKeV+quuTsjol33Io7u8hzz4gJDYoKkHH+ODbsOI24BrROvXIfX0PC+vWYc85Qbg8O7oMB7d2hcVa/v9+xaksSdtX2pGhNHTDollsw4vaO8HV3gZO+3st1XouMcyfx3R6pzCv9+HHAgAjpWLe2R6C7K5yM709WLNUN3TVkpKfhwI6DWGE2DrSiOlo+W89I9XPUqpQ9GLEmWWSsMx1D9K464B2CBffdhg7u0nsrvYbU+J/wwv9yIFfLPj3vwJN/8YeH/L4LpefY1t1YcMbaBXVAh0Bf3NM5EGEB0rO5hVRW6tUlpedzbnYKfvvlOP6TVGB1yKz6mVBllegpFhHUSbq/QxHmpVGuY1Xub9Vnhfr6yMd9MKoLOni5Geqa/KzOy8DR/b9hcWKBvhzLY89nvpH9eo664Y4Zi/H3YR3hJhVZdsJ/MPfpT1HXU+LVm55NUePx5jM9oO98V2GPGUfcuegVjOts6GFTuYmX6wlNX0x7vxtSVq7Epl1KKM1ssulK9WwKw6SVkxCpL7BinFwzF++tth2ycho/Be+MDTEEJ8oc357Hqs+CMO79MWi+eyW+WJep9IabNA0fDqurnk2OiHn3dQwTM+xf2bMML79VzudO5Bi8+lIkWukz0rlOkM61Ct972LOJiBoLU1Oc7G/X9k2GeUWk7ca++DpjePRgfDY1BsN7BEqNGXXwROLsAo13IHoNjsHMbmJfjQrC3CdjMKF/OEIDPQ2NBPX5NHWGk4cvIvpHY86UwZjZVuy3pakbpo8bjc8m9EevYHE8NakB7eTqIjVMpMacj8VrZUhlNWQoVj0+GIO6+hoCJ2a123Asjbc/OrQ1/ix4c5Mb1cv1dUtqWKvL3nQdB2PB1ChM9xb7KykivDdWTRtqOK668e3sBt/OkZgySaobxl8HGxSp/rQ0vD+53GI6S3VWHYjRv7/emPnEHZhYi1VM4x2CxU/cj+mDwxHgYQw0yeQ6746ArlKZPzYaS3u7iQCzbRrvTlg6/X7MlI7VwdvNPNAkc5TqhnzM4AAEmOYLaWA0QVjwQG9DoEnW1AUBvaMxtyMQ2iMKzw0MNASaZK6+6PW3OzDdWsH1uAOLx0ZhUI8QBMhlpa7rMun57OHXCYNGDMNHD4dhUG1+2mp8seCx+7FgdCQi9JOzq85NfX9PG4w5HSt6tqo4e2P2hNH644bK79n4nuRntYc/eg0ZhuV/80eA2F2GXZ/55qr/eSsMn4+/32cINMm8Ih7Eyy/1NmQIoX1DDIEmie7c0XKHZrnG3Ico1VA096AuuNHYaq3T7sOyybFmgaYb0j8CoaYCS8ahcoJD8vC3cVFBSi8Y93YI7yHSMnseq15LxpdPv41P1YGmOtcPEaalHLOR+GM5gSZ5KN2YcBFokrVF6L0iSUR0k6nNr79UJc6YOHYYJvbwVr7Qy7/65mbg7LkU/Zaaew26cr5r1Cj51/HCPKSKczl7Lg0Z+apf/6VGyYCRUqPbZoNUen8j7sagtqoGxXX18aT3l1UA3fXK9ZseMHAwJqpnbJR7maQoxzqbniedb2W6m2jNzsGwZVX4S70Zj0DMkd77Youtjypo49u97OvKFoYY8XcKO5yXygCpoSk3qjWibumyU3Bgz37E7YzHgVMZ0Bp7OzTzx6AHoioZPHFAh+ihWDAkRBxXqa+pWaoeCnLdGByGXiLbkPh2G4y5qvenzUozvL88VT1tFoh77g2y3eC2pzZhWCwHTozX53oOzh6Ol67jfmw7nITUfHFeTZ0R8Je7saBHOQ1410AseCASAc1E3uJ5Y7jHy3vmWKmjF6X7TryKYvP723I7kWn9/szJTC3zt2blXRXNvXDvvX3QQS6GfOm9XTbWS6l8OnXDlDv89Y0zXXaaqux8EdHTxZC2pUgqF3VZpeRAW6Sco1PrWzFlRGCZOpF+0fx9nT2XYVhhUq8EuWVeV20XcpAj/tKMJgiLJ0UjwsMYYJKuY36OKHvpGmpVZSfdi73+NhhzKvphQObWEYufGIw+fqIOFV8Tz1j1OUv/+879MKOLyJix7zO/pkTf3gmW/ej82t8qUjc7R4T6iV49kvTTtiaiMaxU96Y8ibUp2iHx8UeoSN4snLq2NQXnkHYee0XSkn51uSUPK/Ms6XmhXXeRlNjzWFRF0QFK8CjvAhJt9EzXr1T34fOqOZtkjmgTEiLSREQ3Fw6jq6cGDByKmT2V4In23H7EbrY+PCegTRDuRDJWVXYI1Q0Po/PGxAHOSDmcgX1SY89aoEP+Jf/VMVKDVbQnMvavx5T/WRkK4RGG2Mduha+cLs3DgXVxWJBio5HR1AEdnEpw9rrIl+GPN5+OQqj+e1URzu7YjDmHrtkIxEjHkt74WXWDq0Lq4UGVGK5mVr43orLXpIrnZSSd32fjwuGhD5jYKC+5B8O4KPRpLS7kpf2YvjoJqYacGWtDgXSXE7Fmw1GsVXUw8AiMxLKxnUS55GDXJ3FYXJ3l+GqJ1WFc2mSsXb0Hq1TvL6JXFOZGGYIVUs3Htg+2Y2k1fxQvnztmPz4UfcRjQpeyH6+sS7IYFuWAmAHRmBTpbTiv0gzE/Xs7Yq2cV8RfYrCgt6chk3cCsZ8fRJyN+Kw8fNZTV1Tx0F31vWDHCcLNrklVhtEZSe9v6ScHsa3UGwumDkaE1C7QFZfAydFBKsc9eFk63sm2t2LVuDDDuZ/bjRHrLcYxBAVhdvM8fHc2BwlWn00OGNAnCjP6+4o6UZk6X90Jwt0w85FhGGAMbGtTELdhL2ItJjvRP6dHqwKL2tNYsTweGy2vp7VnWek1nN21Da8cyFOGBjZ1wZSxwxHT1hDgsjpBt12f+TXHbeJSrHuoK1QhMRQlfIq7n/6PyNWN+jGMTj2My8aQJO8QjJrzGAYFqQMdRvnY+9YCfLFHZBugqg6jU/+99WGErgidMQXToo2fHeby9sfihTeS9Gl7HqtBqsthdOr/t9X7xxF+o8dj+gPhaGXRyVXvzGY89XzlP/04jI6IGgtjnxmqT1xDMLa7EmjKPRyHJ9bbngcm9VIVAk3VkoUVu9KwzUagSZabfhoLf80QOcDXX9+0KKu9n6HRIcs4jiW2Gh2y0goaHW28EWD8XqtNxo82A00y6VhVCjQ1Ns6Y8ldjoEkqroTt1gNzRVlYuDYeZ409Ftp0xoOVWj25RKqvW/H4SvNAkyw3JQEHTFNleSKgvUg2NHIg5lPzQJMs4UAiTpiCON4IrOH3FxAZaQo06c+pTKBJVoK4XTvxvfH+auqLvpGW/TYMbvMXgSZJ6sEjNgNNMu31SgSa6q0inPyfHGgypItE1ys50ITiNHz/bTJOyjsuXoHpSeZo5aMyORkLj9sKNMlKsOuX3fg5XWRroc5runZHX2OgSXovcV/sLhNoksnP6ekr4pFhvIaaTrirlzq8YsP1FMR9sh4z1YEmWek1xB5JNfVic/LxxgCRNrHnM78GFaz4AGuOqyYYv3wIn/y7bgNNdhc8BB9uWKRsX7+Oxf+djXlvjEdMdHnLzPvA2/TVJB9ZFh2bXAcMxT+WTFECTbpMxH++VpmoWuJk++CNkp+nITgku5p5RqQEOTD3/hw8YwoOyauurcUX8fn6nF5TpcDseaybUwtEPqOq99L2r//Ox5vLn8GUGT0QWM6UAaG+yhegvJyLIiVofNDvn89j3oNKoKnwzHYs+k71I4jDzV72RHSzYrCpHuoV2RkBxiuTl4hPtxsmrm0oUi9cVs63ZUv0EUkz13XK8JrWgbhfia1VXWERTE0DTRv0C7T2s1ItunQUE8TcIepto+qXKXmCcMvXla3yE7ZXmWsQbjXNl5SBfbvLqVuFydh33tgg9ERw1wqGEklyD3yHaduzrE6GLE+wnVOjPX1qQVEaNq621eMnC2dNwTQHOBl7jdQIZ4zorARyM44miuCJNUVYkaAEAjyCAxAh0moFquFLvp3aI6KxfjqkH8Gnx0XaQsaB37DCrnW0CEfTlcCFl1d1HnQVGxuuzNGSe+g3xJb3waE9jQ3HlF6nAcFtyu+NWZiCtSt2I9ZWj5rcfOndlsOez/wadQyfThuG0U89h+dmPoph9z+HtTbqS6Ph4AhXVy/4demBYTPm4F8rJ2FQhLWeSeoGs3Q9TfXLEcFTn8GbMwcg0Dh6SF4R7aW38ek3qmDHTchJ9XWkuEQZb+rU2yIwV5KNw5+/rV91zdYtZs9jkYGTqyvcffzRI3o8/vHx65j393DTSotqylyIEnWcXJ6H8v3n8VAPYzCqGClbl+GF57fgXDnxdCKimwWDTfWOM/oGKj0MMo6fssuwk5oQ4O6CQV1CMKWXxRbqZTYEwerv5SdP4oTxi6qjP2IeG4mlQ4IwSHMDgaLcs0gw9R5wQ8To0fhsZCcM93Yov/F0MwpR9S7IuoifK2hY70tXVu3z9WktUrZl55a/EtWKNUpQrWqr8dUP2mMHsaK8N1hrfNHBRySRI91O5TbzgfOZyBZJeLXGbSKp9v3Rs6Zr59S2NxY8GY0FEZ6G+Y0akdRjpw09l8pIw8G9N7hkflMHRHh4Yozls1Da+rVSGu1OTUSiRnijg+mX+QIkna74vcSdSlECQB6t0FckrdJdRUp5dV8dZLc2XNKez/xakH3yEA4dvqD8kNHgZeDCmWScK7Nl4kqhatItmXsYRs2dgpjOIl8eTRBGvf8KZg1Whm5dObwWL09eib2nxA5SMQTm3nnRIjD34kLEfmN6SleSPY/VeF1NtVbvk5GSmQ+dWUDIEX79H8Y/XwozC6va0uq+h/HqG2PQw/jcLUzDtjfm4vUPkpXnKhHRTY7BpnrHHb4tRVL6mpt6rvJLP9cKeUn7IdFY9ex4LH18JKbf0xsxURZbL+vzBZgpzcLCbxORa+yNIa8IFd4f05+8HxumD8XSmHCMaVPZYFERlm7Yowy7kBp+HsGRmPjI/Vg1YxhiR3bDlBA3eIiXb2Z9fEyVSyqnluhnpXGs3u5tpYo0WBtKRHWjtSe8VJfDM8T69TNtXb1g6mgl3R/WaM/FY8Uh1e/grr6IGByDxdPux9rHorFggD8G1WhvrdpRVM4shUVVHBooL+G/YPxIbHj2fix4LAYTLJ+F0tYnsOIegfahgcb0k3weUisztDonXwlCtnCv2ZXC7PrMp6pLxJfPL8OiMtvbePmBf+Cpye/hy3jV6l9OQYh5KlqZkNoKp95DMGv5NPMeNf95G/P/GY8rhj2k5hCEYW/PKROYm//0DQTm7HmsRi7l85VW6v0yvP7EAvzfqH/ghSXbcU4VSHePHIOHokTGqhbo99LzmPeIMmxOl7wL7814D1/vtwjcEhHd5Nh6rHfUDQZJFRs/NUpe5eiJoRge7mtaxaw6tBeP4tHlcdh2Tmrgqt9nM3m59m6YMP5+rJoqNXLDK16yXZ6raeYHm7A2UbWSmkxejj44HDEjhuGzp4dicR/Pm241HDXnJqoL5xVSpmFcZuui9LKjekRq2ykBXU9EWLt2ZltIpYKt23Zsxgtr4nFWvdpbU3lZe19EREZh+nTpnhwfiQnlzG1xswjtcQc+eqA/ItrUVjCpAq1bolLTqqnlFtbqEG27PvPJvrLS8PNrb+PdPUqPGKfgMNwu0gYXkWWKRwch5sVoBBsvVN4JfP3PtxFbZrl6F7iaHlY6/NEAFoWwp5QsZRhh8L3TENNRfMEryUfiOkNgLt3iJnR1UXpDyqv+GtnzWGRUjLztW7DoiW9w0lRxWyC0r/nqcYmXlPtCH4yK9BGfwcVI37MSLzy9GSeVjuB67i7Kl3md7g+RIiK6uTDYVO9I38DrU4DJxA0zR/dHB9Oy6AU4u2c7Fv/7K9OwKNO2OrHyDRhtDpau34wRyzZhxc5EnEy3aITIvSuGDMNnI4MqDhJJ57Rqy3ZMeP8rLP3+KBLk5cfVx3J0R4f+MXjzsW4YxJpPZNXJlNOY+dFXeHTFdsQdTkKqOvAEB2jadMKYh0ZjcY9GNr6uKrzCMPOvgco8Hvkp2LZhM2YusXgWStviw7U0EOvyVaWXUmV5uCpBnVKz8SQ1x57PfLK7cz+eVPVK8kI7sx4eF3HVyod74anNmP/Up9iWYKVXR1AAvI1tbl0OLjXA4dPVccHaRIXaJHz9zzew7D+WgTlZC7QzFVgxslKVVR3teSyyoN2HQ+eU+uvuY7GaQ1YhypS+LhN7Yxdg/luJZV+ThLZRJnTPSy9/xVQiosaKTe565ypyTG0TN/j6iWRda9MBvVTzgRxYswkzf8nALnut7FZUgI0HjuKFVVIj5P2vsHBDPM7mK8d2Cu6DSV1FpiJSo2nb8UTMWROHCe9+hZlr9iAhXTWnjUc4HvyL9RW5GrsD2apfNuUl4y0axuVuFSwvT7UoQ4sckZTnGtpo7XrZ3Co3AX1udgZit+/H9I++woSlm7BiT4oSvG3qjA53RmLCTfoJMqBnZ/ga33veCSz9eDeWJuXhbAVTZ9Us6eKYgjbSZ0fFU6xJz/VWSm+ogquo1Xmw7fnMJ/s5/Qds98HIxwWp0a0oxMl1b+OFWbvK9KgxcooOgulrTNZFHBLJm0VearZZIEIfmHsi1npgTqa5HSGmRTyykbJfJCX2PBaVdaXAWshIOJIpfTtX6DLjEfvU2/gizta/CUNEkDHQV4hLZxjoI6KbE4NN9U4eUlWTHQR0CUGASNcpXy/lF/C88/jZYuVXuyotwS9JpzFz+TeIu2hsfDigQyd/ka6KEpxNScacVeuwNEHpYWBrRa7GTpuerfQ6a9my7PLk1DCUXkaGKW7ojgBTg6JmaK8XYOMvuzFh+X6kGts1jgHoVpWuJ00crS8W0ACFtFKC1dqzZ8pZCbCaqvQJfRlSW1RwR1iXigPqwzv6moZj6lLT8ItI1zq7PvPtwyu0J3r2aIeb7WcJp+HtleCQLhNJO0VaiE9IU3rQaJOw02qPGqMWiOkVJNJSY/70wUqujuaFjrdJ5d+uEZT+puO4YCqgQpz8yXZgTub+YASCRRqZSfhV/RuPPY9Vjpuz7gdJ9U3piXQlxSL0nnwQJzNFWpJ+4Accthg2ZybmdoQbJzzTpSFxk0jXJrd26CndRx0r88MDEVENYbCpHlpzQrWSRZuemNmAhqto3APx5vBwO823UYTjl5VfjZyaKbPU3Ihtmaqvuc7OuClnI7qUhrPGL6fuXTC25008FKpBy8NvF4yLB7ih250htTPkSHsZGaZuDw7SPSmStqh7YLXwxW1VnlSoYYsI748p3arSZMtDpmlaFjeEhFTl317Dz+eU/m4e3W/DxHIexJq23XBfR+N8U9dw4lh5LafaYt9n/o3piknvb8K6D9/BO4s/w6av3sAYU4u9kdOE4aHBIUoA8txR7BVpkzV78LvxM0QTjuFTbd/UTmPHY1BbkUEafv26Er07ujyF5d+tw/JFUvl/tgmb3p8kXZGGbB92/m6s067oMWwoWolcGZq+mDRICbCmHNiGFJE2sOexrOmKpz78Qan73yzFpC7ipUau1aShiDT13s9G4m7LupqG7w8o+wIHjEGkzedrEMbdFy5dIYPC3/fgZ5GuLW4x87Hum8/wjnQfLf/qB6x+KeamC5wTUf3AYFM9pD2WgKOmuIgzOvx1KBb38kSAjasV0CYIE2q4Z4M8UYMpAObeEfd2tQhSNHXBmAFRWP7YHQitRKQpoK03Bnk4lztpscbdH3d1UD4eM9IyRMqClyeGt3axWT56zu6Y3lWZ1ViXmVV2ae6bQhY2JBobpA4IiBqGpQO8EVFO2QV4+2JKb/+bsidYfRYXfwwZokeNU9veeHVcOGLKWTpK08wNw3t1whirN50zBgV5IqKCZegjOodCiX/kIPW8SNpi1gPLE31G3YoYK/FNDy9fTAiuJxNtV0J2vrJKqKZTBCZYPPPkZ9fscSOxYEhQlRdTOH5Z1QOzVxTmBFq5Js7StQyX7luRNToQn6gM5XP2x/CH+mOClTrh4dcJb44Mh4c4N925eMTW8ChZuz7za5DbxKkYG6FqlrXujYeeGi4yjZUj3KOH4JkPJyHSeIF0yYj7eJ+VXkuJWLdH6eLhN/hpPDPJ39SwNnCE3+hJeHW8ErjK2/8DNlWijt3xQDSM817L3CIexKyn24lcw3R4dTzSRRptBuClRdEItFhkwSkiEtOW3YdQY4HlxmNTrDIhuJE9j1XGnfcjOlT1gG7ZFQ++8DQadulXwNsfd8oryw0LUupq/AZ8HS8yKnn/2YlEU6A1DA+9OwaRbZUJ2PW8QzBq2RTc6SPy0n30/YpEkak9Dw27A16mjw5n+EU/hfmN/TFGRPVSk3bt2pWzEDTVFflX52VjlcaAXmkRtNlZyBDzWjh7toavmwucpM+6s9tXY6aViTdj+t+Bu3xFxsi5JQLbuosP1mvIOHfZYkLvy/hx/QnEiZyBNxY8OVhqjIosSqDLzUJKThGcW7RGgJfUUDSeqzzRrHF59bxELP7oaJnAzoDoYZjZQ/5CLx2nUAft1cvINv2g7QCNtzd8W6i+9BQlY9WyPVhrbbhKjyhsiBa/4F2/Bm1+tqmMZM6evghwl45lOr8c7Po8DoutzKYbEXErJnayjJa5wjfYW/TWKkHuxTRkm83NokXCjoNYUcEqOxPHjsdwsba4retli33Pyw3Tx9+NQW1U5StdM12e4XoaOMPLryU0zaT6JZebjesoq877agiUuiqV6OHNmLDd9kCQ2i6LXpHRmD1AGQqldz0PqWlXYbqS8nOiuROcnOV7sgAHVm/CgjLL4rtjzuND0UsOTEjPGZ10H2WkK8eAoxt8fd2h0R/DQHdmJx7dmFbhYgChvaPx5l9UDyGprmmzMwz3qHxcH+m4zRxslK03Zo7sUmYosXMrf+meFudSmIWz6UpvGL2M45i5R+mpo76G5tdF9b71c1+p57MKwuLn+qODnJTnN1PPWRYUiVWjO6km1y5CbmaG9AyTnl0+vvBVB+1Uz8OK6o+ephNin4hU5oSSaXOQmlkgXQ/xbNRI926B9XsyVHoevio9D5U6Id3b+XnIyBL/3vL88k5jxX/isdGiCPXadMOq8aKnajnPgMqw6zO/BkW/tgkv9VUFm2RJazHw8Q9Fpm482fcHjNb/qKTFr9tG4R8VVCNLgY88jAcilGFCJq4tEODnBSdVlZCHz/387/fw5XYbcwHBCzHvPo9hwaqGti4b6cn5KJRqnnsbH7TSqFZBO7cF85/drpp43LY7XlmH+X+x6C11biOGPfa+9PSqRf3vw7zpPdBSZI0cnV1VZVWsr8tmpZR7GLFPfYOTImvUatI0s4AGSopxJf0i8qR7wNHdB34+0nHFS3KAYtNLyxB3SuQt2PNYZu6cj3Xz7rBY1fICNg57FO/XauEPwLT/RsN8PTiJo6tqZUPprRUWmpc9kvH9A59im8gZhGPc23daCZhJ9dRHqqfu5sGiwlPf4LVZ+2zWVafo8Xh1Rg/pk8OoGIWZmUjP01m5l/IRv+QNfGrzPrJt4C1f4x/il9sz8XfjyYq7pZl56sMdGGPR3bng17cwbLb5N3siopqm/jpL9Yi8RPS0L/abTZgqT8qr8fZHh+BA/RbgYQg0lcevreFvzTZToEnmAl/L14P9lDkbTLKw8NtE5Jq++BuWQ5f/PsBbFWjKT8LaT37DWZGtmHQcVxd4+Kn///7mjQ75mJ9WstHRzMWsjPTn56EKNF3Pwq411gNNMk+fALN/a9iMAR2ZAzzKlGkAAsx/1rU7+55XAZZ++QPizqm+PYrl7ZV/6wsP6bqYVtuSmMWxqF44EL8d7+xQTdwtk5eRV9UD/XPCFCQqha6i773Sc8bJ1fwYHQI9VYGmEmhP7cTLlQg0yU7u3421Z5SeQHJdM92j8nGbqVu5ljTm5yE2U6BJ5upd5vUObZU7o0Ykx2PFIVVrXyozwzNMenaZAjlyOe3GnJ1V7J2jPY3FW5LNr6nGU5SDeDaW88l98rB0beKSVP9eurdbqP69KtCkSz+K2M9tBJpqjJ2f+Xa2/dfTZYIaBZmVaanXby0DghDc0crW1jzQVHjxML546e1yAk2ybMS9HIttyaq/cfKCn/6Y/maBpsIz2/Huy5ULNMl2r9iOM5YfNl5+6C2StcbJFc1dXeFqsZkF5eAo/ZnF32hUgR6VK5/G4t2tqvmuHBzRqq3hGgSqg0PaZMS9HVtucMiexzLz8yfYfrJM4cOvr0jWGidoLMtV3iwKtkzZS1vZsvdFO2NdN9ukeqoONJXk4+R3y/BCOYEmmW77aiz6PBFXTF/NHeHq4284pvpe0mUi/vNlNxRosocP1+8uszqpWyuLFfaIiGoBg031mDYrCTOXr8OCDfFISM+D7roq8CS7fg256afxy/dxWHxU7KtB+gDYJ1ux7VQOtEWqcyku0p/Htg2b8Ojy/ViVV/GH69kTR3DgVBoy8q+VfV/6X74LkHEuEXHr1usnJV5VXqv2wnH8ciwFqbnSsQqthERM5bQZjy7disU1Obl5Q1FagNj10vWSvthvO5aBXLnc1A07uXdLYR5ST0nXQL6uHx2tu8mDqVy/HNqNCfIy8ntOG+4Bs9tPvpfk+p+EAzu3Y8GSzVh4Wbxk5hr2/ZaIkynSvS39fZmAlFwf8nNw9vB+xMqr032bVuaXe9uKsGrjesxZJ55j6meHOO7J+J2I3V3Frhp1bNuOzfr3dDKrADr1vSP3LDsWjxUr1knllIKEG+g7fPLYHjwhP2uN96aJeDaeOopV3/5us5fRyWP7zeuE2fkZnq0bV3+FR1dJ97eVR2ZNsOszvyZtnIe3vjuDAnGK2Qn/wbw3thsyjVFJMQpzM5EYvwWxz8/DzGmrsbcywQltMr5+ei7mf7QLhy9mo1A93k5XiCvJh7FpyQK88PwWnKvKtTz3IWZ+fKh2ezHVimKc++A9PDdnNbYdzsSVQtVDVn8NkhH/zad44Yll2LS/ou9Q9jyW2gV8+PdPcKjxFb5VusJ8qZ4mYtuny/DCwwvw3keq+VLLceWblXh5Siw2xSfjivR9V/k3UjovG4nbV+P1p97Gp9/Y+FWzNvw4D3O/Mw24JCKqMxxGR0RERFSPVXcYnVNbH/i55iPlTK12Y7tBT2H5jjHoKHI4uRYDn6rbYYw3k6c+2oExpjFsZ7B24BNouKXvilY9WkB3OhN5dRXAvgHVHUand9cb2PRib9PE4Nn/m4fRc3eLHBFR7WDPJiIiIqJGTHcxs4EEmiRd3FQrZxXh2K9fiDTVvK5wU63VUHT8FzTs0i/ElcMNK9BkL25eLaAMTs7G73EMNBFR7WOwiYiIiIjqXuvhmD8nWpk3Mns/vllxk4zrqnNeGD7vZUS3FVlkY/+GTxvhkMbGz63HJCyc0NUUbCo6uR2f7BMZIqJaxGF0RERERPVYdYfR1WftYibhvo5BaNejEzq184ObcZLlojNY++wT+PC4yJP9Bcdg0tDOCArsiU5h7eBn6lJWhDPrZuKJD46JPNWmGxlG1/v+p9FHun863dIJXdup1hTM3o+3Hn0RcYwaElEdYLCJiOqORyDmDGwPT5GtFsem0KAU2qrMh2qTFgk7DmJFrshWhz3foz3Pi4gaDCXYVIQLx7bgsGqBR72iM9iQtgUXRLYhiX5tE17qqwyc07t8CJ++MQ//OcwWco2ymNdHryQbh1a8hnmrG+NE7fVNJEa3vx3+Imfk1XYI/uJr6JdU2WCT+VxbBkXn4vDW7Lew3erCIERENY/BJiKqO226YdX4cNhnofoilMAZZitT37ACHFi9CQsuiWx12PU92vG8iKjBUIJNNhTE4/Wtc7BDZBsSU7CpsADpF37H/q1r8Mk3DHTUCmOwqaQIBZcv4Pf932HNJxtvmhXp6t7j+PfIUcpk+FZUNdhUVJiN9N9/x7Yt7+M/2+twRTwiIgmDTURUdxhsqiIGm4huRo052ER087JfsImIqD5isImIiIiIiIiIiOyGq9EREREREREREZHdMNhERERERERERER2w2ATERERERERERHZDYNNRERERERERERkNww2ERERERERERGR3TDYREREREREREREdsNgExERERERERER2Q2DTUREREREREREZDcMNhERERERERERkd0w2ERERERERERERHbDYBMREREREREREdkNg01ERERERERERGQ3DDYREREREREREZHdMNhERERERERERER206Rdu3Z/ijQRWePsjol3dEFE80IkxP+OFekl4oU6Vl/Pi6iGRQR1wthefkDacaz5NQsJpeIFIqrQk31/wOg2ImNNQTxe3zoHO0SWiKg6KnzmXPoag/Z9JDJE1Jgw2FRjgrD4uf7oIHLIP4Glyw9im8jWmjbdsGp8ODQiW1YaNr6zEytEjiy5Y/bjQ9HHXWRLc7Dr8zgszhb5G+ThF4QZ/boizN8dmmYOYq+k6Bp01wtxYt9PmJNwTey0pmbOi6ybOHY8hgeKjBXaw5sxYXueyFFNCgi/A+8OCYSTyOvO7MSjG9OgFXmi6qknn901iMEmIqpNDDYR3bw4jK7G5CEnXyRlfxajSCSpAWnTHhHGgI6sqSe69VDvqCpnTPjbMHw2oT96BXuaB5pkzi5wauGJDj7OYocNdj8voobhrq5KoEnm1CEEY0WaqPpups/uIlw49i02HbTYEv+HM+IviIiq6+AZK8+ZYylsFxHdBNizqca4Y87jQ9HL2P7PS8TCj47iF5GtNa6emNDVC24iq9ciEIN6+YsGG3s2lcs1BEuf7I0AU1i2BCfjvsILx0S2igYMHIqZPVVBoeJryLh0GdpiOeMAjbcXvFxdUJRYQU8ZO58Xla9XSAhu8xAZIaBbb0R4GdLs2VR7YoaMxJRwF5GTZB/FghWJOCCyVN85Y1B4Z9zZ2ReB/s448XUcFl4SL9UL9eSzuwYpvQy0+HXbKPyjGo8up4geGDZqEHqGeqGVq6NhZ0kxCvMvIvGnH/Dfz5NQaNhbuzQ+iJx0N+7pFYZWHo5KT8jCbKQmxmNj7HaczBI7K8n11r4Y/cgg9AtqYdiRdxjLHl6NREOuYauB8rInp7ZhiJk+AoO6eIlzS8amEcsQp083dK4IfeQ+DO8fgoBWLeAkfoPUFeYj7/whbFz9A+IT9F8Sa5Vc5oMejUb/0LZwdy9bJ77/7GckXqzGebkvwIZBkYb2CXs2ETVaDDbVGIsvrCl7MGJNssjUMbOhdQw2VSS0a2+8eFcIPJqWIPfMbrzxbRpOiteqxCJAlJuwFc9szUKuIVtldjsvuiHqoXUMNtWipp6YOe6vGNDGBSjMwK6N27H4oniNGgD1Z2MBDqzehAX1OdhUnz677cQ+wSZX9Pj7NEzq72NqhFqVdwJfvvopfj4l8rXANWYMZj0cCT9XscOaknwkfr0My1ZXPPbcdUA0Hr5/AHq0tThgIwk22bu87EkfzHzkb7izYwuLetY4gk1OEQPwxN+HIlz1G2RZxUjftRKvLz4BndhTozQ+6PfMwxgXWcG9jUKcXPM+3rvROsFgE9FNgcPoakweUq+KJDVoJ4/tx6Pvr8aId7/Co9UI6GjCApWeSNlHsaQagSaZvc6LqEEpzcHi1esx4h2p7n/AQBPZGz+7K+aI8JeexxR1oKmkEFeSk3HuTBquGLrqGriHYdxr0xDTWeRrmFP0ePxzijpwUozCzDTpvJKRklmoNNYdWiB87POYNUl0Ty3DEe7RQzDt49exeOaQsoGmRsJ+5WVfci+yh96fg38tGI9BZQJNjUTnaDw71zzQpMvN1Jf9uYvZ0JnWfHGE34BJePWlsFoohzCp3J/HQ+pAky5f3NvJSM9V92RyRejYpzFtmOjRSERkBYNNtUR3vVZ+j6B6rJeX8o1Ce+ECh/0QEdVz/Owuy2nYw5gUKYaSyb0u9qzEzFHz8PLTy7Do+ffw8oR/YGZsPNKNRecUhJjJfWu+oazpgScm9YDxk1aXGY/YydK5PPGedF7L8PoT8/B/k1dib6axweyI4JgxuLPMCiotEPPuK3hzRjTCvY1DA/NxMi4WsfHqCb0aOLuVl331eHEOFs+9TxmuKNex+LWY/11j6mHohVHPDkGw8abQJuHrOf/A/z36tr7sF01biP97+G18fUoZhOoeOQKjIkWmxpzB/w6mGYKM2mTELVmA/xuzQNzbyzD/Uekc39iFFNNj0RXhw+5DsMgREVlisKkmqX4AKCooECm6WYW0UmbOysnmkCsionqJn93lCMKooWFSE9Mg7+BKvP5WYpl5mQrj1uL1fx+G8ZPOqfOdGFfDDeXgKXcj3BgIyTuM5c+uxWHLeYayEvHFsysRbzqxENw1NUhkjPKx50SmSEuHOrMd701ZgPdik9RVo8GzX3nZ1+HDyab6pLt0GF/MmYv5r8Uj3dTTp+FzGjsGdxpXZ9OlIW5+LLZZzsukzcS2We8jLtm43wv9xtR00LYY5z5YiuX/WYv5TyzDpu35ZYbu6fZvxlvfJCn7vcPwl/4iTURkgXM21aAB0cMws4chwFCdOV00zTwx9i/h6BPiC1+NsxIiLLoGbd5lnDiYiBW/5yC1VOyvSDXmbPLQeOKuiEDc1q4tArw10rmpzqe0CLq8HJz4PREbDmbgQCWXmfDwC8KMfl0R5icdz1W1Cltpif5XZe3Vy0g6Go8FCdfEC7Zp3L0xsX933BbsCQ/1uUE6VqEORdpsZJxJxMw9tma6tFj2uowbn2NEPcfP2e2rMfOwIV05NXNehrrVHXeGesPDWPam63gEa37NQkIF9Up5X6q65OyOiXfciju7+ErXQcx2WVSAjPPHsWHHacQ1gnXqqz1nU1MHDLrlFoy4vSN83V3gpK+rcj3VIuPcSXy3Ryqnig4pHaNPsD+iOrdHgH9r+DZ3gpOzaoXD61KZp53HL/t+x5pLJSiv2JXnlaouNXVBzO3dMaJbIHxbiPpRXITcS6fw446jWGXtNuoRhQ3R/vpkxv/WYcp+6UHg7IYJfW7DXd1U9UF/nBP47odErC3nfaqfo1ZVdk4dO5+Xib6udzc8n41lVJ68RCz+6Ch2iazdqZ7v6noZEdQJD0Z1QQcvN0Ndk5+veRk4uv83LE4ssFk3qvvMV98nVVaJsvLw8sWD/W9F3yB3ZXVP6RpqczOkz8YjWJKQV+Xhyvb67DZwwx0zFuPvwzrCTTq97IT/YO7Tn6Iu13Ko1pxNUePx5jOiN4wuCV8+GoufbT5YHHHnolcwrrOhd1Be/Kd44bUT+rT9hWHSykmI1J9YMU6umYv3VtsODTmNn4J3xoYYGu7W5l7S9MW097shZeVKbNqlhNLCX5qDacZeXQ16ziY7l5ddBWHc+2PQfPdKfLEuUwlqTJqGD4cZA10Nec4mR8S8+zqGie5AV/Ysw8tvlfMZFjkGr74UiVb6jPS+J0jvu86/Qw3ArA1DTT2azm2ahUWfikxlcc4mopuCqSlO9rdr+ybDvCLSdmNfVp0xPHowPpsag+E9RGNPfcWcXaDxDkSvwTGY2U3sq1FBmPtkDCb0D0dooKchMKQ+n6bOcPLwRUT/aMyZMhgz24r9tjR1w/Rxo/HZhP7oFSyOpyY1pJ1cXeDhF4gwn4oacVJZDRmKVY8PxqCuUsPR8txgOJbG2x8d2tZwH/AGok/PO7BcX7f8lUCTzHQdB2PB1ChM9xb7KykivDdWTRtqOK6x8SeTGva+nSMxZZJUN4y/6N2kNN4hWPzE/Zg+OBwBHsZAk0yup+4I6CqV02OjsbS3mwgKWzfgr/di9og70KdroOE46kCTrJlU5sHhGD7+fiwf7o9QsbsyPALDETt1JKb0DzEPojg6618b89BIvNml/PvSzU26f+XjPDEMYyIt6oP+ON0w4bGhmF3Rs8LO7HVe8iT9hrquCsbVN87emD1hNBaMjkSotwg0yeTnq4c/eg0ZhuV/80eA2G3Ozs98uzJ8Pn40MRqDOkvnZnENDZ+NQ/HZY5EYXsVHfvU/u1WGz8ff7zMEmmReEQ/i5Zd6GzINUGjfEGXY1bmj5QSa5Imn70NUsDKfi3tQF9xo3LFC/SMQajqxZBwqJ3AC73CMiwpSeoi4t0N4D5E20u7DssmxZoGmRsXe5WVXyfjy6bfxqTrQ1Kj0Q4Rp3Fk2En8sJ9Ck8cGgMeEi0CRri9B7RbJOZSKrmo9GIro5mDXHqT5xxsSxwzCxh7fSOJB/ic7NwNlzKfotNfcadOV8P6hR8i/ahXlIFedy9lwaMvJVP2tLDZwBI+/ARJtzakrvb8TdGNRW1UC7rj6e9P6yCqC7Xrl+0wMGDsZE9SyLci+aFOVYZ9PzpPOtTFcrrdk5GLascnuElOERiDnSe19ssfVRBW18u5d9XdnCECP+TmGH81IZ0H8wnhsYCI2oW7rsFBzYsx9xO+Nx4FQGtMbeTM38MeiBKEysVGPNAR2ih2LBkBBxXKW+pmapeqXJdWNwGHqJ7E2nTRgWP9AbHYxlej0HZw/HS2W/H9sOJyE1X9R5qSEf8Je7saBHJYMY169Bm5Wm1A+5zqueD5qOUXhxoOoeKYdbxB34aHQ3+DYTO7Q5hvonHRPGutHUBaGDIjGmnE8R54A+WKY+Tp6V+tDUHX3u6YYBImspJzNVeU9iS82r3ngKe5yXpm03vGiq6xLVdfzlmOoe0itBRqJ8f0nbPuk9iL01zq0jFj8xGH38RB0qviaeixlQz/Oq6dwPM7qIjC03+MxPv2j8e+Om/n+XILfM66rtQg5yxF+ac8aYvw01fD7q8yXQpp/GL3L57jyKhJQc6Izl79EJE8d3w6By6mlNir69k+GXexW/9reKVEPjiFA/4zw60rU9HS9SluSV6p7Hm/LE06YIhcSnagHvqnDq2tYUBEPaeewVSUvyymvzljyMfj7qSY290K67SN4kWF51KDpACR7lXUCijV7u8kp10z58HqM6qx+qjmgTEiLSdckFrqZ7u1j+yk1EZBWH0dVTAwYOxcyeSsNQe24/YjcnYZeVeElAmyDciWSsquwQqhseRueNiQOckXI4A/ukxp61QIeHXye8OiYSAaJtk7F/Pab8z8rwN48wxD52K3zldGkeDqyLw4IUGw3Ipg7o4FSCs9dFvgx/vPl0FEL134WKcHbHZsw5JDW89a9Zko4lvfGz2qo0VtVD2CoxXM2sfG9EZa9JFc/LSDq/z8aFw0Pf+LJRXnJviHFR6NNaXMhL+zF9dRJSDTkz1obJ6C4nYs2Go2bDkDwCI7FsbCdRLjnY9UkcFldnOb46dmPD6Nwx+/Gh6CNubV3KfryyLsliqKIDYgZEY1KkaEiXZiDu39sRa+UH9ogundCvKAM/puThrLVYalMXjBkyCBO6iv9hsfSceH8P1hpyZqwOV9OmIG7DXsSqJsvQuIfgzYm9EaC/30pw8vuv8MJx/UsGquFqJkVZ+GXDdixU3ePm9eEaEtavx5xz+kyFzM71BobRmdzweblh9sRh6CMWZrJ6HaV7aM4jg82W0J8gneeNBogrzdrzp/Qazu7ahlcOqIaUSXVjytjhiGlr6HKjO7MTYzam6dMKOz7zTdwxR7oHDOVyY8N/A8LvwLtDAsX9Yf3zQ+MeiLnj70CoKAht4lZM2GJr+HTNcZu4FOse6gp1yLgo4VPc/fR/RK723fgwOvXQq3zEv7cAn+7Uv6DwDsGoOY9hUJA6OGGUj71vLcAXe0TWjtTD26wP13NF6IwpmCY9A9TxL6O8/bF44Y0kkbOtsQyjq63ysqvGMoxO/T7ObcFTz243pE0c4Td6PKY/EI5Wqg6bJmc246nna2wgduWYDe3LxLan38bXVZ2/ncPoiG4KdfRbH5XLNQRjuxtbKEDu4Tg8sd56oEmWeqkKgaZqycKKXWnYZqPRIctNP42Fv2aIHODrrw8nldXezxBokmUcxxJbgSZZaXmBJkkbb9HwlWiT8aPNQJNMOlaVAk2NjTOm/NUYaJKKK2G79cCc1AhfuDYeZ409ENp0xoOVWvG4RKqvW/H4SvNAkyw3JQEHTG09TwS0F8mbSEBkpCnQhLwTiC0TaJKVIG7XTnxvvCea+qJvpEUQSEg4fhqxSTYCTbLSa1gb9wsSjIEqx1YIq+QQRt25/ZizfLdZoEmmzUvCz+eN+xwQ4K88q6wqSkPc51vNAjqy3JQj2JcuMnCBT1sXka4l1Tmv1h0QZrwfipOxwdp1lO6hBVtPK/dWmwDcI5K16noK4j5Zj5nqQJNMqhuxR1JNw1ScfLyt9OKy4zPfbrwx5S8i0CTdK6k7t1r9oUKbl4IXNiaazlsTFooJdfCNp2DFB1hzXPWz/+VD+OTfdRdoqh4feJtu93xkWXRsch0wFP9YMkUJNOkyEf/5WmVyaYmTtciFHfh5Kj2urmaeESlBDoC9PwfPmAInhtXNvlCvLNe0hk6snmJ51Z1QX+XLVF7ORZESND7o98/nMe9BJdBUeGY7FqlX4nOo67J3xJ1jepp6Z+nOHUJ5IwGJ6ObGYFM91CuyMwKMVyYvEZ9uzykneFL/pF64rJxvy5boI5JmruuUsfitA3F/Be3VchUWwfRVXtMG/QKt/RRUiy4dxQQx34d625giXpfIE4Rbvq5slZ+wvcpcg3CrKdiQgX27y6lbhcnYZwoqeCK4a8XBgNwD32Ha9iwbE/JeQ04jnf6icpwxorPSEM84mohtZQJNRkVYkaAEAjyCAxAh0lWXhbOmIJ8bPJXJH2zSnduNl9dbC4QZZBRU8kLKvU7W70Ss1Z4TRTiarjTC3eSJp2tLdc+rrRc8RBIZ6dhg6zomX0SqMWDr6AJfm8OKa0hhCtau2G3jfUpy86V3W32VeubbS3AwwozdtgrP4sdD5byDS6eUALdjALrV1Biuch3Dp9OGYfRTz+G5mY9i2P3PYa26J2CDom7kSp/hpovuiOCpz+DNmQMQaKzj8ipmL72NT79RBShqkJPqY7+4RBkj6tTbIgBWko3Dn7+tX93M1m1xM2B51R1ljkaJOk4uz2n5/vN4qIfplwykbF2GF57fgnNl4+l1xmnsYxglJv3X93DcuJ11g4hsYrCp3nFG30BPkZY7/ZyquVWLqinA3QWDuoRgSi+LLdTLbMiA1SbkyZM4Yfyi6uiPmMdGYumQIAzS3ECgKPcsEkw9EdwQMXo0PhvZCcO9HaoxlK2RClH1KMu6iJ8riBnsS1eGnfj6tBYp27Jzba9qJVuxRgmqVW01vsbAFx18RBI50i1QQTP/fCayRRJerXGbSNrk7IyI1r6YaHk/SptpfiiZ8TtiOYquXsVJkbam0hMoX0zAAosfbuuFWjsvB/OGRW3TXUVKeTekOjBeiRXyqvXMt5M+wb6mkIfu4kVsFGnrriEp0zikzwG+barzq0b1ZJ88hEOHLyg/jDQWmiCMev8VzBqsDLe6cngtXp68EntPiR11whAAe+dFiwDYiwsR+43pyUomLK+61Oq+h/HqG2PQwzi3Z2Eatr0xF69/kKz8MFsPOEWPwbz7xaqEkrz9a/GF5VBaIiIVBpvqHXf4thRJ6Wtp6rny5r6oA/Iy30OiserZ8Vj6+EhMv6c3YqIstl7Wx/ibKc3Cwm8TkWvsEdDUBQHh/TH9yfuxYfpQLI0Jx5g2lQ0WFWHphj3KULumDvAIjsTER+7HqhnDEDuyG6aEuCk9EW5ifXxMlUsqp5boZ9lotNjubaVqNjrycVEtrT3hpSpCzxDrZW7aunrBOH+1XKdtkZe0X/y4dN/MGI0FD0djuOX9KG0RlRoCSZWWka0EVX39MMLGraEJ9oOv8bXCPKQ0xJ599nrm20kXD1XAqJmX9XtHtXVRRgvBqYlIkF049R6CWcunmfeC+c/bmP/PeFwx7KkbDkEY9vacMgGw+U/XdQCsnmJ51aEW6PfS85j3iDJsTpe8C+/NeA9f71d6nNUHThFD8OyTkcp5ntuCRW9YzvVFRGSOrcd6RwONeqiFzWE2dUAThMVPDMXwcF9lBaZq0F48ikeXx2HbuTzz99lMXvq9GyaMvx+rpkZjQXj5y7/raZMx84NNWJtosQqUvNx+cDhiRgzDZ08PxeI+njW2Gk5D4NxEdeG8Qso2Gi23LkovO6omqT2mNMg9EWGtvM22kAoDpIMGDtUvad/B/QZ6BNKNu3QeJ4wduhyDMGJ0UNnnirM3Zg4yTjQuPaKSzlXQC6cesvMz3y5UPfOcArtZuW/Mtz6BtTwXWKN2UbXceRBiXoxGsLGC553A1/98G7FllqtXr1qlwx81tChESpYyXC/43mmI6Si+SJXkI3GdIQCWbtHLz9VFqUzySos3E5ZX3Um8pPQUc48cg4cifcR3g2Kk71mJF57ejJMWaxm4uygNA53uD5GqPfLwyr/Ple53cS/Lgab5z26v26AyETUIDDbVO6X1K8Bk4oaZo/ujg7GrRWkBzu7ZjsX//so0nMa0rVYmZa2QNgdL12/GiGWbsGJnIk6ql1aXufoiYsgwfDbSSmPOknROq7Zsx4T3v8LS7w3LX5sFnhzd0aF/DN58rO6WwSayF02X/piiWrFSl34aG9esx/R3Le5HaVPPF0b2kIfF358wPeecAvvjzakxWBzdSd+bZnZMNFZNU61EV5SCbbssWg/1Xg0986kBu4irVi504anNmP/Up9iWYKUnRlAAvI3tZF0OLtXQ8OkL1iYE1Cbh63++gWX/sQyAyVqgnenEipGVarkSY+PG8qpDWYUoU/q6TOyNXYD5byWWfU0S2kbpopmXXruzcTtF34d/PD8AgQw0EdENYJO73rmKHNOkDm7yCI36oU0H9DKOJZeXq16zCTN/ycAue63sVlSAjQeO4oVVmzHi/a+wcEM8zuYrx3YK7oNJXUWmIqUl2HY8EXPWxGHCu19h5po9SEhXzY/jEY4H/2J9da/G7kC26tdIecl4y0ZjeVtllpcn2zK0yBFJIA0brZWxza3spPFjI4JMPaV0F/fj5VXxWJFyDan1Mljd+PQN8zfvcenqiQ49Ig29abqqegLJq8F9vhsrGtoQupp+5t+glFxl1iPtYenzwur9Yn0rd34xqoR8XJAayopCnFz3Nl6YtatMLxgjp+ggmL7GZF3EIZG0t7zUbLNGuj4A9kSs9QCYTHM7QkyLZWQjZb9I3iRYXnXoSKb0TV+hy4xH7FNv44s4Wx8SYYgIMgb6CnHpTO0F+vSBpif7wk982Sg89Q0DTURUJQw21Tt5SFU9xQO6hCBApOuUr5fSsMo7j59rcnLd0hL8knQaM5d/g7iLxoaNAzp08hfpqijB2ZRkzFm1DksTlEZK9Vb3ari06aq5Zlq2tLLUOdWY0svIMLV13RFg+uJ+I6R/r5p+K+VEUrkTepN9aeQ54XoYui3pLh5F3OEUZOSrAtqlRdDlZiBhZxymf1DOanD1WW0986v4LWRfplKYmlaeFQ+xrie8QnuiZ492aOg/c8QnpCm9XrRJ2Gm1F4xRC8T0ChJp4Mrpg5Vatcp1QDQmvTENs/45BncOUIYPlWvTcVwwnUghTv5kOwAmc38wAsEijcwk/FoHv6XUaZ2ojfLS+CByxsOY9fYkTJrSA3716GZ1ayeV/W0dUSfTGSYfxMlMkZakH/gBh8vr+BpzO8KNvWR1aUjcJNLlsUPZ6ycDn6oEmvIS1uK1WfvqV6DJrZ10HXuiY8Xr1xBRHWGwqR5ac0K1+kSbnpjZoybX9rEvjXsg3hwebqcGQBGOX1Z+6XFqZuzHcWO2qRop8spdN+VsRJfScNb4hdK9C8b2bDh1q+HLw28XjBP+u6HbnSG1MH+YA2IGDMY9gSJLdnFPtw7iGVeAo7sTEbt9N6YsX6f0onl3HcZ8sh1zDuQ0+p5mVX/m5yHTNF2MG0JCqtbU1p5MUco0sDtmthXpeqsrJr2/Ces+fAfvLP4Mm756A2NMrfYGaM0e/G78DNGEY/hU2811p7HjMch0fdLw69cV98hwGjsJb84cgsguQQjuEYlxM5/HpGjVRF027cPO343fF1zRY9hQtBK5MjR9MWmQ8uNVyoFtqN2Rxl3x1Ic/KHXim6WY1EW8VGtquryCMO5d+dqFI7hjGCJjxuMfr0bb/n/UGjfEvLIOmz6Tyn7Rcqz7bjVeiqntcF8avj+g3AuBA8Yg0uYDVCrH+8KlK2RQ+Pse/CzStlW/7F2lf/PqDGUy8LyDK/HPOXU88b8Ft5j5WPfNZ9J1fAfLv/oBq1+KafDBfKLGiMGmekh7LAFHTXERZ3T461As7uWJABtXK6BNECZUq5dEJVzVKgEw9464t6tFkKKpC8YMiMLyx+5AaCVaHQFtvTHIw7ncCZA17v64q4Py0ZGRliFSFrw8Mby1i83y0XN2x/SupjEh0GVmVbjMd+OUhQ2JxsFcDgiIGoalA7wRUU7ZBXj7Ykpv/5uyJ5i9xcUfQ4ZoKDu17Y1Xx4UjRrW4liVNMzcM79UJY8rcKNeQo5ojtEP3cPSxuIYefiF487H7MCXSWzUxOdmDWzPjhOyu8PVzaTC9a6rEzs98teOXVb1Me0VhTqCVCe6dpbofLj2bRNakMAk/nzX2InNDr7FD8WaEezmfJQ7oEOiP2aY1xWuX28SpGBuhagK17o2HnhouMg1RItbtUbpl+A1+Gs9M8jc1hg0c4Td6El4dr14i/QdsqrA3jD9GDQqzeF61QOTou1HOY9Lk8Op4pIs02gzAS4uiEWhx2Z0iIjFt2X0INf5PcuOxKVaZLLtW3Hk/okNV91PLrnjwhafRTmRrS42W19i70c9HpAWn4AEYN0xk6sxDuO8vqgCpqx+in5qP2r4j8/6zE4mmoG0YHnp3DCLbWgRVvUMwatkU3GksR10yvl+RKDLlqGbZt7pvEv45pYe454qRvutTvPyK9bmk6tJDw+6Al+mjwxl+0U9hfkN+tBI1Uk3atWv3p0hTPaJp2w3LxobDQ92ALC2CNjsLGWIuI2fP1vB1c4GT9Pl0dvtqzLQy8WZM/ztwl6/IGDm3RGBbd/GF7hoyzl22mNz1Mn5cfwJxImfgjQVPDkaEqVFRAl1uFlJyiuDcojUCvFyU0GWpdH7GpdrzErH4o6NlAjsDoodhZg/5C7h0nEIdtFcvI9v0SeYAjbc3fFuovowVJWPVsj1Ya62XQI8obIgWv7pdvwZtfrapjGTOnr4IcJeOZTq/HOz6PA6LlQVBTCIibsXETpYtJ6lBGewtGpQlyL2YhmzViBlIpZew4yBWVLDKzsSx4zFc9DCxdb1sse95uWH6+LsxqI2qfKVrpsszXE8DZ3j5tYSmmVS/5HKzcR1l1XlfDYJHIOYMbF+mJ5zGLxC+ooWly8tAyhWzwkfO6XgsSDD2ZFL0iozG7AG+5g2q63lITbsKU+nL93ZzJzg5y/dRAQ6s3oQFlwyvGQVIx1kqHcekWLqXL0n3crF07dp6w0P/bwX5vhH139Y1Uu5JqeYc3nzj89uo70d5XrBy5vqq+P/pjZkju5QZSuzcyl+6p8X7K8zC2XSLr8EZxzFzj8W4BDuel/p1veIi6HTGh1MRMtKVa6nNSsPRcyn4MaUINbQQl7k23bBqvOhpVM59WzH7PvPNaDoh9olI+Br/vUybg9TMAqncxPNfIz2fCmwcq6l0bk+oz01i8fkIRzf4emukZ5h49ldwzWtK9Gub8FJfVV2RJa3FwMc/FJna92TfHzBa/wOVFr9uG4V/VPlW90LMu89jWLCqcazLRnpyvtQgdYJ7Gx+00qhWLqv0hMJhmLRyEiItI0u58Xjv0bWVGircatI0zBumzGeHkmJcSb+IPOkR4ejuAz8fV+U1qfG+6aVliLO2vH//+zBveg+oRivrOTpL/970aC3Wf38xm+Uo9zBin/qm/HO9cz7WzZMayiJrcAEbhz2K95U4bK2wW3lZko77oXRcS+e+mYVFn4uMTQMw7b/RCBE5E0dX1cqG0ukUFpqXPZLx/QOfYpvIWfcUlu8Yg44iZ1CA/W8Nw4vmX3prnFO03HvIGNSRFaMwMxPpeTrp610LBPh5qepaPuKXvIFPt9uYU0utOmXfQ6r3/+yrzLNmrY7bcDV+JeYvThK5SnBfgA2DIg29kS59jUH7PtLvrqynPtyBMRbdwwt+fQvDZtfyhSSicqm/6lE9or14FNO+2G82STaaOktfwv3RIThQvwV4GAJN5fFra/hbs80UaJK5wNfy9WA/1QeNURYWfpuIXFOwxwFOHr76vw/wVjU68pOw9pPfcFZkKyYdx9UFHlLDXfn/+5sHmuRjfmoj0GSpmYtZGenPz0MVaLqehV1rrAeaZJ4+AWb/1rAZAzoyB3iUKdMABFRyWokbZd/zKsDSL39A3DnVt1qpoWi8nobNFx7SddEHmgTzUMpNxNUTYWblatiMgSaZk7u67AxbmI+qDqsciN+Od3akmK+U2MwdAap/q7+3TcGiUuisfNNLjd+NjedUV8VRupcD5X8vXTvjv5Ua4BnxWxF7tJZbMHajMSsXU/kYA00yV+8yr3doq45C2N+un3bjl1zVs9nRWf8cM2zm1zIisjcmjB2Nz6YPxmxrPXjqrZp65ku0p7F4S7L5PaDxFOUmnv/lfTspzcKcL7bjgHrhB4vPxw6BntC4qo5TXJkPEPvb/utp6YlrriCzMq31+iwbcS/HYluy6sHk5AW/jkEI7uhvFmgqPLMd775c2QmFT+Dg2bL9J/JOJlR6Trorn8bi3a2qeaUcHNGqrXxeQQhUB060yYh7O9Z24MTJFc1dXeFqsSmNf5mj9GcWf6NR/T9s+fkTbD9p+YkqlV9fkaxFdisvS9vPlB1qp0vGwZ0iXS4n6d61KFd5syjYMmUvbRWWPT7EV/+z/ALohlZ1MLRVt301Fn2eiCumjxJHuPr468s+uK0q0KTLRPznyyoXaJJVp+w9pHovkgZW6riNrbnlBaphH67fLT2JzLm1ai9SRFRflPd1juqYNisJM5evw4IN8UhIz4PuuqpxI7t+Dbnpp/HL93FYfFTsq0H6ANgnW7HtVA60RapzKS7Sn8e2DZvw6PL9WJVX8Qfi2RNHcOBUGjLyr5V9X/reTgXIOJeIuHXrMUE+ZjkTV+LCcfxyLAWpudKxCq2EREzltBmPLt2KxTU5uXlDUVqA2PXS9VqxHduOZSBXLjd1W0ye4LgwD6mnpGsgX9ePjuIX8RJV3y+HdmPCsk1Ysee0od6a3TJy/ZfrbBIO7NyOBUs2Y+Fl8ZKZIqxY/w0Wb02UjqG+ftK/z8/B2cN7sPSDdZiyK8ui5yJVXyFSskzNM+lSyM8e9WblOdTMG31Gx2B2TQ95tiN7PvMtnTy2B0/IxzY+f0zE8//UUaz69nfbPaS0GViwah2mr96DA+ek87Msc7m3mXQfpB6TjrP6K0xYX7uz8phsnIe3vjuDAlF82Qn/wbw3thsyDZk2GV8/PRfzP9qFwxezUai6HaQLiCvJh7FpyQK88PwWnKvCA+jwW8vw9fF8Q/BD7mVz/BsseuOE/rXKKca5D97Dc3NWY9vhTFwpVNVN6XiFucmI/+ZTvPDEMmzaX/V6ax8X8OHfP8GhevEbQA2VV/IWvBsbb5p0XKfNxM//lgOUhnxd2j53LuLqyffAK9+sxMtTYrEpPhlXpOeochtJ6bxsJG5fjdefehuffmPjF1Jr6nHZ29WP8zD3O9NAUCKqpziMjoiIqNKcMXHkMAwPNvRc06XsxyvrkpBgreOMszMGhXbHmKhO8BUd3XRndmLMxtpbuprIUvWH0ZE9PPXRDowxjRU7g7UDn0DdDa68uZgPb83G7vmjMa/imbfJnqo5jE7vrjew6cXehmNIsv83D6Pn7hY5IqoP2LOJiIiostqEYZAINKE4GRtsBZpkRUXYlhCPpYeMk/IDTj7eGCDSRHSz6go3F5GUFB3/BV+INNU0N3i5iWe47PLv+J6BpgbJzasFlCuZjd/jGGgiqm8YbCIiIqosXy9lrrQ/8pFSiamAOrRQTfB19SoOiCQR3Yy8MHzey4huK7JSI3n/hk/LzO1FNcENPScvxEMRxhBFEc7s+AT7RY4aDrcek7BwQldTsKno5HZ8sk9kiKjeYLCJiIiosopVcxe5tcOdFUz6HdE5EveFKV0YUs9d4hxaRDeb4BhMmvE05i/6DKs3rcPTd/qJRnIRzqybi3k/6jNUI3pjjFT2f39tKT5btwnvjO+qDLva9z5mxl4QOarvet//NJ7++xtY+tk6bFr8ILqaLuR+vP/3D8ErSVT/cM4mIqo7HoGYM7A9PEW2WhybQoNSaO0y56sWCTsOYkWtrFVPDUpTf7w5LQqhpr77JdDlZiEl8zLOpmnFBK9N4ePfFgFtfeGrUYJRupQ9eHlNsn5lrZj+d+AuX8P+ass4jpl7skSGqHzKnE1FuHBsCw5f0+9WFJ3BhrQtbLjZk8XcMnol2Ti04jXMW32IvZpq1FNYvmMMOoqcgVT3497CzLe2l1nRjOzv9tbT0MdykViXHri7a6Ah6FrJOZvM5zkzKDoXh7dmv4XtVhdSIaK6xmATEdWdNt2wany4MiypWoqkZr8z7LO4fAEOrN6EBZdElkhF490Jb46LREAzsaMipUXIOLoXS39KM83vNHHseAwPNKSrLWUPRqxpbEsNUU1Rgk02FMTj9a1zsENkyQ6MwaaSIhRcvoDf93+HNZ9srCcr0jV2ItgklX3R1XT8nrAN33/wHwYnalGFz5wqBpuKCrOR/vvv2LblffxnO8OFRPUZg01EVHcYbKIGywG9QjpgRK+O6OCtgaaZs/nA9KJr0OZl4+y5U/h5fxq2XRf7BQabqK4w2EREtclewSYiangYbCIiIiIiIiIiIrvhBOFERERERERERGQ3DDYREREREREREZHdMNhERERERERERER2w2ATERERERERERHZDYNNRERERERERERkNww2ERERERERERGR3TDYREREREREREREdsNgExERERERERER2Q2DTUREREREREREZDcMNhERERERERERkd0w2ERERERERERERHbDYBMREREREREREdkNg01ERERERERERGQ3DDYREREREREREZHdNGnXrt2fIk1E1ji7Y+IdXRDRvBAJ8b9jRXqJeKGO1dfzIiKqFX/F64NfwO1uImvNpa8xaN9HIkNURe4LsGFQJGxXMS1+3TYK/8gTWSIiIjJhsKnGBGHxc/3RQeSQfwJLlx/ENpGtNW26YdX4cGhEtqw0bHxnJ1aIHFlyx+zHh6KPu8iW5mDX53FYnC3yN8jDLwgz+nVFmL87NM0cxF5J0TXorhfixL6fMCfhmthpTc2cF1FtGhA9DDN7GJpx2sObMWH7zdhiU39W1MTzuJ58FtUIBpuohjHYREREdMM4jK7G5CEnXyRlfxajSCSpAWnTHhHGgI6sqSe69VDvqCpnTPjbMHw2oT96BXuaB5pkzi5wauGJDj7OYocNdj8vImqcbpbPohwcPvgtNlluZw6L14luQOH/sNFKvTp8VbxORERENrFnU41xx5zHh6KXsf2fl4iFHx3FLyJba1w9MaGrl/mvci0CMaiXP5z0GfZsKpdrCJY+2RsBprBsCU7GfYUXjolsFQ0YOBQze6qCQsXXkHHpMrTFcsYBGm8veLm6oCixgl4edj4vorrQKHo2yc/YyI7oFeiLQMcLWPL5UewSL1VOTfdsqiefRTVC3bMpCevWT8O/9furwhHu0ZG4q08XhHcKQqsWrnAy/gZQUoxCbR7ST8bj+89+RuJF/YO6gYrGrA1DECxyFUvGphHLECdy9V7UeLz5TA+ptt+Iqr/XJ/v+gNFt5BR7NhEREdnCnk215erVuvlyX5iDVQeSEKveTmazl1VlFSZhyZYk5MptjNIS5J7ajU9vNKDjGoKx3ZWvwrkJW/Ho++sxZc1uzFwvbzsxZfl6jHl/dcWNbnueFxHdOI9A3BPZCR383OFUQYfEeqGuPovqq6ixeGnGfRgUGQY/D1WgSebgCFd3LwRHDsG0Za9g3sww8SMNEREREVWEwaYak4dUdrNuFE4e249H31+NEe9+hUe/TcNJsb+qNGGBSk+k7KNYsjULuSJ7I+x1XkTUmPGzqLJ0hYW4cjEZ587IWxqu5Kl7MjnCb8Ak/GOql8g3YNpM8R7L29JwSfx5g6ArxB/S9Sus9GbeS00n/ktERET2w2F0NWji2PEYHmhI687sxJiNaYZMXTObNJzD6GoLJ0MmMtco7gn18zQvEYs/qm/D6OrxZ1G12WEYXY++GNW7EAc3J+KclWFyThGReOK5MQj3EDu0iYidsBINbyYo1TC6c1vw1LPb9XtvVsF/n41Z/Q2BQ92pb/DcrH1VCjhxGB0REVHF2LOpJqm+txYVFIgU3axCWhka1bKcbH4zJaJaws8i2w7vw9exh60GmmS6hHgsWxaPKyIPTRBujRJpapg0fTH8dmMPtWzsXVu1QBMRERFVDns21SB7/WqvaeaJsX8JR58QX/hqnJUQYdE1aPMu48TBRKz4PQeppWJ/RarRs8lD44m7IgJxW7u2CPDWSOemOp/SIujycnDi90RsOJiBA5WcGMrDLwgz+nVFmJ90PFfVpCelJdBd10F79TKSjsZjQcI18YJtGndvTOzfHbcFe8JDfW6QjlWoQ5E2GxlnEjFzT5bYb8limfAyCnBg9SYsuIHxBereBWe3r8bMKv00XjPnZahb3XFnqDc8jGVvuo5HsObXLCRUUK+U96WqS87umHjHrbizi690HcQkKEUFyDh/HBt2nEac1rCrvjO9t5Q9GLEmGaEdu2HG4C4IcJXeU3EeTv64FS8ckyu6M4ZH34Gx4b7QOErZvBTEfbMbsdaqWVMH9An2R1Tn9gjwbw3f5k5wclZNFHNdKqe08/hl3+9Yc6kE1ooqtEcUXo02TvIP5B6Ow7TtOVb/Vqbp0h+f3RMk/r5Iqn+bpPpXOzO3RQR1kupYKMK8NKr3Kd+PWmh1Gni4G/ZV/Ix0QK+QDtKxuqCDhxuc5HKWGctr7+9YkV4idlohldkGqcxkGfvXY8r/pOdJUxfE3N4dI7oFKs9Wqf7nXjyB735IxNoyp1PRfVg+6+/Res8mudwejJLeq5f0XsV5abNTsG/HISxNqdq1s18Psq4Y89rLeKyvH5xLCnBh54eY/lqc9PSpK/aYILwy+uKZtfchVH8D5SP+vQX4dKf+hQaEPZuMqturScaeTURERBUzNcXJ/nZJDboR76zWbzf25V5uwA7GZ1NjMLyH1BhqoQ6eSJxdoPEORK/BMZjZTeyrUUGY+2QMJvQPR2igpyEwpD6fps5w8vBFRP9ozJkyGDPbiv22NHXD9HGj8dmE/ugVLI6nJjXKnVxd4OEXiDAfi9fKkMpqyFCsenwwBnX1NQROzGq34Vgab390aGsIs93s+vS8A8v1dctfCTTJTNdxMBZMjcJ0b7G/kiLCe2PVtKGG4xoDTTJnN/h2jsSUSVLd0H9Jb1g0bbvhxb+FGwJNMkd3hA6JwkwPYJB0n07sIQJNMvdAxIyOxHArT9gBf70Xs0fcgT5dAxHg4WIeaJI1k8opOBzDx9+P5cP9ESp2q508vBOxh5Vnike3/rbvt6b+mDvIGGiSGlcp8dK/rYVAk8YXCx67HwukcojQT56tfp/y/ehuCjRVSDrWnIfvw5wRkQj1VgWaZMbymiA9S4b4Wi0vS27NnKXrGYbYqSMxpX+I+bNVqv8egd0w4bGReLNrRc+dmuCMCcNH6stN/15V56XxDsGgscMQ+xfpeSl2V0b1P4sM2j09C0/JgSY54+CGdtFPY+FDSo/NxssJzqaZwXX4ozqT7VHdsujVFM9eTURERDXGSlOI6gdnTJQaFRN7eCuNDbmnT24Gzp5L0W+pudegs97zv+bJvV8K85AqzuXsuTRk5KsasM7eGDDyDkx0FfkypPc34m4MaqtqzF1XH096f1kF0F0vp6eCyoCBUmM/XLXosdyLJkU51tn0POl8K9PA1pqdg2HLstljxCqPQMyR3vtii62PKmjj273s68oWhhjxdwo7nJfKgP6D8dzAQGhE3dJlp+DAnv2I2xmPA6cyoDX2Zmrmj0EPRGFipVq2DugQPRQLhoSI4yr1NTVL1StNrhuDw9BLZBsE1wDMvSccHtL70mWnSfeeqEtNvRHQqxse7CbXvRJo09OQe93wEjQd0K+iyMf1a9BmpSnXVK6nqnta0zEKLw60vpj3tp/24IAxbtDUHb3uuRWDrDzRx/ytH0KNt1leImLXJdf8ZPKaICyeFI0ID2MwSaoL+TmmOqy/tyv77HL1x5sPRaNXa/EmSguQeuyoVFel+hp/GqnZxvvaAR7h0XgxuhKBmNa3YtnYW+HbTOSLxLNHKn8Y635TF4Te1Q9TzA5m5T68KF0z8arc263sfapsJzIregY5I0J67o/p6GLIGo+XkqPck9Lf+Eb2wZQ6mKf63vB2ImXkjHZhvUW68XK6ryP8RBpZSdjf8CZsIiH8mUGih5rcq+lnfBlvSBMREZH9cRhdPTVg4FDM7Kk0MrXn9iN2cxJ2WWmrBLQJwp1IxqrKDqG64WF03pg4wBkphzOwL8/68B4Pv054dUwkAkS70DRcxZJHGGIfkxp7cro0DwfWxWFBio3AUlMHdHAqwVljI74MqTH6dBRC9b0dinB2x2bMOSQ14vWvWZKOJb3xs9rKBbEM1MNcKjFczax8b0Rlr0kVz8tIOr/PxhkCJzbLy9kbs8dFoY+xgX9pP6avTkKqIWdGPTzQSHc5EWs2HDUbhuQRGCk18DuJcsnBrk/isLie9xCwfG+6i/vx8pdJOOnaCbFTI/X1V1dcAidHB9NQNvSMwqqBhuFauYc249Ed5j1JIrp0Qr+iDPyYkoez1mIPTV0wZsggTOgq7v9i6d5+fw/WGnLm9EEdqQ6Iy6RNiMMTW5XhdGbD56T77JcvN2PhDQwBrRo3zHxkGAYYg6t5p7Hqq3grQ9IcEBNzL6Z0LW94lzMmjhyG4cHiDeadQOznBxFnUW4R4f0x+64gEeS8hoR16zEnWf+SQjWMzqS0QD8U8pVEpf5r3EOw4JHeSpkmbsWELbaG3UrsOkG4UQlyE3fjnR/TlGGszr54c1I0QsWDpcLzqgG9563DG3eaR7nSf3wO4984JHK1reaH0TlFDMGzc6MRbBxCt+QNfLq9rn7lqQ4Oo0OQVAZvS2VgvJbVGA7JYXREREQVs/I7ONU51xCM7a4EmuRG7BPrrQeaZKmXqhBoqpYsrNiVhm02Ak2y3PTTWPhrhsgBvv76cFJZ7f0MgSZZxnEssRVokpWWF2iStPFGgHFYjTYZP9oMNMmkY1Up0NTYOGPKX42BJqm4ErZbD8wVZWHh2nicNbap2nTGg5XqSSE1kg9vxeMrzQNNstyUBBwwtY09EdBeJBuK0hzs25pk6BVUWGQqMznQJAcZPhVzJmnTs5XXmoiESsLx04hNshFokpVew9q4X5BQKPKOrRBma9ihVN9jd6eZetZoIv6K2frWpMRs+FwRzv60tRYCTdI5dO2OvsZAk/Y0VnxiLdAkk54jtsrAKKg7BhkDTcVpiFtdNtAkS0jcg9ijxpmDXBDW07/iYG9RBrZ9sQkvqAJNMm1eEuZsT1bKNCwUY0S6dhQhY/9WTNuiCjTJpPNdckh5tmr8vBEh0rVl/zufYHu6cgGKzsXhwyV1FWiyN39EPj4Ew4zbjPGYtmwO3lkgAk0l2Tj8+bIGGmiyEDwEH25YpGxfv47F/52NeW+MR0x0C9OQ28Ym/MF+ItAE6M7txboGN+8WERFRw8JgUz3UK7IzAoxXRtWIbShSL1xWzrdlS/QRSTPXdcrQk9aBuN/6SKHKkRr+pglqNW3QL7CS88DUlEtHMUHMj6LeNqaI1yXyBOGWrytb5SdsrzLXINxqClxkYN/ucupWYTL2nTcG5jwR3FUM7SlH7oHvMG17Fqx3WLqGHGMApQHSnohHbLbImCnCyf9VtTdLRbJw1hSYc4NnK5G0wnz+JhdEDDHMFaUePqc7tx+La2lC8LHhyvxQGYeOYKM6YFJFw7sGmoJGulOJiC3nQbjrwCmpRhs4BQXjHpG2Su5NuX47ltroGKQ9dk4JtDp6IqS1SNeC3MPbMfN/1u9Ls2ers7N0V9aygji8Nn40Hp35HJ57ajTufuwt7G40i9t1wV/vjUaMcYvugfC2IvBSmIm9X63Eym+sPgAaPgdHuLp6wa9LDwybMQf/WjkJgyLUE6M1AkHRuKdHC5EpxO9bt4OdkYiIiGoWg031jjP6BipNiIzjp+zciLWfAHcXDOoSgim9LLZQL+ldKNRpk5MnccLYanL0R8xjI7F0SBAGaW4gUJR7FgnpIi01zCNGj8ZnIzthuLdDNYayNVIhqh5lWRfxcwXBn33pSmvc16fiFnd2bkG5gdEVa5SgWtVW46trBThx1MYcWfln8eNxka4qZ2dEtPbFRMt7SNrk4Z4mFbT7zOZv0nTCg5OHYWxHcefJ8zRtSLE6BNL+/FW9sHKk27w6AS53dAkwBjhLcPZ8BUPGcrOQaeoNVkGA6GICFlwUaauykWGKmLrDp6LFDuwmDT/X+x8XCnDh8CEcOtlIAy/WuPqg3/hnsPi/z2PSfXUwWZZdZODCmWScK7Nl4kqhRW8t9zCMmjsFMZ1FvhFQ92rCxb34b5xIExERUY1hsKnecYdvS5GUvtSnnqt4uf9aJS9pPyQaq54dj6WPj8T0e3ojJspi66UsyW5TaRYWfpuIXNVkvAHh/TH9yfuxYfpQLI0Jx5g2lQ0WFWHphj3KULumDvAIjsTER+7HqhnDEDuyG6aEuMFDvHwz6+NjqlxSObVEPytBDvV2bytVqNDxJn9c2Oqh82exVAOrRl7WfvHjUl2fMRoLHo7GcMt7SNoiqtKmLc3BgtXSPSBOxKmFm+EelPbv+vootlWjd1GVuGrgYQqMFeL/2bsXuKjK/H/gH+XuIDeRm1wUvKCJl8w0TZfUNMtVs+yiu5Vl61b2q7W2y5b1N2srK6vNLlqbXVa31MzMIk3NtUyNvIKKF1AEERAZQEZguPg/Z+aZOWeGGRhkgAE+79fv/PY5M3Q8l+c85zzfeS7aRo3J5Y8Q80RnldCE2s6jyhKmaunT0XLGugZr3a3w6HJswaKpT+AB8/IPPDl/KT5O2o+TpkCuTwiG3v04Hr3b1EKmNUnFF4+/i0W1ltfx7J3/wAOz38IXyflKi2OPGEx8YKz0RtIGWLVq2r9hI1s1ERERNQMGm1yOBhr1DG7NVUl0hDwY8V8mYUr/UPMsZo2hO3MQ9yxLwmb5TV59nF5+iOw3ADNn3I4VD47Fwv6+9QeddJmY9956rE5VzaQmk6fb79EfE6dOxiePTMLi4YEOTY3eVnl2UF24oLhaAY5aS99m76jT5o0bM8kwrX2so9P+O0q6B9YdsqxCFR3YgcXN2QAlwAfm+NCFEqh6jl4GKa+as6s3IofYyJ8WywBE2p39kqihqlCSko7kpSux6K5XsP6kuV8l+oy/GYOklLy0GQU5+N9Lr+PNHUqB4dEjHleLdGs2aNZotmoiIiJqAQw2uZwa1wowmfli3q0jEWuaKrymFBk7tmDxB1+qxhoSy8pUx7uB6LRYsnYDpr67Hsu3peKoeupxmU8oEiZMxifTYuoPEkn7tGLjFsx8+0ss+f4gUiymC5e4+yF25ES8et8Am1PEEzU1eXa4OapZJitzj+ObVWsx902re0ha1GN8OULTbQDuVU0sIAsYOBLzWqrXj0YDq0kKiVqpQiQ9uwUnxRo0cRg5GYalrTn541GcF2kgCNGJItlaxUzAjYNMUegypErvCGzVRERE1DxY5XY5xdCaB1z1RWiYSLa08FgMMc0whVLsWbUe83blYbuzZnbTl+KbPQfx5IoNmPr2l3hlXTIyLijb9ugxHPf2Eyv1qanG5iOpmL8qCTPf/BLzVu1AimoGJQT0x5+uNbe/aFf2FKpes7N21Apw1Lmssp5LnhrqtgRl8OzKM7vx7IpkLM8qR3ZjA8wdAzHvRtUsgxdE91vp89G3NGNwNU8HrUjK3VnrE+hZV1+3EmgviKRc5qy0kSftLuuxsFEz7wUi0tzvthTacyJJ7ZfuDArMxacPNNLzUF7anOMXcVEk24JBs0YoQe+zyfhifRuYTZCIiKiVYLDJ5ZQgW/lZEZF94xAp0i0qNEjpylZyCv+rc3DdRqqpxq7045i37GsknTEFnNwQ2ytCpBuiGhlZmZi/Yg2WpCjTJgX0iGz2acNdgXpafnmmwNEiSc3BD5GqIbOy0tJxVKQbxxOzbh2LIaZGTbnJeOGjn5QBw/36Y86tDrQMdIaaYtVYR0GI7SGSNsgtsW6Or2uGQy2yzWM++SLQPLJ9MwjqhjjTEC9V55HmaHnXwd32hAhtii+iBw3G4D6tdaDsy+UNH/NghBdwVrp55cUxQeh5lXTOol3/Rw6PKd1h/o2rMh/p20S6Xi54jBatmqpw9KcfVK22iIiIqKkx2OSCVqVlKoN0hg/GvEGtp/qi8YvCq1P6O2kWOD2OnFNG6fXwqnfY8Tptzle16mmJacNdwdkcZJiiTX59cdvgtl81bn3cMHH0eNzoYB+0cWPHY0qUuI76HHyz7jiOygOGf7UXeaLFlEfUSDw9NtBJ92VdCpBhnjTOG7HxwTb/TTnQ9O5tSksse348mSdSQOzQK5uthdb0UfHmCQUqT53E9yJtk7o1V+dQXNWWYzC+E/HM52vwyeI38Mb7a/DDvx/BMPFVW9fl/kT0McUtdJlI2QHDUq++D2DZd2uwbJF0zj5Zj/Vv3wtHG+k2O008/jw+Tml9efIgfhXpOrnoMVq0aspPxjer2KqJiIioOTHY5IJ0h1Nw0BwX8UTsdZOweEggIu1crcjwGMw0TzfeRIp1SgDMrydu6mcVpOjojemjE7HsvlHo40CNNrJbMMYFeNY5Q5zGLwLXxyq/kublKBVPC0GBmNLV2+75MfD0w9x+Sp+HyvwCbBfp9qUA61JNVWM3RCZOxpLRwUio49xFBodizrCIdtkSzLnKoVX1T4kd2B/Drc57QFgcXr3vZswZGlz/jI4SjTzr4iBTkyY9Mn7+FctNwcTCNCzelmO+bwMGyYPtN31wcVWqEizXxA/HUz0t/82E/iOxTASaKvV1z+OXvecIjpr+xC8ec2cNw6ywOrrneXpiXN/+mBUj1hvMGOi7zbTPNXn43+acusegqzmHPHN5HYjht1yJiTZOc0BQKGb2qKsll+sb9th9GNtNOTjPHlPwwCPRYq2NCo7AH555HM/fZJpltQont2zAfiklL/UZdedY9FQNXO+b8Cc84XLnzB1+Yyfg0ffvxVBzlDUTSR/tVJ77dXDJY+w9CVPUrZo2f6uMuUVERETNokN0dPQlkSYXYvOX/xo9dIUFyBNjGXkGdkWor7dhiu+MLSsxz8ab78SRo3C9dfcTT39EdfMTL87lyDt5zqoydQ4/rk2D5YQtwVj41/FIMAeSqlFZVIAsrR6enbsiMkiqRJn2tUbaP9N4LSWpWPzhwVqBndFjJ2PeIDmQJG2nrBK64nMoNDdicoMmOBihnVU1Nn0mVry7A6ttjW0zKBHrxooudhXl0F0oNJ8jmWdgKCL9pG2Z90+L7Z8m2ZylKyHhSszqZR0t80FoD1MLjWoUnclBoUUdWYeUrXuxvJ5p3mfdNgNTxM+s9q6XPc7dL1/MnXEDxoWrzq90zSpLjNfTyBNBYf7QeEn5Sz5vdq6jrDHH5eqUY5PHDFKPAxSDxY+NRKyctD434QOwYoaxdZ9u/wbM3KK0qIscOhZLRqtuyCrp/jsr3X9V0vnuFowAT1UgRc7rIs/aPK/y7JD3SvsgLmPlyZ/xt7VZyDauCp7SMUy2bPn08TYlINUk/PDU/ZMw3DxWeTV0BXnSPSntclgoQn3EMeoysXq/B6aPNN671ufKRBM3FMsm97KcAVNfirw8rXTejKuenQOl8sIHHl7Gbds8X+pyQqYvQfaZPGRnFhpaJgWGRKFHD9X+SeVtxk/rpe3UHRCT9Rk2Fq9eq7qu0v2kK5SPWSqH3H0RGuIn3Utudo5RlZcgXZ83pOtjSNugylt13ZNN5YEPt2J6nFgRSne+hMnPbBFrze06/HP8k7ja8JtEOtasfQgfGD533KBHH8J4W33VPTqji3Td/HwsxxU7v/tjLHg5zaEgjGzUC2uw4Fqr5m4nv8Hk+96WSpXmE3X3XbgzwdQ3VMWnMyLDguChKnrk7nP/++AtfLHFsZZArnKMCncMXTgf9yaIYFNBMhbNXu3UYNNfr/kBtxp+5NPht8234B+1iy4iIqJ2T/36Ti5Ed+YgHvp8t8Ug2ejoCU1wBGJ7RBmWyABjoKkuYd2Mf2uxmANNMm+EWn/fI0wZs8GsAK98m4oic7DHDR4BoYa/jwxWBZoupGP1v39Hhlitn7QdH28EhKn//QjLQJO8zY/tBJqseXlbnCPD/gWoAk0VBdi+ynagSRYYEmnx3xoXdVcgNwTUOqeRTT7lunP3qxRLvvgBSSdV1YCOyvU0LqEIkK6LIdAk1F/lpvpkJ/+Mb06qzqS7dP9FifNtCjTV6JGXvAlLD9ZRTesYiPkzlECTHIxdtc460CTTY/l3ycgwxxAjMGVGUw8YXoJXVu5ARoVYNQSP5XtSuq9NgZyi41j++Q6sEOOY10WXnowXpLInz7w9iaevOG/GJTLY1xxoMnCkjuzph8gevTA8cRgmSsvwfqr9k8qJPd86FmiSHd39M1afUB2MdD+Zy6GoQEOgqS34LvW0SJnokXvmuEi3TuExMejR08YSE2QZaCrLR/J/Xm9QoEn28/ItOGGdjYLCmr37oX+kjWOUl26WgaayM/vx+TOvOxxokrnKMZr1vgE3mgJNcqumrV+zVRMREVELYLDJhekK0jFv2RosXJeMlNwSVFaoAk+yinIU5R7Hru+TsPig+KwJGQJg/96Ezce00OlV+1KlN+zH5nXrcc+y3VhRUv9LakbaAew5loO8C+W1j8vQ2qkUeSdTkbRmLWbK26yrJcbpI9h1WKpoF0nbKrNROTSfpw24Z8kmLG7Kwc1bi5pSLF0rXS+pkrD5cB6K5POmDubV6KVzWYLsY9I1kK/rhwexS3xFjaHH8rVfY/GmVCm/qs+5lOcvaJGxfweWvLcGc7YX1Nl1a8qE65QBwVGOlA11BGN1mZi/WTUOXHMMGC79m/OWbUCSRVkht4bMQ8o26T78dzK+aUDrqqMnDmLOe19iiXTeMgpKUakuf2Ryi8aCHKQkb8OSJSsxL1V8bo+cv62LKakc0xVkYc+mJMx9bxMW1qo910WPFd+sxfw1oqxW75/8b0nX9qi0b0t/bt3NH06/vQjv/y4i9dWlOP2/9/HUe9YBqDaiugplZYXIPbIfSR+/hXl3vo6P1+Q3KNBkcPJ9zPtoXwu18HGAfJxF+UhN3oiljz+PeQ+txK/HxHeOcqljdMfQPw9VfjAr2IdvVjoeOCMiIiLnYTc6IiJq+9Td6LJ2YOqqTGOaWrHrGt2Nrnk8gGVbp6OnWMPR1RjzwPtipXl4dAtBmM8FZJ1QJt1wrpY/xubEbnRERET1Y8smIiIioqbS1xfKVBd6HP7tc5FuPpVn8psw0CRxgWMkIiIi18JgExEREVFT6DoFC+aPVbp1Fe7G18tdtlPd5WkPx0hEREQNxmATERERkZNET7wXjzy8AG/8eyXWr3wEo8JMs0GewOr5z6Ol5u5zpvZwjERERNQ4HLOJiFpOQBTmj+mOQLHaKO4doUGNeTr8xtEhZeteLC8Sq21SMOZN6wtbs75fjuw9P2OxKw+DxDGb2iD1mE1a7N/7C2oNV677Df86lyxWmsfYl9bjmWuUTmUG5/bh45efx3/2t40WP+3hGA08JmBWt57oLFZNouP+iEH+copjNhEREdnDYBMRtZzwAVgxoz80YrVx9KiGJ5wzyXwp9qxcj4VnxWqbFIPFj41ErFhrrIwtKzFvv1hxRQw2tUHqYJMdZ7/CuJ0fipXmYQ7ElJUi9/Qh7N60Cv/+2oVnpLsM7eEYDfwWYt24oarxqKwx2ERERGQPu9EREREROcmWZyZjzJgxGHPTZMx44Gm83QaDMO3hGImIiKhx2LKJiIiIiIiIiIichi2biIiIiIiIiIjIaRhsIiIiIiIiIiIip2GwiYiIiIiIiIiInIbBJiIiIiIiIiIichoGm4iIiIiIiIiIyGkYbCIiIiIiIiIiIqdhsImIiIiIiIiIiJyGwSYiIiIiIiIiInIaBpuIiIiIiIiIiMhpGGwiIiIiIiIiIiKnYbCJiIiIiIiIiIichsEmIiIiIiIiIiJyGgabiIiIiIiIiIjIaRhsIiIiIiIiIiIip+kQHR19SaQtjS1ByhNF8DOsdEBFsRdO7ArA0qWe+EZn+JCIiIiIiIiIiMiCgy2bLsHLvxxXTMjFv1YUYOkI8TEREREREREREZGKm7+///8TaUuXOiKixhunjnrhovclBAVUw13+3KMSPQd3gG61F/Ya/pCIiIiIiIiIiMjIfjc6K1EDL+KTFwvQ01Ne64BDK6Nw46eGr4iIiIiIiIiIiAwcHiA860AnvPiTj1i7hJ5X6EWaiIiIiIiIiIjIqEGz0f10wAslIu3VuVqkiIiIiIiIiIiIjBoUbCIiIiIiIiIiIqoLg01EREREREREROQ0DDYREREREREREZHTMNhEREREREREREROw2ATERERERERERE5TcOCTbvcUSyS6FKJ+0WSiIiIiIiIiIhI1rBgk84LJ/JE2r8Yd8+tQZRYJSIiIiIiIiIi6hAdHX1JpB0SNaEE388rgp9Yh9YHh452wom8DihO98H8jR3EF0RERERERERE1N40ONgkixpYgYWzizCidwW8xGeykl0RSHjeXawREREREREREVF7c1kDhF83UochcZaBJiIiIiIiIiIioga3bLpuznksnaYzBpp0vvjhP3744md3/HTO8DUREREREREREbVjDWzZVIW/jBWBJvjgh38EYc5aBpqIiIiIiIiIiMioYcEmjR5R/iKd54Pv00SaiIiIiIiIiIhI0rBg0/AqmGJN0LnhG5EkIiIiIiIiIiKSXdYA4URERERERERERLYw2ERERERERERERE7DYBMRERERERERETkNg01EREREREREROQ0DDYREREREREREZHTMNhEREREREREREROw2ATERERERERERE5TYOCTSMSKuAn0iXn3UWKiIiIiIiIiIjIyOFgU9TAi1g4tkysdUDWYQ+RJiIiIiIiIiIiMuoQHR19SaQtda/Ewhsr4Y9L6NpXhyFx5fByE99pA/DiHX74UKwSERERERERERHJVMGmDtKiijuNLUHKE0XmbnNmZb748qkgPJEm1omIiIiIiIiIiARVNzrbDZwMqjuiQuuDvRvD8H8zGWgiIiIiIiIiIiLb7HejIyIiIiIiIiIiaqAGzUZHRERERERERERUFwabiIiIiIiIiIjIaRhsIiIiIiIiIiIip2GwiYiIiIiIiIiInIbBJiIiIiIiIiIichoGm4iIiIiIiIiIyGkYbCIiIiIiIiIiIqdhsImIiIiIiIiIiJyGwSYiIiIiIiIiInIaBpuIiIiIiIiIiMhpGGwiIiIiIiIiIiKnYbCJiIiIiIiIiIichsEmIiIiIiIiIiJyGgabiIiIiIiIiIjIaRhsIiIiIiIiIiIip2GwiYiIiIiIiIiInIbBJiIiIiIiIiIichoGm4iIiIiIiIiIyGkYbCIiIiIiIiIiIqdhsImIiIiIiIiIiJyGwSYiIiIiIiIiInIaBpuIiIiIiIiIiMhpGGwiIiIiIiIiIiKnYbCJiIiIiIiIiIichsEmIiIiIiIiIiJyGgabiIiIiIiIiIjIaRhsIiIiIiIiIiIip2GwiYiIiIiIiIiInIbBJiIiIiIiIiIichoGm4iIiIiIiIiIyGkYbCIiIiIiIiIiIqdhsImIiIiIiIiIiJyGwSYiIiIiIiIiInIaBpuIiIiIiIiIiMhpGGwiIiIiIiIiIiKnYbCJiIiIiIiIiIichsEmIiIiIiIiIiJyGgabiIiIiIiIiIjIaRhsIiIiIiIiIiIip2GwiYiIiIiIiIiInIbBJiIiIiIiIiIichoGm4iIiIiIiIiIyGkYbCIiIiIiIiIiIqdhsImIiIiIiIiIiJyGwSYiIiIiIiIiInIaBpuIiIiIiIiIiMhpGGwiIiIiIiIiIiKnYbCJiIiIiIiIiIichsEmIiIiIiIiIiJyGgabiIiIiIiIiIjIaRhsIiIiIiIiIiIip+kQHR19SaTRqVMnkSIiIiKi1uyfL78kUkb/ePoZkSIiIiJqWmzZRERERERERERETsNgExEREREREREROQ2DTURERERERERE5DR1jtl08eJFkSIiIiKi1uStt98UKaNHH/mbSBERERE1LbZsIiIiIiIiIiIip2GwiYiIiIiIiIiInIbBJiIiIiIiIiIichoGm4iIiIiIiIiIyGkYbCIiIiIiIiIiIqdhsImIiMgJvAZ3QcKD0Uj4ow+83MWH5Lh+wRj5WDd0CRbrZOTujdjHeuPKkW7iAyIiIiLXx2ATERG1fWO6Y9Jrg43Lw/7iQ+fxSOyOxBnRiOnRBTGj45E4y1d8Qw7pF4LEu6IQGBaCa+aEI1AjPm/3vBH7t97oF6ZBxNR4BpyIiIio1WCwiYiIqJG6JgTCQ6RlHr2DESbSVI9gf1w9oxt8DXGUauTvzIdWZ/iGUI6sPSWoNKQ9ETG1F/r0M6wQERERubQO0dHRl0QanTp1EimjixcvSv9fegl8LRYh8vq+I9i6stzwnUGfMIyZHQ75v8rfvA+/bTR+3Bw69vFHr7Gh6BbRCZ28Ohg/rK5GRUkpTu/KwfHt5aipMn7cenVApyFBiLu2C7p28Ya3j5sSHZSPVV+JivM6aM+cR/oaHeSrRa6p05AuiBrsj9AIX1z85SB+3yq+aC4jonDjzcEi/5Tj+EdHcPSoYcUBHRDz2CAkiJpzrXLA1UVqEDM6CKFRvggszsHGD4rFF2QQEYzRf4uCn1hFzilsfFMrKre1Bd59BUb29xRrUtmfJJX9zZ2fL4fcsmlioDF9OgMb3nFuPrA+L1LBjK3/zGe5XB93b/R5si96BRhXS6XyZZvD5cvlPSO9bu6N60eYmk5psffpU8hx+H3BBwkvxCPGR6xKTPdAyP0DcHVvU8sjPTI/P4SUg2LVWkAgrnmmO7qIVVw4i20v5KJUrFrzmxGP0YPFP1oh7fNb0j4XGFfr8tbbb4qU0aOP/E2kiIiIiJpW/S2b+vjA1BmgNNfqBdDXDabXqpoKkWhqYb7o81gCbpwdi149NEqgSebmBq9Af/Sa2Bc3PhuFkFY87kPH3l1w9QsDMeaOaMRIleVO6pdomXysPt7wi+yCmGFdId7TyUUFjIhGrz7+8OtsdR2by69a5JorU97oNsRbpB0QEIQIcxONcpzZ04oCTbLeXZEwOFgqD7zhoW56Qkad3WExvFCEdL3tFSjuvugRrwqoyHhODbQr0nE4V48aKV1TVoLD6xhoqp8bIh7obQ40VZ7OwA4HA02NeUZW7C5EiUgDgYgcLZKOGBKEMFWgSQ5WZW83pty91V3cPBE2xOIPLXQa11UJNBl0qPPZULLyOPaerjaueAXiyjkh5nczIiIiIldUf73XTQnm1Mhv0Wr+HvAyJMrlH+WaXp8QJD7aC73CTFWjS6i8oEP+yfPIPVmC0gpzIy1AE4yr53ZDYGscpLVfGEbfH40QH9O5l46zrAznDccpltwyVJRVGyo2RPUrRXaGqKhIOnX3M7RIdITHyAClUqQ9jyyHW0RR6+SHmOvsFJzDpIq21Ve+XRoQuGzLqsqR8cYhfP/3ffj+uXRkHBafk10eY6KQEC0CNLp8/PZ+sd0WdRYa+4zMKUK2qlVQcG/HwzaBA4LEe49RTXqB3VZRXr2DDa3Ca3NHt95Wg1J19qoneFSNnPePIeOCWA3ohqtu471HRERErqv+YFOYl6iU1g4oefmbfuHWozxPJJtSehFO5hkrzBUnT2H7C/ux8YVj+O290/j9vXRse3Y/tm4zjW0g0YQgYWoriza5+yDhtnDzS2dl/ln89oZ0nM+lYafhOMXyRhp+fO6gVLGRvvs0B0Xi74nsyT+kVSpegQHoFi3SdeqAiHhzByuUHCtka422xvyDQhUqxDg5fn2DbAQjOyDq6i6Gh0aNlt12qZHcfZEwxjTOlR6Z356B1pGubE55RlbhzDFlUKiOMUEIcehVwQeRPUx/KL+LVCM3Ren45mZ6o9LpYWjs7R6IyJGGTywN6Iruhh6dOpRoDZ84pqoch9fkmu8936HdEMOZ+4iIiMhF1RtsUgJK1ag0/aImePiYmoxL3zVHtKNKeiF95xh+W5OCH9/TosRqf2QXv0vHvnSlBYdfn6DW1dT86mBEmX7wrDqPfW/mIj9XrNt0CZWpelb8qH4WXek0CL/agdpVQICqC50OZ39zeGATai3MPyhUITdTdC6yFYwMCEJkhJyQKtjHbBS+RA3ge1sUIkQToZrT2UjbY0zXy0nPSIuudO4BiBwm0nUZEKB0oauSXnqkJXu3WIc3OpkmOTxfhNwyOeGGsITabyCBQ4KNraO0RTjb0Fvp8FmkHjO94/gh/uZW9YZDRERE7Ui9A4T7zuiLxMFyU20t9v79FHKMXxlEPDwYV8oVkgu52P7CWdUYCC0ssTsm3SQGgrWx365MOd+SRg9iqwzuXu95UA32bnugUtW2CrLw46sFhl9uvQZ3Qfz4EIQFeMPDELuQXuy1JcjYchrHd9sLTDhzW5Y69vZHr3FWA8fL27lwEedP5CHt62KUGioB9qj2TXX+DdudEI7uET7KvknbzN2XhcPflll0/bC4hg3WtPk1cFYCRvYTQSYHBjD2mBiHCWNEyybVtbLJvQP8RocifnhXBPq5w8MQi5bOU1k5StLPIW3jeWjrrBRaE4P/JnZFWKA3vNTXU2zz2JZCnM9WdZ9V5+PLUO9g1z6eiLg5DD17+sO3s7s5Wl9TUY7SHC1ObM5DzjHV/thgLjfV19qw3Uj07ucHX3Gchm2eysf+dedR4sBAwJfNPHB2OY5/kY+gO6IN3SYrUtPw46fKzdLp1t4YM0yq5UsV/N8+16P/LHGeT6Zjw3vWpX8HePTXIGJAoGFgdv/OXqrrJx9bFS5qC3By2zlk7alqUHdgm5NDGPJEBcpypWuwRboGR21cA1sDhLu7I3BiOBIGB0rX0zjmj6Pnvd773OHyW1Xm5J7GxjfOS+WJlPdHdkX/P4QiONCUz6RjbGh5GKlB1A3dENddda6qpHNfVIwzybk4vtU4xlSzc/fFlQt7IcJQFDVswgLnPSMtJz6oST+O7z+wNzy3kXoQ+Jpjxw3/+/2Hpv/GG32e64tenaWktF87SqNFWVuCAy+lI8v0g5zq2Et2p+BEeIIoD8pw/IM0HE03/FXdokMw+uFuYlB/q+1b4QDhRERE1FJqt2waFY4xC/oYlkmvDVa9TAfiSmld/sy0GF+QJJ3DMFr1+ZgZl1vRdpKz5a23pU+VqpLUpZN01l2Qlzs83L0R+1gCrp8RjSh54GURvzBUMgP90edW6bv7fesfO9hZ23L3RMwjCbjxfhsDx8vb6axB2OBYJL5wBa6aYDXAcV2kymjY7L64Qd5utCnQJDNuM2p0PMb8vUuraT2nPVioBIsCAxBmaKliTweEWXShK7IfaOrhj6ueHYTRUsU9RKocGwNNMuk8+figS3+p4iVd46tvcvDcy9t7Tgz+G+ZjEahQb/Oae0Ob7dx3uikWE6T8c+XgLvBTBZpkHb284dcjHFfePwjXP+iPTuZ8Uj+vxCiMeV7err850CQzbLNPNEY/2guxfcSHTa20GHkiwOLVI0BV/ngjqp+xOUlNZiHycyqlqrGgGtfPbEwMJtzdyzwwu+X1k4/NHb5hYUi4Q7q3/x4MP0fOV7DG/uQQhjwhrsHsGNSZrU2CpUr/swkYOVr691UD91uc9+aeYl7jAS8pb/d6rD/GTO1muJeUfCYdo6E87I/EesfqcUOXGb1w/SO9kdDH6lxJZVqn4C7oNfEK3PCPcHRpgW5YHteHikCTJCcXGQ0ZB85pz8hLyElTgqQdYwLFDzP2yF3olJbeuYdKDYs92qNFIpDnh8hrVOdfym/GYze2FC0rNQUOpb9xtNw4fQ4nzb9I+KHHuAYUOERERETNpHawqS1QzZKHqmq0po4/pWnFSoVeE4aBszQuONlTJ/R7si/6mUYKrq5Gaa48KGsJzO/NEq/esRg8wXwl7HDCtgxTZ1+BhEjlhbumQhks9rxWPUisJ8LGxePqMfXtl8S9E/o80R9X9fE23ijmfStGSZlS4fEIicaVNyv/dmVOkXGAWtWiVbWmqsi3/M5yKVUq8U1hT6Ho3iHTIHJYHZWUgADRbUqmQ7a91hR9umDkfbEIM3VtqdAhd99pHNh8Cin7CnD+gulcuSMk0YFz3y8MiQ9K2+usVNDk1iYl2eIcZetw0d7Av3JrM+tzmq8XX0rKpAqi9feqpcBOSxZ52vExif7KvVhVJfKCtEgntFLpuQuvHrEY9YDqb+2SAwLxGHtTMDoZTomx5Yq8zfwCVYsTL1/0myr9jVh1Nt9gdeCiClmpogKuCUbkEGMSAwIRLbfYkL9PlirYRVVSddsxciumCnFchkW+fqrJHDxConDNX/zqPl/B/rj60d6qySEk6msglxdlDWgh5R0oba8XIkSerSmyc97/aP+827rPzxc5elbscPfDwCfj0cd0nFXlxnJMOmcV5k13gO/QHuhjNwDZASGz43HNYFOA/hIu5ubiqHQ/Hth8BpnStkwtMTsGhuGaOWGOBfucxjKIfT6tyLFBwQVnPiMrdxThvEgbxlcaIdK2yF3ozN33tMj+FYZF4YnOhntE+LUAWaKs7dIvSOxjB0QNFOExKe+eOi3tg3R/NNwlZB1QBnvy621rjDUiIiKiluXm7+///0QaHvK84FXVKNddREFmKXJOlKBjuJ/8YyugzceBHeeQl1EkFj06xWoM4w7U5J7FwV3nle+O6VB6zrDJFtFpZDh6RYpfIPMLkLqzzPFKSEvLK0P1gFCEiuYanl27IPYaT+hLdCjObehReKPb+EAY34/LcfbHItgdHiLYFz2u7Gx8IdaX4tT/SqGqoktU2/LyhsZQP5UqMUczsG3xaaTvKEZOslb67wpQ1jsYYf5yeKYjNKGXcG5bqfSvqzlzW0DIff0woJuIm1aU4vi6o9j1eT6yk+XtFCP75zwcTymFV98gBBhmL5K21csHFfu0KK7VBE61b5190cXw99XQ7kvHL+9kmfct86c8nIsIQLQYVdbLR4/MHRcNFfDqU9K9I/5t01LdPxzhYjyPwu1HkbzK8ntluVjr+JyrCpXduyK6q/F8qfe7lhFhGCSdJwOpsrp3k637yBt9/toT3UR+lacu3/p6jlQRKkNJejmKU0qQ/T/pXPn7Ily6J+X2I/K5L5POYYmtAw3ww1VzohFkqvyqrmfmbnGOdp/HSen8H/+lAOcrK1GeqQp8XKjAOetz6q1Bb9NxnM3GtnfzLb9XLVpbEx2MiELidf4igC3ywpJskRekZWcB0rcVoCjMD+EhHnL7BKlgDUSg5zlkH1e1whA6DzPlBS8EhBv/Xh7keM8HJ3AwSWvY5hmprE3P64BuA0XAoJM7yg6dh7YJhkryHNgV3cPlE16Fwr0FyD8iVY5HB0iV147w85TO/149QibHIqaLlGd0+Tj0X/keVN0nZRdw0rqM7XwJlzLysG91FtJ+yEfGz8bjMizy9duaJ12XTugW42U4r26BXtDbPT4pj/2tN6LNTdj0yN2ahu0fnJX+XbFNubz4KR/HpXyRW1mF8pN6q/JL0iNAyQcaH2jkQ64uQ+baNOz473nlvBd5IPqKTsZGJp180DHvHPJt5Atb93lRVJA4l5JiLY79ZrctoIrqXHp4yj0qJVI+230MP71zFlnytqVzliHlN6+rghFgGOzHHb7excjYXztQ4ZHYHSOu8RX5tQwZnx/Cb+suoFC6H0vSdciXtpWechG+A4PQWf63vDsjLEza1oHLCXpcDj/0vsU0lmIJ0lcWorghhZ4zn5Hl5XAbECa2JZVNbsb8bovv2Cj0FNe2Iu00UqRzrwwxLvNGpOk6Gq59KSqju0jPCOlK+Lob83fnYAwa7294bzr/20lknpD2P8F0/wGlx/IhFQWO0bpJ96m/McgkZetS6R6wdR5vmHiDSBn98MNGkSIiIiJqWqKGrpJThrNbSwxL1sYL5lYWNeeKpXWtalEq/eVniyy+yz1cu4LVbNx9ET/I8LonqUb+vsIG/Wra8qqR+V4ajmuVc9ixcxckzEjAjS/0xlUz/OGn/vW0xVTj/LbD2PpRCSx+mK2qQtb7GcpU0Jqu6FHXr8UGjdhWdAjiexurVXJALWPlcRy11QIntxQpi44i01w7kCo8N5lGeq2DVBk9/nkKdqwstdw3XIL2x3PKOGXBvoZxbloDi650wUHoZqfPUcQVSgeV82m27yOPid3QK0CsXMjFzveLrc6TTDpXa04g5bQpJGS/20fglCh5vGqjCi32vmXnesrKqnB+e5n9rn1O4Y5eicHmlhMX9x2zkRckUl7N/zQNOw8rFdUuQ0Mc6OJzCaX70vDja7UHOa45eA6nzC2tNAiOF8kmI2YVLdIi87Txk46xctciX0TGGu+xi8e0qDV5ltz1SyTNDhbj+K/StbEbHJOO+9sMpJmP2f7xWeQxeVyb5Yfwe5KdsYaqLqFka6nVeHN2VJTi8GdpSLHKXzXJ2Thm3i9PBMbZzqtNR3pubT6MHWusAnhlZUjbo3T78gox/thjyQfxiaYZ3uTtHMfhgzaex7kl2Pvfs+bu5l7xXR2cjc0J+mmkEkC4cFEeI7uBnPmMtOpKZ8jvtnijW09TC8Aq5B6su/1pRamxHNDuOi/OsbEVqdewIHHs0j32o/V1cYePaYBxRxRdQKH53Pmh6yCRJCIiInIRtYNNFjzhI+rj5Tqr2lUfH/NYKaW5TdsWoyFCZsWaZ7hBUS4Ob23BwNflkioVRxel4rd9JaquE9LF8jGOOzT6uUG4/rFwRPRWuhk1t1Kp0r3zO9u/AKOqFNkZph13g5+plZkdjdmW77VdzBWXmvQsHD4sVmypkipru1WVtRj/esb70eHo0jQctVVZk+VUNnErpCbiSFc6d39EmmcjK0HODlvnoAMi+qm6w+zJRYmduJChUrdHa648+8UF1K4ou/uiR7zp+koV5a2ZyGnKgbEd0ScYUaaIUdV5pK6q+4prv85RuuVoAhBSz1hLJcmHsW2lvZaXVShvhsHnOhmarsqUWUVz9p437pPctejuQBh7demQ9Yszc/wlnD+rbK9TsK1ywh3dByt57OK+Uzha1z3usDIcX3kcGTa3Zblf7j7NG2ySy8PfNtq+kSpP6JTxCOXx7kTSbEiQ0tWr7DyOb1Q9QKwdLVCCmfJsbFeLdFMzz34o0V5UAvYN4cRnpENd6foEoJspgFVWiGxbM+dFeMAUjqo2dROVznGWiM769e6K3r2NF6cmvUD5EeWy6eUGVGa+IXU/Z4mIiIiaW93BproCSl1ML1bV8rASLsHvtnhcZW7lIlUm1uQ79gu3K5JbSqxMx4/PpmDH9gKLMYLkSr5XWJhhMOIJj4Ug0IEGOs6lxbGVdV/04gLle9/QunawMdvqgC7hptd7oOBY/Ve7cqeqYtG5EwLrrEfqoTspkjYV47e/78MGw9J6ZjyU743sk0pNxy/WxvhCo1W/8OcUIsdm64PO6CpmcpIDEXn76gnsHr6otIoJ9q3d6megP7qYrkeVFqdcIFDs0VOjVIxzipFfXwWxqEge71jwhn93kbSjvMBOkFXIeceUv+qZJa8R3L1NZabKjkLkGo7VDRH9g40PioJCnBYtnuR7Q6rvO8ZdKq8ifBAyIRBRVkt4V+UG7Ohu43EU4I9gc0bR4dQ2Jz1sTp91UtDK2eovD+viG9fZHMStySpW7jebqqA1Z+j6fxRwFt8wpQw3tQC6LM56RhZJ5Zv5nnVDF+m9x5rvkEBzOVCRXmj7vHZ2N3a9tFCF00dEc9rgMMQYBmOvRu5B5VlVUXz556C0SMkrNu8fIiIiohZU99uJVJE3vmDZCCh19hD/cSV05tp7y/Ga0B3XDPUR+1SN/KTjDk+l7NKkF2rtt1nY/tx+fP9RBo6fVAZ3lXmEdcPIZ7ojogVmFKpLY16grdnflhe8Tb/ioxzFZ0SyLkUVqi5QXugUJ5LtjEVXurAARJi7KRmF9Fa1WLI3gG+ct0XLsM4JtYMJFsswb4uglnXh4xHmrbR2yi1Bvki2JC9/pQJ+8bwjHfYuoaxEaWrh20UJhrYupTiZZnnfnT94XtVl8RL0pvuos7fSLUqlY29/JDx2BW58eRCu/1s8rh7XHQOtlj6qQf1tUuexCxdQ0Hoiui3CN1gJlFR26mT7PlQtwaoL1xLBCnMLoMZo9DPSsiudV48gq0C4O8K7m+5jPXL3ORplNar46ZzyA4dMdw4nVQOLV5apygupDLxcnbrU7lRJRERE1JIs3y4jfBA+xs+8RJmn+b0E90jLl9Re8cq4SN7dVd8Nqafy0AQ63RSHxHGqcSqSDuG3rXV0H2ilao4W4+h7x7DxuUM4kF6udL3xCsSV9zXdbFWuy2r2H4dUQdewukLbJHelU41fFTFS1d3E3ReRMabWLiXI3mmnQihVTpUCRIMoG8EEyyXEZlDCRB3YsdOvrNn5BjS88ndR17pGiXOzE2PQ7lMFJOvKBzZ4jOmO6++PRUyYZ62gYoP4q8eDuuQq2cJldVQ1UvOK7GbjHrRc6g32tTKX+4ys3FGoBIR8gpRZGGXRQQg3RZ90hcg+KNLW3Ox02SsqQrYqSFpxsqieFmeXqbrlW4ISERERqVnWA+IC0PcP4eZlYD9TQMkdIUPtvaRaVTJHmJuaNAu/m3thVKJp2uy2G2iyUKZH1gdHsGVrsfIyHdwVUfWMD9P26OXGDg3kLk9EJUgv5/V1i2qz5K50SsuVLvGmqbklw4LEGD2S0wXIavAAvpepyvUqS+puKo5SxkCSKr9Vrh4e8UYne4MSH9TitLi/atLzHM8H0cG4ZqIp+C/9txfOI+WLQ9j4nNIl0LRs21fP+WV0qU1z82qicQcb+oy0CAi5I2yA0kKs09UB5iC5zQHyTdRjUVm4hKwDpv9Kh1M/Nc2vHReLnNeamIiIiMgZGvWjc0uTA03XjBBTg0OPnHXtINCkUpF0Flnm91Zv+HcTSRfgpxqXw7HuR/bZ35ZUjTBfbm90DhfJukR4y7NQC+UoThfJdsii5UpYgPx/BiEJAeaCIf9QsUjZkF6mGhNNi71WgYS6l9pjXJWqxuZCYKc6W0E1G1UArFOAI2PauMM3SGleUprfiiqAF8qtBmsux9EXjNfr+w/qGg/NE96qGQ19r+2qXLsLufjln6eRuUePysupY58tVwbErneMNSo9r9xDF/cdsbrn6l62NmKsqIZQd4v28m3acaIcf0ZeQq66K11MgOhK545uYlBv+X44s8exc1RrjMutp8R5Pobj5nHPavPWNCyDqwPbVWXt9pcTIiIiclGWwaafz2Lr80fNy17TS9GFs9hm8WJ6CMdNv3LnnsZG9Xfv1FE5dSJ5MPBrzYGmMmSuSsPeHY0PNHkN7oKEB6MxcEYgAs2DH7sq1bgpNlXLw1kIbvCwGpdHzW9IgBO74bkj1DzGRTWKTjWmElPXtvTQ5ivXPCS+7rnlZB5DApWKcO4Fy7E0motSP2hZB4ssutKFXyn/r7oLnRbZ20XSlqoKFJtblvmgc2Nb1mVeVIJXnYMQM0CknamB4fXSbJ3SMiIqoP7p4YP9EW4eG6YE5/aLZJtTgXJz3pHKFlV3Vj/VOFUXT2jrmKHQAUfVs5X5I/L6lpuBszUoUaaZdNkxfCpzy5Ugd5MHlet7Rioqd6q60plmkowIULrQXdDiTFOMA1lcaT4fHW0N1m+XOrBdjdI8BpuIiIjItdRR9fJAZ9NboE55GTLqCDfTO470Jte8I5R0QOCMeIw2DwZehozPjyIlufGBpk5Te2HsjGjE9OiCqMHdMXKu6w28bSHaD6HmSp6tAbLV4xNp0OUKkbRiaCE2WGk91GgjwhFrekGv0CL7N5G+HPVsK/9wkTkY0DEuEn36iRVbgv0xeJgSkDp/uLDZ8q66xUFwj/qDYs3DsitdyBX+0vk2TXMvd52qb3rucuRnmv57b8TdYGNWu4ZIL8QZcx8VT8T8MQx+zmjJkluhtI4J868/YKT2m1bMyiZx74J+t9U1hpMbIu7spgwubHcWP1dyOeOeyS6hspGNtrwSo6Ryp67zKSvB6XSlbO8yMsa1y+SWtrdYCZhER6BfXeVhSzlQCvNPUlLmC1a1inO6ep+RKhZd6bzRbYg3vIYFmYNhJYcL6pzd1je4vrxsR2m10kC3Idw1CDbfCzrpeSaSRERERC6ijmBTXQElL/iKF7jGdpFqGDd0mdUHI02BkYpSHF6ehsMHnTHWiy/ih/lanhCvQFzxRycGYerljpCbAtElzq2uC2PQsU8XXP2XbsqvwgXnkFXrV9dyaM+aXmOlinCiVeXdXfr37la3EGu8jgNCMPLGYPP2zu/MqX+6eDsc2taOfKSbK/Q+6DWjF3oNsNH6IcwXCXNiEWL6sb/oDFKSmm+MIHWLg45xsbh6go2Ih3sH+I3xtZjhralZdKWL8EfCgECR96qRm1JX1cpI+1OeueVJx8hYjHkkpO4WgZ090WVCF4TYrGBW4dQurdKSKCAc1/wtDCGRdlqz+Lijy2gf1QDSdhxTtZhy74LBD/jDy8bp79jH39iaQa2qFMdUs0/5Du6NkbeaAt0q8r00qxeujDYVmmU4/r22mQPxl6NDvWWNI8zPCklZqXKTduodghDr4JB0L/Z65Apcf1Nw/ddOkv9TvhIslAd6ntsdUX3s5IkWuIdcSpEW6cdMZb43Yu+Kx8AxdQ3S3gEe/aXrMaYZn3NVOhQUiDQ0CB3ckNZqzn5Gqll2pevUvQt6m7vQ6XD2t3oeZFLea7SG3IzD/GG+tQqKkevygW0iIiJqbzpER0eba9ydOqk7Uvmi/4JuCJFS8tgPFuM5xIUg8a/dDC/0Jb+mYPvXlxlNaCCvqb1w/UhVNaKqChUO1ebKkf7pcWTUOT6PP65+LdZwvBZOpmPDe5YjmTQdb/R5ri96GQJ5lwxTIlcUF6NUqeuiY2cN/Dt7wUs9sGqFFnvfOoUc8wu8yoBwXP/nMKVSV6VHSe4FqfLmjcAwjVLpliop+W6BCJH/bbnb5Au5Vr/iWp2f6mqUnivC+cwLKJK7UnX2RnhcEIKDlYpN5ckMbH2v2EaF25nbkvQLQ+KscIsKZk1FGbQ5Fw1/7xEQgMBAVeWkogQHPkhHVrZYt6DeN3kcotpjC10Wdx8kPBuPGNX4+Zb76A8/P3d4uDnx33SItF//z3K/DKrO47f5px0KFHaaGIdRY0yD9Bupj00mH59vJzeRb8tx/KMjOGqz4ueGiAf74coeltEgi+15eBu6ann7SNfUZl6tLXDWFRjZTzU+jMhzhnvLp5OUP7wN+5aftA+/bTX+iZm7dF8+Kd2X6m6oUtlTKlXwTP99l64+0rUzfiUH6s5vPYydSbZPXsTDg3FltDFt899rVqr87uC5NLF7HNZljvlcu6NTiB/8NErZVVN9CR3FLF61njMqhm7T5tasRjUV5dJ2dbhozBTwDeuETj7u0t/YuYfGdMekiaLd2emMOrt8+87oi0TR6sr2fvkg9sGuCBJrJh6BAegSIDJCWSlyc61+jMk5h9/XqQp0gwaUOX3CMGZ2uLHLs73r5a6Ryprelve0dA0uaktRckHkScM95CXdQ/L5ktRzPpzN6+beuN40mYj2DLb+UxVQrFMTPCPVAgJxzTPd0UWsmjmwj+o806D72pFrakPIXwfg6jhjXqvrPeytt98UKaNHH/mbSBERERE1LfW7u6Uwd+m1zqjWwJNeSsW9vNiB2qiTeHSyao7g7g4v6WXZkcXDRksGSyU4W+sNvxq5hxs83ZmTdICHtN++YV0Q1kNZQoKNlWKTytyz+G1JHS/RB89it6plBtw94RcpbStSCTRVZp/G1ldzla4NjnBzM+xbzDAxC+GwMGnfTMGhKmj3HbMfHLLW2G0dzsW25VnQqup1Hb180EWcsy6qQFPNhQL8vsReoKkJVZUhZVVd+ygHmsQXzcqyK51JTUahwy3SLial4+fN53FR1RdEfWym41Py7SX5stpRjZz3DmPnvlKL622xPSnvdpIDTeI7R2g/T8dh1fhepjxn2F6Yj2XF1FpVOY6+ekTKZqqdlsoe9X9vvnbV5cj6zn6gyeUEuMOc7Wp1l75McpmTXKa0UDOfa39VoOkSLh5Nx5afHGuOUbIqDdtq5TFvY1lmyBd+8JXKy4bkicbxRLApP6oWc6BJ5uNb6/uwqKYdENugSoeUJcdwXJ1fpWvQKdhf2Q/DPaQ6X808bX7FT+eU7n6BXRF3WeOzOekZqWbRlU5RcqSw3mCYh/mXmyqUNXXcLrgL4kSgSX53OflTKylviIiIqF2x/27e2Q2mV6daASXzFL/lKM01JNqAS8j6IA1Hc/XGSlKVHud/PYbftzXnS3g5Tn2bjqOp55FfUI6KsipUqipXBnJrrgs65Keexs539mPjG7nIr+calKxMw49rziBfW6VUAOVfugsKkLIyBRvflipxDXpXvYTKCuvzIn0m7VfuvgxsfyEFO1bqHAs0OWtbhwuw4//tx/aks8iVzl2l6nhqKqqkfJqLlC9S8MMLWZCSLUPex5cOYe++84YWBuZrITHs4+mzOLAyuxlbNRlZdKUzqEbuIUfbtxhd3HgaWxekYOf2XJyX8pn6/Buup5SXS3MLcHzzMWx9TrrP6mxlWI3zK49j4wtHzOfK4j6Q8q58D+TuO4WdH+c51hKnqhwZr6Vgm438YbintMXSvqXhgL0B0eX//o0UfP9RBo6f1OGiOs/K+6MtQeZ26dgWHMGBbQ26mVpWqAfMHagaOP6eurucNTk4tGXlaWTJ51p17eQWauflsuvtA9j6UYmDLVON6s9j8rbP4LePMpv9HnI5BTocVefXsmqL8kZ5jsjna38ztt4VirRISzUFuT0Rc30XB7tyN80zUmHZlc5Ih+zd9d/TPuZpTqugb0jxmVcJ67Zu9Qn8Y5i59VXF4RxksQsdERERuaA6utFJL/cXHWvYTu2BM7uXNVFXNSIiah0CpOfAk9JzwBCjqUbudynN/ONOK9UnBImzjcMYoEp6fr4qPT/rCDaxGx0RERG1lObrdUBEREQkKyrGvl9MrYjcEDYuBmHqcdGoNnn8uFtFoEly/pesVjDjJREREbVXDDYRERFRs6v87hRSTF3cvAIx8M/+Dnana5/8buuuTFSQexq/f2fdh5CIiIjIdTDYRERERC2gGpmfZiBfDBrnER2LkTNMU5OQmseY7rhmsBhhTZ5d79PzDRpjjYiIiKi5MdhERERELaOgGL+tPGse6N93cG+MvJkBJzU50DRmYqBo9VWG4ysdnF2PiIiIqAUx2EREREQt53Autn+eKwJObgjs52cel4g80X24EmjKXHUcRw8bVoiIiIhcGoNNRERE1KJqDp41Bpy00v++mm9u6UR6HF90BMe1xkBTSjLHaSIiIqLWoUN0dLR5ruFOnTqJlNHFixdFioiIiIhak7feflOkjB595G8iRURERNS06gw2EREREVHr9M+XXxIpo388/YxIERERETUtdqMjIiIiIiIiIiKnYbCJiIiIiIiIiIichsEmIiIiIiIiIiJyGosxm4iIiIiIiIiIiBqDLZuIiIiIiIiIiMhpGGwiIiIiIiIiIiKnYbCJiIiIiIiIiIichsEmIiIiIiIiIiJyGgabiIiIiIiIiIjIaRhsIiIiIiIiIiIip2GwiYiIiIiIiIiInIbBJiIiIiIiIiIichoGm4iIiIiIiIiIyGk6REdHXxJpohalGTAJ998+AXFIx8YvP8SGgzrxDZGL0tTg8TklmHq1DiF+1fBykz/0wK+LwnHnFsNfEBERERERtTsMNpFr6D4b77w1DXGeYl2fhs9mzsMXTo03Sf/G99K/YUinY+2ND+MjQ5roMsSXYcsr59DTR6ybMdhERERERETtG7vRkWu4fqASaJJ5xmPkHSJN5HKq8ck/1IGmDijJ8sNP3wTjm28CsTVdfExERERERNQOMdhEriGnFJaNmLTISxVJIlcz7QJGhIq0XoNvnohCwuwA3PNeJ/zfe9748JT4joiIiIiIqB1isIlcw3cv4sNtWdBVS+lqHbK2fYo3dxu/InI1dyWUw0ukz+0KwP8dECtERERERETEYBO5Ch02LZqD6X+8ETf+cTrmLNpk1dKJyHX0D9aLlBuyjhhGBSciIiIiIiKBwSYiooZyF/8rFaHlxSJJREREREREBgw2ERERERERERGR03SIjo6+JNKK+9/B9zcbJ4jP2/Y0Zi06AGgGYtL9d+OWYbEI9RfThlXroc36Hd9+8Ca+OFhXp6dAxN0wAX8cdjX6do9CqJ8GnurpwvXSdvKPIDlpLT79Ohla8bEtic+vxhPDNFJKh+TXp+P5rVLS7r4dwMbPF+Gznfb3LbDXeEy4aSSu7h2NqNBAaHxUU6JJ29CX5OFI8kas/c9aJBeIz9XGLMDqx4dCY9qf3SPw4D8fwqRegYavddnb8OHfFmGTtAuaax7EK3PHIy5Q+jfkcYl+/y/eXLAWaYa/bGqBSLzvUdxybT9EBUvnv96eP6rza2I+Vunb3YswfcE2KaXBwMn34+6bRyJWtV29NgsHNn2KRZ/+ars7nGpbtqVj7Y0P4yOx5rDgRMx+6BaMjJfymSkvyKRrqSuQ9kS+xoYPLnP7l0kzYBLuv/2PGBofikB1HpPoy/SolPJZ7qFv8fDrG8Snwk0vY/VDA8U+63Dg3el4+jvDin2au7B4xR2IN/wzeqT9dybmfV7H/Rk8FNP+NA0ThvaV7k1PJW84kv/bqUXvn8btsXLKA78uCsedWwwfExERERERkaTelk2+PlLlfPwTWP7Zy3hwfLxlBd7NE4HdR+CuVz7B4j/Hiw9tuP8FvPN/d2H8sHhEhVoFmmSe0nYiB2L8/QuwfPkTGG8/AlFL4E3P1rFvQ3HHfGnf7owSH1qbjRfefhR3jR+K+O6hloEmmbQNz8AoDBw/Gws+Wo4n6t2xeMx+9QlzoEmmiUzEg//vDumr2XjlyUnGQJPMTYOoYbPx5P/Vcd6cJf4uLP7vCjxxy1DEyeffWUPMBE/Csx+twMt/HY94q+3K523o7c/ik9fugL2z71wajPi/pVj32ROYNizOMi/IpGupMQeamlM8pr20AqtfeRDjB0fVCjTJPKXPNKFRiOseJj5R+W4tDpiDPBr0HTVNpO3TzJDys+mf0R3BVruBJumc/fUdrF6+ALPHD0SUlDct8oYq/z/xUKL4kIiIiIiIiKhu9XejC70Fyx5NRKgpQKTXIut4OtKz1e2PNIi/5W940JG4iV5vaPWSLm9DXk7lQWcaa1fiGZqIB/8526EARefEd7D8oRHKvunybO/b7X/DHfVFGeRWHGXi2AxLFvKKLXYMiQ++gtndxXotHgia9BAmxUq1fLnV0nHpuMQ3npED8ewDkxAnBwDkfyNbqfyHDp6MgSLdJDTjsWD+HYj3F+vQQ3s8GZvWb8CGnw8gy3q8mZxkbJC/W/8tdmSIz2zxvQ7vLH0QIyJEVEM65rxTxvOmlWeUEzRX3IG/3Wnj5Et54LD5XItFum6qM94AGox/fhmevSEK5lCO3LIt27RtaZ/KLm/LjZU4fz5mD1aCj9CbzpPqmOvct2R8ujtLpKW8FH8t7qozL0fh7qHGVoky3bEdsGorJYhzNjkOGlWASV8s7iFpycrTybcrERERERERUYPU243OrFqHtDUvYv6nB8xBFM2AB/HKCyKIItHtew/Tn7FRtZ08G89qTuPbn3fggCrQoghE4qOv4NHxpmBBHrY9MwuL9hlWLCjd6FR06djw7nN4b5sSZJL3bbG0b1GGDeqR9vlUzPuv4SuVSZj9tC9Of7cDOw5m2ezuFZj4KF55dLzYjqpboUmt7mA6JL91D57fpMO0V9Zh9gDpP5QDbJ6e8NSnY+1TD+OjtPFY8N9HMdQQAGra7lxDn16BBaNEsEP69zc89xTes+jyGIhJLyzBg1eZAiLS/kyX9sfWybDZ9U2H9O/exXPvblO6P2oG4sHXFmBSd+NJ06d9hqnzvjCk62SxfcfPi+bOxVjx53iRd/TI2vQWnnpLtT+CJvJRLF4mXUvDWnN0o7sDi9fdZe7Olr7+eTz1gXL/WApEXC9pr45b77XEoluc9DdfT8fDH9reCro/iuXvjUeoYUWLXxfMxIu7DSsWou57B+/cEmcOzunzkvHFm4tsdocNvGoa/hiVjs++bsr5/Qdi9guzMdAcFG2A4gP46LmP0JR7Z+kSli7Pwg0RctobPz0dgnv2Gr4gIiIiIiIiiWMDhOuzsOmf92CeKtAk0x18D099lWZujaK5YoxUvbZh/Ud48b+b7ASaZFpse+tFbMsRq1JVOeoqkayH/vgGPH3PwxaBJpm8bz9lmPbME1G9bXUD2oCPXv4Cm+wEmmTabW/hxa15Yk3as+ihImWbPu0rLJIHaJIUllUa/lfuJugpBxu+W4SPDAM0bULWecM3TWwEJvQ3BZH0SPvKOtAk02LDc//FAfPHUeg3WSTrU5aODU/dg4fVgSaZ7gDe+znDnC88w/ui6TphDcXfJpoCTUDeD09hjo1Ak0yXXWrep2Yxpq85SCl3Z9toN9Ak09oONMl0X2G/OS8DcUPvttvyb+idQ0WgSZK9A5/aCDTJQdYHb1AFmjLW4qlZz9sdd037+9omDjTJAhHVKw5xl7VESf9184macAEjDIEmyTkfJDHQREREREREZMGBYJMWye/Nw1t2BtnWff4blJhOKHqOEukGy8L+LOXfCAobIVL26Y9/gaceeU8VKLGUWyyCPY2UlXpaCRIEhsH+nuVh27IvbAcU8n7FZx8q3aGaRz95PGwhDyfW2jlR2IADWUpgLrCrA50Yy9LxxTMP2wheCXkX4JyzX48xkzAwWKTLDuDbfzXPcOsO0epQKpLQ9MTImy43JKLDZ1uOKPkqcihusdmdcygm9FUFF3/+VLqratP8eQz6mpqnya3dXv+omQapb6WG6/GvBy/iX/NK8P1HufhlXhH8DF944tfPO+NLQ5qIiIiIiIhM6g82Zfxk6BJm3xHkmhtkBCK0vnGbNFEYOHg87vjrg3jQark21EP8kVSN62hqd2FfZeHpOivJ2xZMx4033mhYjDOn1UWDqAEDMf7O2vv14LAwmPeso4e5RUgtp5LxoZ0dytr9LpJF2hX5utV/vi3oC3G6rpO/9XlMF+f+xjufR31n/3INvCra3K1Pn3kAa0XaJexbjwPm1noaDHxoBVa8/SimXRNl1RXRARYDhYcaWjDVctM0JfCmz8B+O8HFCVfEqlo17cBHp8RKi9qG5+8U+aWhSxPmL4OBFzBlSgGmTCjCFVFyULYDSjIC8eETYbhzo/FPiIiIiIiISOFYN7o6HUBhXbEoITBxNl5ethrfr16Kl196FHdNnoRJVssIMcZPs5Knyn9pKVZ/uxpLX3kZj/659n5NGqUaeLouNXq73aT01Q6cJKc7gULzAOCh6DnNTohDMw1xpm5B0CM3q7lbYF2+uCCltVBlca5IuYo0vPX6WqSXiVVJYK/xmD1fym/rVmP52wvw4M1D4Vh7p2R8+rvSnTOw7wRYh5umjeprDmLpDm3FZzazXBSig5XcnHfsW5Eix12CX2wRbr+rHNeJT4iIiIiIiEjhhGBT/eLvfwfLn5iGgZENbs/RtOJn452lT2Da4CiLGbnajm34Kc0UcfBE/C2vYHatlmeBmPTkLRhojlIcwY6vRboVCPJVAieFeS7YdiztIzx814v4Yl8WdKpZ+uCpQWivoZh0/wKs+HYF3nl0EuprFJi1PlnpFhc8ENNuEmmZ5i5caxpBHFocWG97DjogDoGq27BlgqCtzNIuiJkQjZg/RWL+0kBkGYKHl+DXPx//er7K8CdERERERESkaPpg07An8OTNymDEKE7Hpg8XSRXw2t1hFu1uzorvUDzx5DTE+YhVqdKdvukjLHpkZq39uvH1ZLstllzdttc/RLKpdZNnHKa9ZmxR86jcPfDpl7H0vytUM9Hpkf7De3amynd9vl0HipSL0f2Kz56Zg+l3zMFbn/+KA6fyLANPboGIG/8gFn/2LMbXFY899Sl2pJnG1tKg76hpIi03ThuEWNNNZndgcJkelTUi6VISseC/3+P77y9j+e+CJhyAXuVcR3y2tjOufaqLOejnd9UFPCvSREREREREZOSEYNN4RHURSehQmCmSQuINqtmxipPx1uyH8dbX25BuHn+mhYyZhKHmHdMh+Z178PBba7HN3oxgrZRm5Ej0VE8n72ZsUTPe0D1wIKLM34mp+f/derrQyU6r+nDWO85Xd1/4imSL0GVh039fxNMPzsL0P87Ew/9aiwM5yixzCB6Bu/+vrtkOLQcK94y/FncZglNRuHuUMiNf1oFvbQ4MbvSraow1ICxqvEiRw9I64ZBpLC7PclwxVqSJiIiIiIjIoPHBpmFXK8EMfRaObBJpoWdXpamGLu0n1DnWeHOKC1IGaS4+jJ9cZsecSDMNz94vxgSSrs2v3yUjPU8HvapVjb5Mi6x9G/DWX2bi4Tqn5ndNRwrM871BEzUI9ufRi8fsxxOVwGeL0yL9h4/w9OyZeOt35awH9r4OdbbP+m4jDptbqsVikDwOV/c/YmCk+Eyfhh2f1B0wPJynRJs0fa/DJJFuWVI+PJ6O9MtasqT/ujl1QHG5SBIREREREVEtjQw2aXDH7VcZgxkSfcZvuLzhhjUYePdiPDSsrj5ELUMz4C4sfmCoEphqTSZfa57iXnfwK7z47vN4eNZ0TP2j0kVw6i0zMeeZ97Apu3UG27JSTysBsoiBuMXmwEfxmP32K5hm7mfmSnTYlKUa2NxbY76fbNuGDQdNoRVPxA6+BfE3DTQH2ewPDK74ddMRJTijGYg7nx/vAvn7AD567mE8/MhlLM99JP3XRERERERE5CoaEWwKxKSnl+AO86DEedi27ItaLWMKS5VuQpr+k3GXVTBAM+AOPPveJ3j59vjmrfAWlMK8Z/79MPnP1js2EHc8vRSfvHIH4ltlpEni62HuWuUR3FMZBLwt2boBB8xdMkOROO9RjFAfZ/AkPLv8FUzrJZ8JPfSqXmtNbtgkTEsciKi6zntwIh4dqrTH0p89Uu80/sn/3WHuJucZOxIPDTb993UNDK6y+1P8lKGciMBhD2LJ83dhaLD4wErgVdNw180uOh4WERERERERuZwO0dHRl0Racf87+P7mOLEi0WuRlXkaWUeyUCitBkUNRFzvKISaK9F6pH/9FB7+ME2sq9z0MlY/NFAJJFXroT0rbafME74R6m1I5O5dYlY43e5FmL6gdrU78fnVeEK0gLL3N46ZhJdXP2gRgNFrs5BVoIenXxii1Dum2i953KlFdz6vBATGLMDqx0XLp4y1uHHuR4aPZep9Tf/6Run8GJIGs5d8j2mxcioda298GMp/5UTqfRP0ZUqQQXdevg5ipTQPR1J/w8YfN9kfT0u9Pevz0ECTHn8HE6z7vPkEISoyUATIdMg7ngulk5wsCxsfWVRrAPOo+97BO7eoBqGvlvJrRiH00vbipO0Z6ZG3bRNOD56EoYZun0143k3U95F03nUlecgtUc6/Z3AUogLNey3Jw7YFs7DI7uDeJhrctXiFKtAr5G3D07MWOdbKR56J8SXVAPmC6R6QyfdBaKAGntI/07h7re1Z9P5p3G64fz3w66Jw3LnF8DERERERERFJHGvZ5BmIqF4DMUIeVFpaRgxWBYnK8pD8bzuBJtl3L+LDnaoRVdw8ERgZh7heloEm3aEv8PR36WKtOWzAix/+Cq1q/CLPwChpv+IsA03FafjimQ1ozj1zmq2LLM+9xNPH07wYr4NYBo/ApD8/inc+W4flT0+qpytX44V1V/3bpsUcaJLJA5lb/00UwsS3allS/nvPIo/J+dW4PSM9sn5YhLmLDov1FiCdb02oMX+ZFotAk3QfbXtrrgOBJpkOn/18RGmZJ2T9/l/Hu5OlfYSHn/kIyeoByiWme8Cwf9J9IAeaiIiIiIiIiBqi/mBTtd5iQGkD6TNdXjqSv3oLc+6ahee/shNoMtBh08K/4OkPNiHNanBqGAan3oSPnpuJ6X//DAes/50mptv0Iv4ij1d0KA86dZ1bbn2VfQCbPnweM++ch88OWlfrW4+809KxibThWpZZLbXOuSdCRz2IJfObZTJ5JxF57NNfkaVVXatquXXUr/jsqZmY869flfPQXA7+hF/3pRv2Sd2izEz6TM5nv36+CDNvmYVFDRmk/usdOKL+cwcGBq8lbS2eny2dm7fWIvm4lE+s91Ev7vPvPsKid9mqiYiIiIiIiBxTfzc6q65h1HpYdC/Tp2PDc0/hvYO2AhqBiLvhFsy+fRIGhoqmLPo0fDZ1Hr4wrhGRCrvRERERERER2dfI2ejIdSVi9jjTOEZ6pH1lL9AkE9Pw/+tX5IlP4BmFvmNEmogslOg7iFQlQnqIJBERERERERkw2NRm9USQYSBsWSUunHGgi1b3QNVYTbnIcmj8IKL253Shh0gBUXGVIkVEREREREQyBpvaBQ16JtY96LdmwB14+daBygDd2UewsQFDCBG1J5/t9UaFSHtdeR7/nSBWiIiIiIiIiGM2uYpJj7+DCVFipbGyNuLh13/CHYtX4C719Ph6LbIy85B78gTyyo0feYb2RN/uUZYz8OnTsfaph/FRXeO+tyED71uA2QOCxFojFR/AR8995PiscNRK1WDp8mzcECFW0QElWZ2xZ68nStARKd9748NT4isiIiIiIqJ2hsEmFzF7yfeYZhhw2AlM10wzAo++9gTGd1cFnOqhz0nGF/9ahC/sju/U9iQ+vxpPDFMF2xqjOBmL7nwenLutHYgvx/f/zMcVtbIOBw0nIiIiIqL2jd3o2jLdr3jrwamY+dxH2LQvC3nFeuirxXcm1dJnxXnI2vcrPntrDmbOfr5dBZqILluaN278cxRe/NYPWVo3VFjfW0RERERERO2U7ZZNREREREREREREl4Etm4iIiIiIiIiIyGkYbCIiIiIiIiIiIqdhsImIiIiIiIiIiJyGwSYiIiIiIiIiInIaBpuIiIiIiIiIiMhpGGwiIiIiIiIiIiKnYbCJiIiIiIiIiIichsEmIiIiIiIiIiJyGgabiIiIiIiIiIjIaRhsIiIiIiIiIiIip2GwiYiIiIiIiIiInIbBJiIiIiIiIiIichoGm4iIiIiIiIiIyGkYbCIiIiIiIiIiIqfpEB0dfUmkicgWTz/MGtUXCZ3KkJJ8CMtzq8UXLcxV94vIxG8h1o0bCl+xasuJ5Bvw1yyxQkS1jLniK/yjj0as2VCajH9umo+tYpWIiIjIFTDY1GRisPixkYgVa7iQhiXL9mKzWG024QOwYkZ/2H9NzcE3b2zDcrFG1vzw1P2TMNxPrNZosf3TJCwuFOuXKSAsBg+P6If4CD9ovNzEpxJ9OSorypC28yfMTykXH9rSNPtFzW/02MmYN0gJx2RvXYm5+8RKa8dgE1GjMdhERERErRG70TWZEmgviKTsUhX0IkmtSHh3JJgCOrKOgRgwSP1BQ3li5h8n45OZIzGkR6BloEnm6Q2PzoGIDfEUH9jh9P2ilrKnsESkjPRtNfxffADr935ba9l8XnxPRDadyF5v4945AP62QERERK6MLZuajB/m3z8JQ0z1/5JUvPLhQewSq83GJxAz+wVZtizoHIVxQyLgYVhhy6Y6+cRhyV+HIdIclq3G0aQv8eRhsdpAo8dMwrzBqqBQVTnyzp6DrkpecYMmOAhBPt7Qp27AzC2WQQgLTt4vagg3DImLxdThfRAfqIGHVcs0XUkhMk4ew//25GGzzoGujYMSsW5shFgBMjauxLxUsdLaqVs2nf0K43Z+aPj48vigz903Y8rIOER26QwPcdoryy6g5NQ+fLPyBySnGG6kFuHRLR4T507FuL5BomzNxPqp7yLJkG4jNJ3R/0/TcUdiPLr4GD86uf4JLPrYmG4bfBA1YxLuvGEoeoiiuiT5Yzz5UppxpQE8EgZh8i3jMLhPkHS+3I0fVleh7MIZpP70A/77aTrKjJ9ehvvxwbRb0FNOsmUTERERuSAGm5qMVbApawemrsoUKy3Momsdg0316dNvGJ6+Pg4BHatRdOJnvPxtDo6K7xrEKkBUlLIJj24qQJFxtcGctl/ksICo/njxj1cg0seqRZotJalY/OFBbBerdlkEm0qxZ+V6LDwrVls7JwWbPBJG4y9/n4T+dTbeq0Lu9s/wz8VpqBSfNAdDQOHuP+IPPTuLIJNJGwo2aUIw9N6bcWtiHPyssn7bCTbJwczpuGN8f4RZ9VhreLDJB4P+/hDuHRlilSeslKThixc/xv+OifUGYbCJiIiIXBu70TWZEmQXiyS1akcP78Y9b6/E1De/xD2NCOho4qOUlkiFB/FOIwJNMmftFzkmYXAiPrxtQO1AU0U5KsvEUiM+a4i8QuhEkmzoPRZ/e84y0FRZlI+TJzJx8kwhKs2Nx9wRNvpevPhMfN0VfCfxufIa/Pnt+fjXwhkYVyvQ1EYER+APf38Ir372OO4dWzvQ1CbIrbXmSPnmvwvw6M21A00N547+zzyOOepAU3UZzmdK+fVEDs4bm7Ea+cXjjpcewsTeYp2IiIioDWGwqZlUVjTnb+3kioYEKbVl3enT2CPS5Poi+4/Cc2NMXU8lNaXI2LEFC99ZialL1mL6e2J5cyVmSutLvj+IlDO6yxinrRK6y+9X0wYF4Za/TUAP04nXpeOr+f/A/93zOhY9/i4WPfQK/u+u1/HVMeWk+Q2diluGipUmMujp+Vj83M0YEdNZfFKF3OTVWPCdi7RedYbxM/Dq0kdxx8gYc5Cp8ux+fD5/C04aV1u/8LF44rP5eGii0i0QJelIWvwZkuvoxVwXj8l34d6hqnyx4zPMu+V5PPuIlF8ffwvPzvwH5i1NRq7plcAjBhNnX9M2g5VERETUrjHY1JRUP2DqS0tFitqruC7KyFlaq0GhyYV1jMDD10UplcGS41i+bD3m7crDHhvRJF1FOTYfScX879MdG6NNKieUUHQZtI1p7tbGeNw2HX8IFyuVOUhasBSbrcdl0uVj8xNvIynT9HkQRkxv2sr7/v2Z5rF2jAGY57DgpWTkOjBEV6ux6SAyTBNiluUj+T+v47EHVuLXFhwXy+nO/oa0XJGuvoCjSUsx766lWL/9co8xBrdMioc5brX3M/zztdRa4zKVJa3GPz/YD9NTwKP3H3BHEwdIiYiIiJobx2xqQuopzXX76xnwuQ4ar0Dcdm1/DI8LRajGUwkRGgYjPoe0valYfkiLbEe78DRizKYATSCuT4jCVdHdEBmskfZNtT81elSWaJF2KBXr9tquiNsSEBaDh0f0Q3yYtD0f1SxsNdWGFmG64nNIP5iMhSmmmo99Gr9gzBo5EFf1CESAet8gbausEnpdIfJOpGLejgLxubUYLH5sJGLFWm2XP6bOrNtmYEqUMZ2xZSXm7TemHdM0+2XMWwPxhz7BCDCde/N1PIBVvxUgpZ58pRyXKi95+mHWqCvxh76h0nUQzSL0pcg7dQTrth5HUivqNzZk9ETMHxpoXKnJw+ZlW7DEqfuvvraNHEOt73S8/I/7MKybdC1LT2PL+3PxUlILBrobNWaTOya++U9M7mFcO7/jXTz7Wh0th4ZOx4vPDEUXw0om1s98twnzWQzueHs6Ov38GT5fk68EC+99CO9PjhErrX/Mph7zHsVdPjuw9K1k5JrP5Vg8sW4CxGVp9WM2ecy4F89feQafv7IRR82PhXjc+9m9GNrQAcITZ+DVRwfB8J9VpuOLe5bif3bzoDv+sOgF3NHbOHB4w8eF4phNRERE5NrYsqkJbd+yHlPfWGlYLi/Q5IkpY8fjkwcnYsqgKIR2VgdPJJ7e0ARHYcj4iZg3QHzWpGLw3F8nYubI/ugTFWgMDKn3p6MnPAJCkTByLObPGY953cTn9nT0xdw7bsUnM0diSA+xPbWObvDw8UZAWBTiQ6y+q0U6VxMmYcX94zGuX6gxcGKRu43b0gRHILZbowflaBOGDx6FZYa8FaEEmmTm6zgeCx9MxNxg8bmDEvoPw4qHJhm3q56pzdMXob2HYs69Ut4wtVZxecGY2k8EmiS6wwecHGiSZWKeKCemNmqw/mg88uQDxkCTzDcaYx95BX9SGtS1MiOQYIpooBCpP9YRaNKEYNz0/iLQJOuGPjeJZJPIxBePvI6P1YGmNujk4reMLbaaLGjX8ipXfoxnH1cHmi5fn2vijIEmSeXJg3UEmgCfiTcjsYeYoU7iF9MX4rcIIiIiojaBwSaX5YlZt03GrEHB8DBdJbmlT1EeMk5mGZbsonJUtlSPBrn1S1kJssW+ZJzMQd4FVVMmz2CMnjYKs0z9CWqRjm/qDRhnqhjLKtTbk46voBSVFY71Sxk9ZjxmqUcQllvRZCnbysgtkfbXkaZWOot9MC4FDRvAOSAK86VjX2y1DFcFbUIH1v5eWeIxUfydwgn7pTJ65Hg8NiYKGpG3KguzsGfHbiRtS8aeY3nQmVozeUVg3J2JmOVQfM4NsWMnYeGEOLFdJb9mF6hapcl5Y3w8hohVlxYegVjzsWuRkuyEGmmTuQlXRIukiWc0rrhGpFubsZFK8KjkNFLttASUZ6p76P3HcUtvdWHjjvC4OJEmag7u6BNmGqsJyD2eLFLW5JnqHserc4YiTN3XMyQCfUSSiIiIqC1gNzoXNXrMJMwbrBpQ+uRuLN2Qju024iWR4TH4AzKxwtEuVJfdjS4Ys0Z7Imt/HnaWVNsMdASE9cKL04ciUsSQ8navxZxfbHR/C4jH0vuuRKicrinBnjVJWJhlJ7DU0Q2xHtXIqBDrtUTg1UcS0cfwI7EeGVs3YP6+cjuBGGlb0oFn6BoyuIq6m5MD3dUszu/lcPSaNHC/TKT9++SO/ggwBITsnC/PYDx1RyKGdxUX8uxuzF2ZjmzjmgV190CTynOpWLXuIFarGvQFRA3Fu7f1EudFi+3/TsJiFx+fSDM4ESvGRBhXLqRhybK92Gxcc0HDsODLlzGqq1g1yMWWJ2bgpd/FanNrTDc6dZe0kxvxwN+2GNNm7gi7dQbm3tkfXWzNknZiAx54fLtYaSZtrBudbW2rG51tl9ONTv3fXEDyWwvx8TbDF4rgONwy/z6Mi1FaNCku4NfXFuLzHWK1XuxGR0RERK6NLZtckU8cbhuoBJqK9ifhL2ttB5pk2WcbEGhqlAIs356DzXYCTbKi3ON45bc8sQaERhjCSbV1DzMGmmR5R/COvUCTrKauQJMkPBiRpnd3XSZ+tBtokknbalCgqa3xxJzrTIEm6XSlbLEdmNMX4JXVycgwtZwL740/BYl0naql/LoJ939mGWiSFWWlYI+5YVAgIruLpAtTzyCIkmLsFEnXtBuvfbIFueZyQo/T372Pt1sq0NRIfUKVDFeiPSNSgiYEI/7f43j+T0qgqezEFixSzwbnxvm9qDmFINhcXFxAgVXDJp/Rk/CPd+YogabKfCR/utpi1jsPZlkiIiJqQxhsckFDhvZGpOnKlKTi4y3aOoInrif79Dllf/39MVwkLVRUKmOddI3C7ao6fYOV6WEeAlkTjhFRtpo5NKOzBzHTPAaPsnyTJb6XyAOEW3+vLI0Zt6cePjG40jxeUh52/lxH3irLxM5TpsBcIHr08xZp+4r2fIeHthTAdoOlcmhb2bT+nuqsVFPl8vdhadJLmHHrPXjsicfwl9tvwD1v/KzcG62MufuwTB0flsf9evtx/HmQKRhVhaxN7+LJxzfiZHuOI1MLU0eKpOebubBwR48HH8Wr80YjytTTsyAVnz/zOj7++oL4gIiIiKjtYbDJ5XjimihlQOK8I8fQzB1BHBbp541xfeMwZ4jV0idIOgqFOm129CjSTC/j7hGYeN80LJkQg3GaywgUFWUgxTR9NXyRcOut+GRaL0wJdmtEV7Y2Kk7VoqzgDP5XT/BnZ64yRlFoiEX/LJsKi0rrDMgsX6UE1Ro2Gx85rPQ09v2+DyfOifU2pMvNd+HFl6djkGn8s7IcbH75Ofzzvcw2PVA3tVKaGNzy9gt4YnyEORR1fv9qPDv7M/x6THxARERE1EYx2ORy/BDqL5IoRfbJ+qf7b1bylPYTxmLF32Zgyf3TMPfGYZiYaLUMUV6s7aopwCvfpqLINBB1R29E9h+JuX+9HevmTsKSif0xPdzRYJEeS9btULradXRDQI+hmHX37Vjx8GQsnTYAc+J8ESC+bs+Gh5gzl3Se/DHCOlBotdzURRUqdG9/xYWeLWVcRGeMeOZxPH+30m2uMnM73nr4LXy1u6VmSSCyz2PYBDyx7CGl21x1Ifb/53Us+H/JOG/8hIiIiKhNY7DJ5WigUU+qZArGuAJNDBb/ZRKm9A81z2LWGLozB3HPsiRsPllieZxefojsNwAzZ9yOFQ+OxcL+vvUHnXSZmPfeeqxOVc2kJpOn2+/RHxOnTsYnj0zC4uGB7XrGH88OqgsXFFc7UGi99FVa2bVH+kuqzOTvj9EiSU0v9WyhSAF+Q6fjz0NDRBC7Crk7PsOTj2yoNV29n7dSeFZWXhQpouZwBgXm8ZdiMPHpsehhenCVpOGr//c6lq7Jt2qB5w0f8y8zlbjo4hMmEBERETUEg00uR6rculKAycwX824diVgvsVpTiowdW7D4gy9VYw2JZWWq42Pb6LRYsnYDpr67Hsu3peJorlXgyScUCRMm45NpMfUHiaR9WrFxC2a+/SWWfH8QKVlay8CTux9iR07Eq/cNwDjmfHLArvxikZL4dcUAdSCYmlZBGWr18qzMx69LF2LBa6m1v5P0CVemni/JVQ0WTtTkzqDYxoOv7NgGLHjgY2xOsdECLyYSwaYypVKLs+xaTERERG0Iq9wupxha84i+vggNE8mWFh6LIaZxUuRp9letx7xdedjurJnd9KX4Zs9BPLliA6a+/SVeWZeMjAvKtj16DMe9/cRKfWqqsflIKuavSsLMN7/EvFU7kKJM0QUE9MefrjVMxt7u7ClUTX2UtaN2oLCuZVU7rLyn50I1tyISBtgcgYyawoF8qTRUVOYnY+kDr+PzJHsDjcUjIcZUcy/D2RM5Ik3UHC7gdIE6b5bh6JrX8eQT25Fr59cXj7ExMD/iC85gn0gSERERtQUMNrmcEmSrBnSI7BuHSJFuUaFBSle2klP4n9VM5E5VU41d6ccxb9nXSDpjCji5IbZXhEg3RDUysjIxf5BxkuMAAFTrSURBVMUaLElR5uUK6BGJBJFuT3S5hRYzBbJbWD3KMlWDz0u3wdVDMd3VS03faAy+ajB61j+eu2vL3Iuj+SItyd3zA/ZbdZuzMPFq9DfNalmZg9T1Il0XTQiGPnwXnnj9Xtw7ZxDCXGlGgbZyHevSxo4xOSVH6SanS8e2/1h3m1PrjIlDYkQaOH98r/T0b25B6Cmd/8HR7fPHFyIiImpaDDa5oFVpqpmVwgdj3qDW05pC4xeFV6f0d9IscHocOaf8UuzhVe+w43XanK96lff0RLscjehsDjJM0Sa/vrhtMFvq1E2P5XtV96NnDG67oxeGu2jJ6TvxGaz88hO8segNLPvyB3zyyDDxTWuUg+/3KK2TokZPx1C7BUsM7ri5P8ztmg7twP9E2j7pv3nzcdw7tj969IzH0Ikz8I8Xx6KL+LYl+U5cgDVfK9dx5TMT0dbCAW3yGFftwCFT+arpjykPBomV2jxum4Fx3cSKlNd/+6qZW+L1fQDLvluDZdL5f+OT9Vj/9r1wtPEwERERkSMYbHJBusMpOGiOi3gi9rpJWDwkEJF2rlZkeAxmhouVplKsUyrcfj1xUz+rIEVHb0wfnYhl941CHwciTZHdgjEuwLPOGeI0fhG4PlapfuTlKB2aLAQFYkpXb7vnx8DTD3P7mfsBojK/ANtFun0pwLpUrUi7ITJxMpaMDkZCHecuMjgUc4ZFtMuWYDLdkWR8n6V0w/QIH4qnHhyPhQm270mNlzfG9e2PV6f2wnDxWfMYhr/fMxZh5nGlPBE95QE80kOstkIl/9mGVHPlPR5/fnM6hnYTs3uZBMfhlnfn4A8hYr0yE98vTxUrdbjtBoww/TeCR4/RuGOyWGlBf548CkFi1j35OoaNfQALpojVNqJtHmMq1uxQmuOFjX8Ej94bYQ6CGrkj7NZ78eKMOPOsrSW7f8D6Zu6lPOrOseip2jHfhD/hiUeixRoRERFR43WIjo6+JNLkQjTdBuDd2/ojQF2ZrdFDV1iAPDGWkWdgV4T6esNDqntlbFmJeTYGF504chSuDxUrJp7+iOrmJ150y5F38pzVgN7n8OPaNCSJNaNgLPzreCSYA0nVqCwqQJZWD8/OXREZ5K2ELmuk/esoahElqVj84cFagZ3RYydj3iA5kCRtp6wSuuJzKDQ3YnKDJjgYoZ1VAS19Jla8uwOrbQ2ePigR68aKLnYV5dBdKDSfI5lnYCgi/aRtmfdPi+2fJmGxMtmVWULClZjVyzpa5oPQHsGitVY1is7koFA1BBSks5eydS+W1zOT0KzbZmBKlDFt73rZ49z98sXcGTdgXLjq/ErXrLLEeD2NPBEU5m8InHjI583OdZQ15rhajY6BeGrWeAwPMNeOFVKeqzTlS9P5ktVxzprGA1i2dTp6ijWjUux+eTKe/lGsNje/hVg3bqixxcrZrzBu54eGjxvCY+wMvPjwIJh6yMmz0ZXl5yO3pFK6BTojMiwIHubLcgHJ77yMj7fYGIzZ2r0P4f3JSjcmk5NfP4FFn4oVu0bjof+ORZxYM3P3Uc0uBqlsK5P2Vi0T39/5MTaLNXseeH8rplvNiFD622uY/JRlqdzUxr28ADd2FytmHvDxUQX8KstQZnW60797Hu/+R6zY4SrH2Gfe45gzVBlY3shDupTu5mAQqqU8p7fsEFec/JnhfxcsTjf8ryIIE998HJN7qM9RIXIzL6BM2qJfeAi6aJTvKk9uxIK/bYGq97yD7scH024x3u+lyfjnpvnYavjcMaNeWIMF11q1vDr5DSbf97ZUahARERE1njqUQS5Ed+YgHvp8t8Ug2ejoCU1wBGJ7RBmWyABjoKkuYd2Mf2uxmANNMm+EWn/fI0wZtNSsAK98m4oic7DHDR4BoYa/jwxWBZoupGP1v39Hhlitn7QdH28EhKn//QjLQJO8zY/tBJqsSZV99Tky7F+AKtBUUYDtq2wHmmSBIZEW/61xMQV0ZG4IqHVOIxFp+dO10zl3v0qx5IsfkHRSVaXoqFxP4xKKAOm6mAMnEos4VntTo8Ury7/B6mM2qmFygEk+V1bnq/l9h0OnRdJEn4vTJ0S6larcshKLPk3FeXNR6A6fkAj06BmDHt1UgabKfCR/+q5jgSbZlhPIEkmzykzs3SbSdfKAxscHPtaLKtAk87DxN1Z/YtP7a3+GdRHl26VW1KfJeXjX3n+LQJPMo/bfaFTFtz0uc4xW+25cVIEmmZuU56z+ppN0seWltkIkPbsUmzNV+dAjCGFyfu0ZYRFoKjuxBW8+ezmBpsb7efkWnLAu1IPC0Jo73hIREZFrYbDJhekK0jFv2RosXJeMlNwSVFaoAk+yinIU5R7Hru+TsPig+KwJGQJg/96Ezce00OlV+1KlN+zH5nXrcc+y3VhRUn9lLyPtAPYcy0HehfLax2Vo7VSKvJOpSFqzFjPlbVo2vbJ0+gh2Hc5CdpG0rTIbIRHzedqAe5ZswuKmHNy8tagpxdK10vWSKhybD+ehSD5v6mBejV46lyXIPiZdA/m6fngQu8RX7VZNOVZ8ux4zlyThm/3pxvxmkdXlfCvntXTs2bENSz5rzlZNstN4+9X3se+cWC09jZ/ffwrvnxTrrdj5rz/Ds3OWYn1yJs5L5YvSxkRKlxQidctK/POB1/Hx13aiyLZkbsSbS5PNM4VV6vLxvw/kIIFxvUX9+Dye+041Mn1b1JaPUZeJrx55Dgs+3I79ZwpRpm4UVVmG85n7sf6dhXjy8Y04WdezrSmdfB/zPtrHVkxERETUZNiNjoiImoYTutG1W9e/jPVPDzMPml34y/O49bmfxVob0R6Osck0rhudkVXX26OrMeaB98UKERERUeOwZRMREZGL8Q3qDKU3WiEOJbW9IEx7OEaX1tfXHOiTO0of/u1zkSYiIiJqPAabiIiIXIjvoHvxysx+5kCM/ugW/HunWGkj2sMxurSuU7Bg/lhlfMbC3fh6OTvVERERkfOwGx0RETUNdqNz2LDbH8Hw6DD0uqIX+kWrZgkr3I3X7nkaSW0gDtAejrH5NLwbXfTEe3FzzxhED+qFXtJ18DUNrq8/gdV/+wvePyLWiYiIiJyAwSYiajkBUZg/pjsCxWqjuHeEBjXQOTgZWd10SNm6F8uLxCpdHnWwqfgA1qdbT5cH5OS/izUXxUo79sCHWzE9TqwI+pNJeO2p17DFNOh7K9cejrEpRPvfjamBSoc3o2hce+VAGEJ2Dgabxr60Hs9cY7Wdc/vw8cvP4z/7GekjIiIi52KwiYhaTvgArJjRHxqx2jh6VMMTph/rG6cUe1aux8KzYpUujzrYZMeJ5Bvw1yyx0o6ZAjH6skLkHjqEzRvfxn+2NGB2vVagPRxjUxhzxVf4R586SsmGBpvKSpF7+hB2b1qFf3/NGemIiIioaTDYREQth8Gmto3BJqJGc1awiYiIiKg5MdhEREREREREREROw9noiIiIiIiIiIjIaRhsIiIiIiIiIiIip2GwiYiIiIiIiIiInIbBJiIiIiIiIiIichoGm4iIiIiIiIiIyGkYbCIiIiIiIiIiIqdhsImIiIiIiIiIiJyGwSYiIiIiIiIiInIaBpuIiIiIiIiIiMhpGGwiIiIiIiIiIiKnYbCJiIiIiIiIiIichsEmIiIiIiIiIiJyGgabiIiIiIiIiIjIaRhsIiIiIiIiIiIip+kQHR19SaSJyBZPP8wa1RcJncqQknwIy3OrxRctzFX3i4hcwHX45/gncbWvWLXl7FcYt/NDsdK6afyCMWtkX8QiFz/uOI6kEvEFERGRDX+95gfcGi5WbGlDz0iilsJgU5OJweLHRkovvsKFNCxZthebxWqzCR+AFTP6QyNWa8vBN29sw3KxRtb88NT9kzDcT6zWaLH90yQsLhTrlykgLAYPj+iH+Ag/aLzcxKcSfTkqK8qQtvMnzE8pFx/a0jT7Rbao7uWSVCz+8CC2Gz6n5jB67GTMG1RHxCRrB6auyhQrDTQoEevGRogVQJeShJmbtGKttWuKYFMjnmtN+SzyicLi2aMQ6ynW9ZlY8e4OrK4R69TE/DBfeh4NMT2PpGuZ9OY2LG1j59+6LMreuhJz94mVZqLeB93+DZi5pYmiqoYfswZieFwoQjXSjWXqB1Gjl95R9Cg8tQ9Lvs9CivjYpjZdvgpt8RhbTb2h8fUsBpuImh670TWZEmgviKTsUhX0IkmtSHh3JJhfoCUdAzFgkPqDhvLEzD9OxiczR2JIj0DLQJPM0xsenQMRG2KqNdnh9P0iaofOlUAnkgbVbbV1oBb7936L9dbLif3ie0e56HOtT5wSaJJ5xuCafiJNzaAE+ep8IdG3wUDfnkLLwI6+jf5U26ffMKx4aBKmDIpCaGdVoEnW0RMePr4I7RaIQPGRXe2hfG03zxBX1Pjn0d4TNp6Lh7NYXyNyIgabmoz0wLF6EWmRwqsoC99v240k9bInB5Xia6pHkQ5ai5fmauTlXv4viaPHjMf03qqmBlXlyMvKQsZJeclB3oVyVFaJ7+ri5P0iclUZafssyy9p2ZVVV6u/BqixvNkq22w730KcOPUu/mW9nEsW3zuqEc+1pnwWaXWWFT5okZ8jktQsLIJLNW2zwq2zLh8ceVa3NuED8PSEOGjMLZmqoSvIEe8oWcguKEVlhYPXtz2Ur23xGFtNvaHx9azfztl4LubkMthE5EQMNjWX4mLsEslmVabFij3pWKpejhayIHVUWTre2ZiOIvl9QnrpKjr2Mz4+bPyqwXzicNtApfVRUcom3PP2WsxZ9TPmrZWXbZizbC2mv72y/qbxztwvIheWfSbLsvySll/PN00tr9Cq5QLVoyHPtaZ8FmUmY/nuPOjkgEdNObJ378I77FLcckqLkS6SbVcptOdFss3wxJzr+iPAVDMoScPSd7/EzE+3iXeUnzH30/WYvuRLTL2M7uTtoXxtE8fYWusNLVXPIqI6MdjUZEqQXSyS1KodPbwb97y9ElPf/BL3fJuDo+LzhtLERyHSdMcVHsQ7mwpQJFYvh7P2i6jdOluMPJEkR7juc23zL1sw8025PFyLub9orVo6UVNLP18qUm1YXmHbzlcdo5BgHr9Gi11f7UVSYyIM7aF85TOkBbGeRdQaMNjUTCor2HGtvRsSpLRq0p0+jT0iTUSuoFoqp0WSHMLnGtmk16ONDQNtQyV0ZSLZVoRqlHGYSs7gV6e2DmwP5SufIS2JzyMi18RgU1NS9fTQl7aDX/2oTnFdlLGatOyuQ+QCagz/Z1SG0sY0NWwv+FwjG/SXVIM2lZXVPUtZayXlfaU6WwZtWysvQoOUGcgu6Jzwg1h7KF/5DGlRfB4RubwO0dHRbXHIPpfgrClqNV6BuO3a/rWnoNWXQ1dyDml7U7H8kBbZqne9OllMa9qwKUwDNIG4PiEKV0V3Q2SwRto3qylxS7RIO5SKdXvzsMfB5tcBYTF4eEQ/xIdJ2/NRTSlUI/9KVAld8TmkH0zGwpT6BwXW+AVj1siBuKpHIALU+yb/4lRWCb2uEHknUjFvR4H43JrVVKq1lGLPyvVYeFasNsCs22ZgSpQxnbFlJeY1aCKoptkvY94aiD/0CUaA6dybr+MBrPqtACn15CvluFR5yTBt8pX4Q99Q6TqIGff0pcg7dQTrth5HUqvqi6A69yWpWGxvrArPYMy/e7wy/bc+B0mfbsNSe7d9RzeMu+IKTL26J0L9vOFhyKtyPtUh7+RRfLdDOk/1FBlOO/eq6ZvzflmDObulm9fTFzOHX4XrB6i2U6VH0dk0fPdDKlY7VJy5YUhcrJTH+iI2wBce7uLjCml/ck5h16+HsDy34YMJW0xBnrUDU1dlGtMNpp6y/fLvbYO+0/HyP+7DsG7SfVR6Glven4uXklry5fc6/HP8k7jacJrSsWbtQ/jA8HnjOHXq9ct9Fjltam7VvZ2bjLkrjiNbzrN9+2LWiHhE+olniPwsKpGeaT/vwjvHpOeu/PcOcEb5qvHyxbje3XFVr1BEhflL66ayQiLvl64EWemH8f0vmdhcZ6sK1bGq7hnD83d0AgaE+4n7U9rmhRJkHNyFj3dpHe+erZ4CvlH3pCtTP4cb9u7krLLa5v0nldVTrrwCNw4Qs8fJ5MlHMg5gxcZ0bHe0K5zTr6ETy1eXdZnHqH7m7l6LOb9I77cdvTHx6oGYKl9H07u+VF4UnWnAM9ewjQTcdIW0DfN7hUSqLxQVZuH3X1KwPNPxMsysgWV15NCxWDI61LhSk4ekD7ZgaX0tAYP645NZAxBgWNFi1/IkvFJP6zqnPo9M/BZi3bihMGz17FcYt/NDw8dEdHkYbHJpnpgyNhF/GhCsPDDsaFDw4rKDTfUFPFT0Bdi+dhMWnxHrtnT0xdzbbsA4uXJWj/ofItK5mjAes/orXdXsqvMlqr5jbDvBpuGDR+HhxChl1hlbKnKw+YttWGIvNiexfon+vf8wPHW9ajYba3LeWCPljVbz0qk69/aCTQ0MNGmC47Dw1mGItV9bNrxkZv/6A57cXWr3xdBp51714ivfaw8di8arUwYg1MvwUW01Jdi1agNeqev+1oRi/i2jMKRrXfd3NYpSt+HljXkNGnPMecEmZ4nGI598ginRYlWmP4yPb52L/7RYvKlpgk1O5UrBJvne/jQHI6YnYniYvTwr5dd9m/DQ1vrHhHJO+aquyNajphxHN27Ak4ftRRZUxyrfM2vyMPMmq9lRrVSe24t3Pktr8EDQVJuzymrryvVf0iKw+OYr7ZfVjryLmbSLgKGLsHrm1nsd672/gT49h+LpP/ZSBni3o/JcKv7z1UF805CIU0PL6o4RePXhRPQRPzCZA2p1GDJ6IuYPFR05C/Zi/qdpLdNCksEmIqdy8/f3/38iTS7FU3o5mYw7+nSGWwfxkfwrZvE5ZJ7VQltUAl0HL/i4u8NNerBoT6ZgY674u/p0DsUtCSHSvyC7gKM7T8GxuEcAJoyINvbpl3+dLdfhbHY+CqR90RbpoHf3gq/p1zm3TojpHQCflNPYb3PiKOn4br4JN0arXuorSpCdZdqedHzVbvBxc4Obe0dU5h7D2pP2f7YdPWYiHlTN9Gb4dTAnD/mFxm1pKzrAVzqRbh7S/pVk4YtD9kYV9MAV4Z6oFvtgXCrhGdhJnC89zqYcxfa6KpABUZh/40BM7RuDCaolNsQfvh7GP/H0C8C1cZbfK0sndDxSgBPGPxWcsF8qo0eOx6OjwuEt8lZlYRb2703DgYyzKNG7wz/QF57yd+6dEduvC3wOSXnETnf4wVckIN5fTl1EZacrcMe14cb/Vv6FvMiYX3XVXvDrJN465LwRXonjBwrQOuJNqnxfkY+de/Ng8QpuHWiqyMI3y7fjI3vXIjweS24fiigfsV6hRUZqKnalZSOzqAKeGn/4eUk3dQc3+EX3wOCyE9K9bbv1j9POfVh33BHb2ZDs4B6EG4b0QKDIqyjJQ0aO1XaksicyugNyrM+FiY/0onnXGCQEiPKgphTZR9KwQ8pHJ86VwcenM/x85O86wjskFkM7ZePHk+UOT60cE9sH15gCAnXez81lBu77vysQJNYM3HygP/VfbMkQ682uB8bGXQtjLF+Lw0e+x++Gz13I5T6L3D1xRWBHlKvLw4tSGe/nBWOOc3Rb6meaB2IH9Ud8kMizVdLzKFN6HpXWwLOzj7ivpPwaHo7up+oua51XvnrhD0N6I0KugMrP//KLKMhVnmu6Dj7w85T2V95WB3cEx0Wie+Yx/GJz31THerECvYZeg3HdvA3fGFpP5OUg55z0HPfuJD2njLVVN004Yt1OYsNpR5vGkD3OKqvVZV9lpQ9uuCYewaayWqdF9pkClFhvJ9oDBfvPIsP807I3Zk24BncNtHr3iA5GoOm/8+yEq6MiLL9XLVdcPI2dHJz58qmeuZXVvrhheG/lOuqlsue0VPZI762BnaSb33R/9wiAf+op7LFRVvQZlIgXJ3aHRpQ58j2tO5+H7LwiaOUyTCOVYSII5aYJweDeHaQ8IT3bHW1u0NCy+tIFeAT0wlUhxvzk20nKy/vz63jn88Ps8QONZZ0k+/cd+CSn4a2encJrjHRtuhmPtfQIPsvea/iYiC4PWza5qNFjJmHeYCV4oju5G0s32G4OHRkegz9IVb4VjtbcL7tlUzBmjfZElvSA2llSbfOX3YCwXnhx+lBEGp9I9n/NCIjH0vuuhKGRbU0J9qxJwsIsOw+Wjm6I9ahGht1Yk1SxfcT0C4oeGVs3YP4+e82EpW1JB56ha8hDTPWLsCMtiOr91b0+l/GrfENaNkn798kdpumN7Zwvz2A8dUcihptapZzdjbkr05FtXLOgbrFlIv9ytmrdQYtm3wFRQ/Hubb3EedFi+7+TsLhVjG+gOs/WLZusA026TKz+fAdW2P3F0A9P3T8Jw8XfV2btxgtr0q260rhh4uixuHdoMAzvnnU0QXfauVf/om2iL8CudVvwiuq+tNxOOVLWrsX8k4YVFU/MmjYZU3qIvCNPn/1p7VmNEvqPxFPXx4hf9qVtrZG25eAP6a7XsmkYFnz5MkZ1FasGudjyxAy81GIRnjbcssmWy9qWugw10SMveRue3K6aLVS6zxdK93mC6b49vAnTk+w0R3Jq+eqN6cO6QZ+Rhf+d09ucvVTjF4Gnbk9U9u3ENkz/Jse4YsHOse7/FUt+ylGVQVL5M+EmzOkv7q+WbGHQhjirrLYo+0wqpLL6G+uy+kq8dWu8uZVL9vY1mJtsKoQb0GLOjoa3ziYLtp65NaU4+uMmvJCqlBcavzip7BmGWFFU6FI3YeZGq7InSHqfvlt6nxbX2nZ9wQ2jh4/Cw9dEmHtK6KRy7C9SOWb3dUXtcspXi25x9TzjY4Zixa0i31dJ71HvSO9R9XQxbjJs2UTkVKLIIZfiE4fbVK10ivYn4S9r7fe7zz7bgEBToxRg+fYcbLYTaJIV5R7HK78pE8GGRog+29a6hxkDTbK8I3jHXqBJVlNXoEkSHoxI8WOcXNn/0W6gSSZtq0GBprbGE3OuM1WEpNOVssV2YE5fgFdWJyPD1CotvDf+ZNFsw55qKb9uwv2fWb5Ay4qyUrDH/I4UiMjuItlaNTjQJI9jMNQcaDIEYWoFmmTVSNq+Dd+b7omOobhmqFXlwiYnnntDN8BNFpUXWVHWAew0t6D0RoipZYRazECMMwWaqqTtrLQ9fXZK6g4sPWhqguGN+MER4kW2NdqN1z7Zglzzcepx+rv38bbLNSWiuhmDQ/PUgSaZVB4uPag81zxCgpEg/a+8WHJ2+VqO1bvT8Y2dQJNMV5KD+ZuPm1sFyvs2WqTrJP/Is+przNmiDjTJpPJn9zFlOvfgMFwlkuQsTiyrS45j+XJbZfVevLNHmRMwsl+sjfxKLkOfh82fr8eTqkCTTFeSjvlbMs33tya+D6aLtMnM0QPNgabKM7vxgs36QjW279qGZ39VyjFN/ED8ydTCuikUHsNOc91EesYPsgquqUyMjzI//yszT2JdSwWaiMjpGGxyQUOG9kak6cqUpOLjLfWPD+FKsk+fU/bX3x/DRdJCRaXSZaZrFG5vxC9sKNPD3GtAE44RUaIbREs5exAz31iJqVbLN1nie4n8q6D198rSiF/36+MTgyvDRVqqTuz8uY68VZaJnadML7CB6NHPRmDBStGe7/DQFquKmlk5tG1lquiOgZaBJvmFv55Ak1wRndpbCb7mHUzFZrsvVHosT8k23yMBPSLrrSg47dzLldC19sab0uNgrtJHx1cehN/KlH6ql8ZjqVhaxznZvkep1HrE9MCNIt0alSa9hBm33oPHnngMf7n9Btzzxs9KuUStQtF+O8EhicVzzdPT0B3N0CVNrYnLV7tO5sP8ePH1R5xI2qfFrs832G9NXFRmf7+p0ZxWVutz8M3KZLtj7+w5eFIJGgZ1VQUNS7DwQxvvHltULeLkFqPW36sWtmpyIsMzd4vdsdt0h08qgWn3QMSpW9B2jMGQHqZ3Xi32bEqvc/zDo7sPIMWUXzqGok8fkW4SevxnvxIo8+jeAzNt1jqDMSLOVP6VI21fDssfojaEwSaX44lropRX2Lwjx1x2cM5IP2+M6xuHOUOslj5B0lEoaldHJUePIs30NHGPwMT7pmHJhBiM01xGoKgoAynm1ha+SLj1VnwyrRemBLu14pYSTSRO1aKs4Az+V89L7c5c5e0nNMSij5BNhUX2B7OWLV/VBl5W5UDTfRNVgSa5m5j9F35FKGJDRFJ6KTx61E5TRZNT+TBPxGJRUbDNaef+TAoWOjKYrE1+6BtpemmsRsYpO2/PJkUFyDflQeuX6Nao9DT2/b4PJ86JdWpFcvC/xv6w08Tla4DGG6Pjomo/c4eEKeOFdXTkGVqGvDpvzUzME2VFk/740U45q6zWHd6L5XVtqKgERaYghfTcijQHQsml1PvMLUSeOTLph5BuIimLCUGU+cfpM/i1ntnb5B4Kv2cqQ1uEhtQKmTuVZaAsBtcMsVEj6NsH8aYWViUn8GNL94onIqdisMnl+CHUMIikrBTZJ+uf7r9ZyVP1ThiLFX+bgSX3T8PcG4dhYqLVMiTCONZMXWoK8Mq3qSgytezo6I3I/iMx96+3Y93cSVgysT+mhzsaLNJjybodSlc76WU7oMdQzLr7dqx4eDKWThuAOXG+ot94+zY8xJy5pPPkjxG1Ki2Wy01dVC8G7iwu0CEIU60CTUv+bbubWC1dAxGkOoWBcbbPuXnpFwTzxDQOVSBdgT9CzD3+KqEJtXFcFkuYqnVIRzH1OlHr1CTlqzyV+fBR+OSRGfjkr9Mwb+qo2s/cxDg+38iGUpReFElqxepo7eavUd63i4sd+nE644KyMU1AY7oVOCIH29KUekxk7xhEirTJzD6R5mMoOprB2S+J2hjWHl2OBhp1H2pX6resicHiv0zClP6hdU/n7CDdmYO4Z1kSNp8ssTxOLz9E9huAmTNux4oHx2Jhf9/6g066TMx7bz1Wp+ZBp96Wpy9Ce/THxKmTpZf1SVg8PBBN2mrYxXl2UF24oDgblRarpW/T/urV6lwqwdEMVf8y3whc4+ivxe7ynIImgUiwdb4tltZYgZTylzmLeSNyiK3jUi8DENmUY0YQNSOnl68dA/HUrCmYMzIKAQzEEpGV4UGOjOdoKaW0niaXTpaUfEzpMhrW03J8uo4RGBAjfkyrycPOZHY+J2prnBAyIOeqca0Ak5kv5t06ErGmphY1pcjYsQWLP/jS3NzbvKxMdbwrgk6LJWs3YOq767F8WyqO5loFnnxCkTBhMj6ZFlN/kEjapxUbt2Dm219iyfcHkZKltQw8ufshduREvHrfAIxjzqfLUoUjWzbhmyzRlKmjH4ZMG4u5wcZVIiJnmf7HsRgeYKqI6ZGXugNLPvzSxpiAO5Bh/Csiakd2FTY8OJPgq/qFp6oZKhwWA4UHImGo8sKkGdBbzCQtyTuF75o3DkZEzYBVbpdTDK352eGL0DCRbGnhsRhifj6UYs+q9Zi3Kw/bnTWzm74U3+w5iCdXbMDUt7/EK+uSkXFB2bZHj+G4t59YqU9NNTYfScX8VUmY+eaXmLdqB1KUaaKAgP7407UN/zWoLdhTqGqVU88AoLWWFp9e3lXosXzNFuwxnUrPUIy7MxGz6mt+l6eDMjeQPHWwjXNsd2kt46aUQHtBJOVyYqWtY7G3rMfCZplVk6hpOLV87RiDa0zznaMa2dvWY87GzDpngyWy0LErQs29pEqQr0xERq1KICLNzZxLoVWPCVilege3NyGPlfguSte5oqJikWpKlgOFa3r0wERDyhN/6meaoa4aR/enI1usEVHbwWCTyylB9nmRlET2javVv7lFhAYpXdlKTuF/lz2AsANqqrEr/TjmLfsaSWdMD1I3xPayP22qfdXIyMrE/BVrsCRF+QXIkdm92iJdbqFSUZFeTByaIptqq9Fi4aebVAGnCEz580jMrCvgVHMOeea6qF8bHaxVi2xze3lfBCqT77UPvtEYfNVg9GztA53TZXFq+Rrqb57OXJ7Zbs8+RwaGayuC0FO6jwZHt88fhZxFE68esD4Xv7pkq3nH+UZLeeKqnspg+O1FUDfEdRbpqvNIU79/Z0vvFSIJv25IrO/kdAzFVd1MY0CWI0sexqIZ6A6rJgXSxCKxr/S/PlFIMGVQXQa2HRbptoDvAkRmDDa5oFVpyi8ACB+MeYNszufmkjR+UXh1Sn8nzQKnx5FzSptaD696hx2v0+Z81UNVTF3d7pzNQYbpge/XF7cNbj15y+XoC7Bw5Q5kmOqAmhhMn1FXF80S/H7aNFCmLwb8Ia5Njh/240nl5/PYoVe2my6rvhOfwcovP8Ebi97Asi9/wCePDBPfULvREuWrZzCeumsoYsVqq9f3ASz7bg2WSffRG5+sx/q374WjjZpJzRdzhsaYxwnMPpyBFJFufXwx8YU1WP+JlCcWLcOa71bimYntJxA5fVS8efzGylMn8b1IGxRl46R5BrpADBlX95AT464bij6mXnS6LPx6UqSbXAF+PG76wdcNsb0jkDCkNyLF+4Hu5EkkGZOtnu/EBVjztfIusPKZiVIOJmq/GGxyQbrDKThojot4Iva6SVg8JNBcKFuLDI/BzKZuJVGsUwJgfj1xUz+rl+iO3pg+OhHL7huFPg5EmiK7BWNcgGedAyBr/CJwfaxSROfl2GkDHhSIKV297Z4fA08/zO2n9BOvzC9opzNeFGBdqqkzlxsiEydjyehgJNRx7iKDQzFnmPRiINZJRZeJ+WtVsyr69cecP8XbDbAkJR9Gnvhbj27D8OId/TGxjslgNF6+mDKkF6a3opHCs/ccwVFTAM4vHnNnDcOssDpm0/P0xLi+/TErRqy3SsPw93vGIsw8FIYnoqc8gEd6iFVqJ5xYvhaVQWmLG4Hho60nynDD6CHD8Mmc8Rjete38aDDqzrHoqRpSxjfhT3jikWixRg6R3sdmThkPKesZ6Y7jxz2tuWXcn3HztaomOz5hGPvAAkwRq22XGyaOHo/beor7uyYP/9ucY9WNthT/Sc4yv597RI3Ec1OibJQ5UnkxfCzmDDK9cOiR8cuBZg3wbN+XYR4o3KN7f8ztZfrJV4uU5AKRbv3+PHkUgsyvPJ4IG/sAFrT9zEpkV4fo6OhLIk0uRNNtAN69rT8C1A+MGj10hQXIE2MZeQZ2Raivt2G68IwtKzFvv+FjCxNHjsL11l1ZPP0R1c1P/OJVjryT56weXufw49o0q4dQMBb+dTwSzG+71agsKkCWVg/Pzl0RGeSthC5rpP0zTdVekorFHx6sFdgZPXYy5g2SA0nSdsoqoSs+h0JzIyY3aIKDEdpZ9QKtz8SKd3dgta1m4IMSsW6s6GJXUQ7dhULzOZJ5BoYi0k/alnn/tNj+aRIWm38NUiQkXIlZvayjZT4I7REsXvSrUXQmB4UW7206pGzdi+Xm7kO2zbptBqR3AAN718se5+6XL+bOuAHjwlXnV7pmlSXG62nkiaAwf2i8pPwlnzc711HWmONqHWKw+LGRxpYDds5DHykPvijlQdOvyJVZO/DsqkwcFetqQ4aOxVOjQ1Uz00kqSpCdUyy9/hkZ7u1OHvDwlO8jeewj2+MZOe3cq+8heayZOsbnUu5dKYft34CZW2o3w9fEDcWyyb0sZ63UlyIvTwtdlXHVs3OgdI/7wMPLWFbY3v9gzJvWt1ZXYs8uEdI9LcqYsgJk5FqNKpp3BPN2NOfL6wNYtnU6eoo1o1Lsfnkynv5RrDa76/DP8U/iasOlSseatQ/hA8PnLcN5zyJnbkt1bxvGUatjbLTwAVgxQ7TaFeWArHaZ6Kzy1RNzZtyKieofknRaZOeXQu8jHWuIdKzqZ6703DQ+4+wdRwOOtQWNemENFqgDC7KT32DyfW+rgm+tj7PKanX5ayDniTNnkJYj/yDYESER0YiLDVVmL6wpwa5VG/CKI0MfNOA50LzslK+vSeVra20Ooz7XMr30DnAmD9mZhYaxHQNDotCjRyhCfcRzTnr/z/hpvZRvLF7yBE8pf02W8pe6zFHVF9x9ERoeCI1qRsui1E14dmOBzTGSnFlWW7JRpslykzF3xXHXGa/JbyHWjRtqbI109iuM2/mh4WNHPfD+Vky3al5W+ttrmPxUa82sRI2jrgqQC9GdOYiHPt9tMUg2OnpCExyB2B5RhiUywBhoqktYN+PfWizmB4bMG6HW3/cIQ+1xyQvwyreqFhzSi61HQKjh7yODVYGmC+lY/e/fGzAzjrQdH28EhKn//QjLQJO8zY/tBJqsSS/v6nNk2L8AVaCpogDbV9kONMkCQyIt/lvjYgroyNwQUOucRjb59O3O3a9SLPniBySdVL26d1Sup3GRXlal62KuzEhsveKQ0dH92/DC1hyLXxdftDOD4p7kLXhja5blTIlefohUXTvDvW0INMlqUCkCNK2FLj0ZL0jlRV6F+EDmKb3wRqmOMdjXHGgysHmMGovzYv5vTYEmmU9wre9ju1kHZpvadzh0WiRN9Lk4fUKkyYnPIuduy/mcVb7qsfSbHchQ30OaQOP9EKYKNEnPtF3yhAWtORKj8vPyLThhfTKCwsBOqUb6SqsXITlP9O6PcYnDMDFxKIb0VgWaLmQh6XMHA00u7X18+Yv1S5svurSllqOe8jtALww3XMdhGN5Peg82BZqke3zPt/YCTTI9lq9aj9XH1GWOqr4QpQo0ybNaJm/Co3YCTbKmK18tBwo3yT6W2aYGBn9/7c+olVu7dBcpovZH9apDrkZXkI55y9Zg4bpkpOSWoLJCFXiSVZSjKPc4dn2fhMXGH1mblCEA9u9N2HxMC51etS9VesN+bF63Hvcs240VJfXXjDPSDmDPsRzkXSivfVyG1k6lyDuZiqQ1azFT3qblTyiWTh/BrsNZyC6StlVm42FsPk8bcM+STVjc6l+8nKCmFEvXStdLerHffDgPRfJ5U7/DSi8klWUl0kuAdA3k6/rhQewSX5FtKfu2Yel+pZWPR4+ReHqs9JIn1tV27fsZM99dj+U7jhvzrcUtI+d/Oc+mY8+2LVj4jlRZUM8+00ocPXEQc977Eks2pSKjoBSV6jJDJrdCLMhBSvI2LFmyEvNSxeet0mm8/er72Ge6TqWn8fP7T+H9ZhsPg1yKs8pXXab0DrAB3+zPQZH6OSm3WijIwp5NSZj73ia8kmWvEtoKnXwf8z7a16pbMTWlXdul95gPkrAi+Tgy5PdC63cevfF9x/g+9jOWtpHeSVueew5JbfXdTS4PrF+bpfdq9T2+sFYE1poeK761KnNM5JaVF7TI2L8DS95bgznbC8zd2ZqbxUDhsqpM7GzVXTxt+PF5PPddrlghInajIyIianOuc6ludESOs+o2dXQ1xjzwvlih9mrsS+vxzDWmLoSF+HnBrXj+f2K1tXHZLotNrGMEXn0oEX1E54Wi5PW4Z7uLhZYb2Y3O4PqXsf7pYcZtSAp/eR63PvezWCNqX9iyiYiIiIhcQ19fcyVNbrFx+LfPRZraL18E+aqGVzh3CN+31kBTOzY68UpzoAlVOfhfcttsw+gb1BlKbi3EoSQGmqj9YrCJiIiIiFpe1ylYMH+sMv5L4W58vZyd6to3Xwye/Qr+nGCqvutxYuu/sVusUesgT3x070Bl+t28Xb9iudXcHm2B76B78crMfuZgk/7oFvx7p1ghaocYbCIiIiKiFhE98V488vACvPHvlVi/8hGMChPVNP0JrJ7/PLYY16hdGYbpDz+Cv7+0BJ+sWY83ZvRTuiTtfBvzllrPyECurE/PAVg8TTXDdm4yFu9uO2M1Dbv9ETzy95ex5JM1WL/4T+hnzqy78fbf3wdzK7VnHLOJiFpOQBTmj+mOQLHaKO4doUGNeWr9xtEhZeteLG+pUTSJGk09ZpMW+/f+UvuFV/cb/nUuWawQtQzLsXiEc/vw8cvP4z/72aqpfbIat8tAj9NJr2Hea1tqzfbV6rTxMZsmjhyF60PllBs0IaEI1ahmkNVlYvXnO+qe+KeZXN31IQy3nsXFexBu6BdlbJnk4JhND3y4FdPjxIqgP5mE1556DVta4QQvRM7EYBMRtZzwAVgxo7/NGdsaTo9q6fVA9UrTCKXYs3I9Fp4Vq0StjjrYZMflDn5K5ETmYFNZKXJPH8LuTavw7685I137JoJN1Xroi3NxKGUzvn/vP22n4t7Gg02zbpuBKVFiRaUy9yA+Xp2KJBdp1PTXa37AreFixZYGBpv0ZYXIPXQImze+jf9safUhUSKnYLCJiFoOg01ETYTBJiIil9Segk36chQVZuH3X1KwPLMcLtCgycxZwSYiso/BJiIiIiIiIiIichoOEE5ERERERERERE7DYBMRERERERERETkNg01EREREREREROQ0DDYREREREREREZHTMNhEREREREREREROw2ATERERERERERE5DYNNRERERERERETkNAw2ERERERERERGR0zDYRERERERERERETsNgExEREREREREROQ2DTURERERERERE5DQMNhERERERERERkdMw2ERERERERERERE7DYBMRERERERERETlNh+jo6EsiTUS2ePph1qi+SOhUhpTkQ1ieWy2+aGGuul9EdJmuwz/HP4mrfcWqLWe/wridH4oVIiJXcj8+mHYLeoo1W04k34C/ZokVIiJq0xhsajIxWPzYSMSKNVxIw5Jle7FZrDab8AFYMaM/NGK1thx888Y2LBdrZM0PT90/CcP9xGqNFts/TcLiQrF+mQLCYvDwiH6Ij/CDxstNfCrRl6OyogxpO3/C/JRy8aEtTbNfRC5vUCLWjY0QK4AuJQkzN2nFWmvXFMEmF3kWuapW9Yz0w3yp3B9iKvelfUt6cxuW1ojVNqE9HKPrGj12MuYNUgqg7K0rMXefWHEIg01ERKRgN7omUwLtBZGUXaqCXiSpFQnvjgTzS6+kYyAGDFJ/0FCemPnHyfhk5kgM6RFoGWiSeXrDo3MgYkM8xQd2OH2/iFqJcyXQiaRBdVtt0afF/r3fYr31cmK/+N5RfBa1HSXIV19Lib7NBWHawzG6rj2FJSJlpG/wz9H7sdlGufVLHksdIqL2iMGmJiNVgKwe0i3yqC3KwvfbdiNJvezJQaX4mupRpIPW4kW3Gnm5li9jDTF6zHhM761qtlBVjrysLGSclJcc5F0oR2WV+K4uTt4volajxvIGqWyzbXMLceLUu/iX9XIuWXzvKBd5FrmqVvaMtAi81LTNQGubPsagUMwdOwxL7p6M1dNixIeuQ2ddnjryPmIhGWtslFvbi/jWSUTUHjHY1FyKi7FLJJtVmRYr9qRjqXo5WsjKhqPK0vHOxnQUyS9c0ktv0bGf8fFh41cN5hOH2wYqrY+KUjbhnrfXYs6qnzFvrbxsw5xlazH97ZWYuaWewJEz94uoFSu0+iWe6tFSzyJX1ZqfkaXFSBfJNqutHWN0X4wbFIfIYF94uIvPXFYptOdFkoiI6DIw2NRkSpBdLJLUqh09vBv3vL0SU9/8Evd8m4Oj4vOG0sRHIdJ0xxUexDubClAkVi+Hs/aLqFU5W4w8kSRH8FnUlqSfLxWptqs9HKPLyiu07KZMRETUCAw2NZPKCjYhbu+GBCmtmnSnT2OPSBPR5aqWylaRJIfwWdSG6PVoK0Pj29UejtFlVUJXJpJERESXgcGmpqTq664v5S917V1cF2WsJi27/hBdphrD/xmVobQxzQPbCz6L2gz9JdWARmVlSBHJtqQ9HKPLksoKJRxdBi3LVyIiaoQO0dHRbXZ41ZamnkJWt39D/ePw2KHxCsRt1/bH8LhQhGo8lRChvvz/t3cv0FFV+Z7Hf7wCmBhCDAYwCfISUMJDmoYGoREQRRngMog29IzSjqItjvfiGrUfTE937Ns6s+Qur/Ha4NXQ9wqrBRqBRqMIaoO00DE+CAooCWJ4RSIJIdVABcKckzpVdVKpClVkhyTw/axVa+1TRQ7nsc8+e//PPnvLU3FUuz/eqZzPy3TAPahmfWpN9RzbtM5J8Z11S2a6vpdxjdJS4q1tc21PtVdVFWXa/flOrfm4RPlRDnqR1LWHHhl1vfp3tdbX0TULW7Xda6FKnuNHVbgjT1kFp5wfIotPTNHc0YP1vZ6dleTeNrsHxMkqeT3HVLJ3pxZsLXW+DxUyTXgdlcpfvk5Zh53FGMydNVvT0n3pok3LtSCmSaUaZ7t8eWuwftgvRUn+Yx84j59pxd9KVXCefBXcL1deikvU3DE36ocDUq3z4My4561Uyde7tObdr5TbQvvpB/JXb+t4hc4kGE7xVk1fsd9ZcLRuo5E9u2vcddcqrXsXpV7RTu3iXOs6bR2nQ19r24efa8Xhs2FfaQgcc2f9/foM0iOTBiito7WeMxXa884GPfGFfQHGadqEMZo1MFXx9vggFcXKfX2LFruyf6CcqtipRS/tUH5Kb2X9w/fUK9FaV/UpHch7T098UFazHSOHjtGDN3VXkr29J61rfMMWZe0Nd6G3Ua/0VN1+Xbr6p1nl1pUd1c59vKyyq/xYsT7atkuvFlbG+Dqpe2r0C78eawy4U7/7+X0acY2V9yu/0aYX5+u3uU0ZjLlZ/zzpCX2/5rZRqFWrH9bva75vGBP3IpPltK2h97XGuBcFNOAe6WaifK1jyDitmdDdlw5XvlwKGrKPBspXWyzXTMR7e618FLvz1hNq7rOD615D/n386+fKORLrAOvuusaF5/1Q42/4k37ez3ck9ubdpgeLa5IAgEscwaZmzW4ojtOPB6WoXSBoEl5MwYsLrkifL+Dh4i3V5tUbtOigsxxO6wTNn3WbJtoNvfM4fwPJOla3TtLcgVFM/19v5fXyCTbZgYNHxqUrvr68dfqQNv7xfWVHis1ZQoNNHw0coSdv6R15vXbeWGXljQsNEDSRiTdN0rzh578WawmT19yNmPPx7H1fv1lbdzwud7BpztZOemHWQCW5t6vaOsY5G7Rj2BTNHxJyTXi+Us6SPK11Grm1gk3Lj2v6T6x8VuuS9GrP2lV6JWGcnrIagO2cb2tUl2jjkk3KDm2xuRuL51F19GMtfnW3Nsba6G6wDD26dKmmZTiLNu8XemXmfL3aZPGmxgk2NYjRctpm4r5m+F4UykCwyVT5itiYKF9tzT3YNHLEOD02yiqPz3MNefZt1/NrCrXtopevtRFsAoDLUyzNJlxUcVYFZqrmDnFVyO0nyOUlzjT5xTpQHuU0+Y3Bfjp7skIHnG3xTdvvenwcl6KxM8ZobkdnuQ5r/6aHNGBOu9dn7V9ppapOR/dUbuz4kECT3YumOLiuoiMV1vZG83jbU2sbfJ/S2AbMTErXQmvfF4V8RqY4v1tSB9f9Pfjpr8nOvwsysF0uY0dP0mPjgw2hqmPFyt9qT/udp/wvS+TxV0zbd9fEH43T3Khqy23Ua8IUZd3qDzQF8+uBUldvBztvTOqvYc5iS9BvyDjNG+G6Fk+UqCDPOV77ylRVqyJfqaJt/inUzzOVz+lT8pQeCp5TO5+6run4PuP0s/H1BFA7pul/3+4LNFUdO2SVCU4eb52itGGDrAa9/bdn5TlySOX+sY3ie2lUPyftdkWy7rhjpC/QZO1f0VH/OYtTWt9BmjfGF2iq+X9OONdl61RlDu3gS0fitcopV7lVVFwmjzd4XbfrcqPmTU9XmrN88dyhG9yBJltchm74gZOGxWw5XbM+0/e1Bt+LzGuc8hUxa2j52lAny7Q7kC+dj/teeLK09m8hnwMRBquaaN1nn7zJFWg641X5Eefv7H103Y/ie47QYzN7KFyRDwBAY6NnUzM1dvwULRgarATZT6cWry/U5jDxkrRuPfRD7deyaHuKXPBT2xTNHRun4k9L9GFF+O7nSV376qk7hyvNaZuUbF+teR+Eea0iqb8W33ejUu10dYXyV+UqqzhCg6V1G/Vqd1ZFEQcC7q5nHh2nfjXTCHtV9O56LfzEqmTW/BbKWpe140WeaBtHNvdT9Ch6EDXwaWb05yTG7fKztm/p3f6eMBGOl9VAe/LucRrZxTmRh7dr/vJCHfAt1eJ+qutXdXSnVqzZoZWuh8FJ6cP1wqy+znEp0+aXc7WoJYwH0drKX4/485dUXrBB/xgyk2B8Ym9l3TMi0COovifhmQP6apS3RO8UV6goXPyzdQfdeetEzbneuf7PWNf2c1u10rdUI/SYVx3crl/+sVB7OvbV4p8Or7muqs6cVbu2bVT+aa4e3mS1WoaO07Lxvt5G5Z+s173v+ravTk+Ait3KfvljbaxOUdZPJynTaqT711VVvFW/XLFfe665Ucvu7u87l/u2aPrqkMfUPXroySsq9EZRmQrCXrdtNHbkOD0yOtXpKdUU+WGEfv3a7zSmi7NY44g2PT5bv/3IWbzomlnPJqPltMn7msF7UTgN6dlkuHxFbEyUrzYjPZvCaeBrkPEDRmvp7T2cctOrkk//quz3DtV+HdPex1usfXQ9gCv5YJXmbQ93QC4OejYBwOXJ/1wEzUnH3po1OFhJsBuLD6wOXyG3HTgcQ6CpQUqVs/mQNkao3NvKj3ylp/8WnJg8tXtNM6Wua7v6GjC2kl16PlIDxlZdfwNG3VKU5gQC5NmvdyIGmmzWumIKNF1q4jTv5uArV56CTeEDc95SPb0yT0X+p8DdrtOPk510vc5a+XWD7v+P2oEmW3lxgfIDr4t0Vtq1TrK5u753INCkYzv0fEigyeapKNSibcF8H5/WXZlOOlTBrq+0uDBCQ8hWfUorc7epwD8LUNur1L+bkw6nukwfbij0vQpy0hs4l3ZwyH417pVNvvGWPEeCU1q3a+Uk6vBqzwd2oMmX9jojxdas68whvfnn/b7/5+B3Cuxt2zC3kf379fSuSIEm21lt3rZFfzniLDZJftiu/7d0k44EzoNX37zxop5rskBTM2SynDZ6XzN4LzKqsctXnI/x8rVZSdAjI/2BJl/+WrApJNBks/fx7fXK+SIYXE0dOjhMj2kAABoXwaZmaNjw65TmPzOuxmJLceCbo8Ht7dRJI51kLaergjOedEnXXcE2SOysBnZgiJX4bhqV7hoMtCkc3qE5zy7X9JDPWteTPPvpZ+jvwU/s44NErWMP3RioWJfowy315K2T+/Xh1/7GZWf1vL6Dk46sPP8NPbypbjDG55TKWuA0ymNTOzspq3J/8KDynXSoA18dDAZg4q+MbjyZiEpVFAjMJajzVU4yDM/uPC0+5izUYgeOdmizsxSVI5/plV1OOkRJ/kfKMXr+vNpxJDg4UnJyQwqBC1OZ+1vNnnmvHnv8MT1w122699ktwbIERsvpprivRXUvMqmRy1eYEn352qx066VMf1DyzH69ubH+a2jt+58FB9i36kbfazFBNQDApYJgU7MTpx+kBxu3Jbu+jK2xeBGlJXbQxAG9NW9YyKdfsrUXQe50wJ492u2vJbXtrsn3zVD2rT00Mf4CAkXlRSoI9JBIUObMmVo6o6+mpbRpwKtsl6jerp4KpQf1l/MEDz48Ehy5NvXqWu8bhXWsvLLeym/OimBQLbYB0luAdnFq7ySjFhenzC6pmht6DVkf+3XPAH/PqjoqtXtHhLG7ThTpnQiBo0gOfPFV2MFy7VeJPv7rBYZhWrdRZlJn3RlmH0ddFdyxyL2tGlnlN/rko0+096izjCBj5XTj3tcadC8yqZHLV8SoweVr85KW0SVYpzl8QGtCezSFOlms3d86aatulNrVSQIAcJEQbGp2EpXayUlaDckD+6IcY+JisafavXWClv3TbGXfP0Pzbx+hyeNCPsNCZqwKp7pUT/95p8r9laXWHZQ2cLTmP3iX1syfouzJA3Vnt2iDRV5lr9kafIXDatwm9RyuuffcpWWPTNXiGYM0r3eCkpyfL2cjrw5kLus4ddKoMJVw9+eOq1zNs3CvS10G8r8Lvg8Yf801EQc279erSzCPHS+P2APKltmjrxbdb+X1R2Yq679P0LTQa8j6BJ5gn0+kBse5M9aVERtvPSP4ec/XsAlhT5WfNXuG1vzTXcq6b7LmhNnHken05mjWjJXTjXBfM3UvMojytXkwWr42I70Sglea57toegZ6VVIZfPW1cxP0HgUAXN6o3TQ78Yp3z5oTYwOvUcX30KIHpmjawNT6p3OOkufgDt27JFcb91mNefd+tk9U2vWDNGf2XVr20wnKGphw/saMZ78W/Ns6rdzpmunHFpeg1J4DNXn6VC19dIoWjex8Wc/KEtfKdeKSe9epgNf5DAj2RrhcefbsC46tkjxIj0zoXCc/2gOEz/t+cEyYA1/ujzjY78TxU5Q1c7h6JTbx656NqN+QMXrpR6OV2Y1gUktnppw2fF8zfC8yhfK16V3K5WvvTq6JHKJUUtkC310HAFwyCDY1O1YtvKEV8UaRoAUzR6uX/z2h6koVbd2kRb9/zTXWkPNZvjOKJ24OT5myV6/X9BfWKef9ndpzJKRB0zFVmbdO1dIZUUzda23Tsrc3ac5zryn7zR0qsKdYd6+rbaJ6jZ6sZ+4bpInkfETr5H4t3nwoMHZN0pDJWna/1bgea/dO6KuFMyZr6X3Bmejs8WhW5IXvU2TPJDTPNRtX1ZGvtHbFas3/l5BryPq4x/hqUZL7a8HN6cFpuU8Ua+Oa9VrwfN19XPQpIyS1CA0up03e1xrpXoQW71IvXwuPx15epiYEo7xVzD0NALjIaHI3O8dVFqhPNKN37Lv10rAUJ61K5a9YpwXbSrTZ1Mxu3kqtzd+hJ5ZZDZrnXtPTa/JUdCK47nY9R+on1zsL51N9Vht37dTCFbma8y+vacGKrSoITjklJQ3Uj2+K/QnhpSD/WPCVsJppl0Mq4PV+Ypyi+dIRp1F9U2q/jpNoNa6H270ThmtYz87BwEr5Ti3+Q+RBuWdlBmcSqjq4Xb9clqec4lPBQVwvAWOHXqdU//Go2K3sf9+i7Ppmh0LLccHltMH7WmPfixqA8rVpXerlq/dccEfiO7le2Yyog9KTgj28jn3ryp8AAFwEBJuanQod+M5JWtIG9Faak25SqcnBVyQqvtZfDjrpxlB9VtsKv9KCJa8r96C/AdFGvfp2d9KxOKui4v1auGyVsguCTwWTeqZFnJr+Uuae/t6enWmsk0Rk/UaM0bR0X7clz5fbtfGLEpWfdjVsz3jlKS3WtjfX6d6Xdyg3YlAlUWmu9kHx7sIIg3G3bL2vCgZyPUV7tbG5N/QSMjT0e0PVh/GZYxNTOW3wvnYx70Uxannla7L6WHl/aMal8PDFbPladjowD6Pi4uoZWj6+hzKDb1DHpnXbel49rWvb4bLg7JDpGZpzvhp8fLr6BQKzJSoqdJIAAFwkBJuaoRW79wcrFN2GasGQeio6zUx8YrqemTYwpgpUZF7tOhocb6Bd+4YN9brR/VTPqjxelqNlHD6kIn9rKHGAZg1tOXmraXTQHf39LYlD2vxGobJzN+nebNcrO8+t0pw/bNHTuypV7vzLhmmjyWMn6fZ0Z/ESlTlwtOYNatpGbsLkX2j5a0v17P99Vktee0tLHx3h/ILoRVdOX+z7mtl7UZRaUvk64CEteWOVllh5/9ml67TuuZ8o2s7DLVt05WuBa6yjdl27hp8YIr67nvlvo4OvUEfjaEUwIJnaVdNjqYW7xw9s20O33Fx3/MCgOM29Y3BwdsTDX2sNwzcBAC4ygk3NkOeLAu0IxEXi1OvmKVo0rLPSIpyttG49NKebs9BYjnuCDYXEPrrj+pDaVesOunPsOC25b4z6RVG7T7smRROT4uqdIS4+sbtu6RVsjJYcKnFSIZI7a1qXDhGPT424RM2/PvCIT1XflhqdervlKNWanWVOuo3Sxk1V9tgUZdZz7NJSUjVvRPfLsieYff3FB7J6opVvGzLo7CmV/d1JWnoNHqiRIcc9qWtvPXPfP2je8JDX9lqQYyeCM43F983UnJDywL6un7x7hrJu7dHEgzuP0P+6d4K6BoY0iVPGtIf0aE9nEUbLaWP3NcP3IrNaTvk65kcT1Mc1aHtC5o/1+KMZzlJLZLh8/fqIAjk5ub/mhARHk7r2VfbccbHnscPfqcTf27NtD02f2Tts/gib/6sP6Y2C4EOzpCETtMjKX3WuT/samDwp0CNX1RXa9l5hxEkrAABoLK0yMjIYMrAZir9mkF6YNVBJ7kpItVeeY6UqccbIiOvcRakJHdSurVS0abkWfFrzdS2TR4/RLaFdvOM6Kf2aRKeydUol+46GDKJ6VO+s3q1cZ8knRVkPTlJmoGJ1VlXlpSou8yruyi5KS+4QDF1WW9vX2mmUV+zUopfqjmEzdsJULRhiN1Cs9Zyskuf4UR0LPHVro/iUFKVe6arcefdr2QtbtTLcKzlDxmnNBOfVjdOn5DlxLHCMbHGdU5WWaK0rsH1l2vyHXC065iy7ZGbeqLl9Q2uPHZXaM8V5gnhW5QcP6VitV6U8Knj3Y+Wcp1vL3FmzrcqfLx3pfEVidrsSNH/2bZrYzXV8rXNWVeE7nz5xSu7aSfHtrfxlH7cI59HWkP1qCdz7V8N7SlX+7HXmpEpKK+U7al6VHTqkHXsPaWPp2ZBryidt+ASr8em6IM9Y199h6/o7Yx1vq2GfFOcKZtl53cmzocc1uE2Vyl++TlmHa7629NCix0arl50MPWfdBmnZbF9PD8+n6zVnk6/RErwWQ/+fRC28f4qG1Yy3e0hrn31fOTXf21z/jz02jXu8mR7DtWxm3+ATd6vcKv+2xLq+rev66lSlxrv3MVhWuLfp4nhIS969U32cJZ9Kbf/dVP3sHWfxortZ/zzpCX2/5nQUatXqh/X7mu+bhtFy2mLmvmb2XtSQe6St9n3SZrZ8bSxjfrNKv74p2Vly7Furqfc9Z10FLZOp8tUnTvNmz9TkQMDHlc/sOkWS//x6VVRcoV7pvodZ0dwDp02eobnXu2bqDJSRVrqjlfeS49XO2taw62rdWQvvm+yUy44z1t+Xuv7+aivvBq4xrw5sfkvz85r2rI6/4U/6uROZ25t3mx5sqRNgAABi4q7yoRmxp5t++D+31xp8Va3jrMp9d/XqmV7zSUvyVcjr0/Ua37+t9QlUom0dlBr6e8+uqjt+a6me/vNOlQcaEW3ULim15t+npbgq9ycKtfLlj1TkLJ6ftZ6OHZTU1f3/d6/dgLHX+UrkBkwtVuXdfYxqts+uFPq373SpNq8IH2iydb46rdbf+j7+gI6tjZLqHNM0pbmn9W4EZrerUtl/fEu5+1yVT6tB5j+fvk+qkqzzEqyw2lXWy1POG1tVdNpZsMVZx8U+Nvbnys5KCxyz3hpmNVzn3nOXlj0wQnPcjQHHgbwtWrvPdSTbWtdfunO8/Q0hq+FRkrdBi3e00Cbf/jzlfOIKGlnllu/6tq7rQKDprDxfbtHC9yP0Vrwo3tDn3zhJP+8RfbPXScPFTDlt5r5m9l7UkHtk+HHOW0b5uiVnk/aG/qfJXdWSXyQ1W756tXitVfYHVufKZ/5AU3WFCtau04IvYzt7a99+T5uPuv4mUEZan65W3nMHxUJVlynr5Vxtdk960jbk7/35qrpSe95eryeaONAEALh8uao6aG48pYVasGSVstbkqeBIharcgxLbTp9S+ZGvtO3NXC3a4XzXiGoaCi9v0MYvy+TxurbFfqpmbcfGNet075LtWlbhH1QgsqLdnyn/y0MqOXGq7n7VPEWvVMm+ncpdtVpz7HWG6ybi980ubfuiWAfKrXWdDFPpCxyn9bo3e4MWNaMBZZuMVQldvNo6X1aDo2bAa/u4uRuJVoW86mSFDnxpnQP7vL60Q9ucny47VR59W+HKV1Z+qjrp+tTJv5Yre+vOe8Zobp1gn1c5q1/Xog07rfzqPuZWnj9RpqJPtyr731Zp3ubSsD2jWoqN767XwlV52lNaqSp3vjpt5akv8pSTs0pz/lysgibtV/uNnnvmRX1y1Fms/EZbXnxSL+5zlmG2nHaYuK+ZvBc1ipZQvu57UQv+/ZMW24spPMPlq2e/Fixer9zQfGaXY9a6Fr1glXN1InZRqC7Tov/wbWeRXUa6s6mVh6vKDyn//Q3KiVSvs/9+2SrNX75V+fusbXNfQ3beKi9RwdZNynphnZ7YeapF30sAAC0br9EBQESJevL+KRrp9FIqL9igf9xQGnYg8Pj2CZo4dKhm/SA9MBZRyfbVmvdBcAwjoH7N6zU6XOpCXiXds1LjH3rRWQDM4TU6ALg80bMJACKIH3JjINCkYzv0fIRAk81zulJrt23RmqLgU+bU7qGDwQBAMzEgQb7R2mxeffG3/3TSAAAADUewCQAiGHaVa+AlzwnlO8nI4pSaEBxvw/Odf2YqAGhGukzTrxdOCI47dWy7Xs9hbB8AAGAOwSYAiMB7zjXQSmpPzQsz6HdQG40dOUY/DLTeTqlo78WcXQ0AIsuY/BM9+siv9ezLy7Vu+aMa09UZ6Nq7VysX/kqbfEsAAABGMGYTgKaTlK6F469VZ2exQdq2Vryq5TEyJrBHBe9+rJzW/bX4nhuV6g/LV5+V51iJSr4t1Z5v/XPAd1Raj1Slh0ytXf5prh7eVMbgrIiBe8ymMn368QcKnTBPnr/pX4/mOQtA9Cb8dp1+8YPgi3M1jn6iV373K736Kb2aYMJwzbz2++ruLPklX3Orbkr1BTcZswkALh8EmwA0nW6DtGz2QPmGDW0or84qTvVMGh2DSuUvX6esw1K/PsP1s//SV0nR9gOtrlTR5vf1m/yKiOM7AeG5g00RHP6TJn74krMARC8QbDpZqSPffK7tG1bo5dcvtRnp0LTu1+9n/NfgoPNhEGwCgMsHr9EBQD327M3Tvc+9puwNO7XHnqrdnsY8VM107YXKf9833fQCAk0AmplNv5iq8ePHa/wdUzX7oZ/pOQJNAACgEdGzCQAAAAAAAMbQswkAAAAAAADGEGwCAAAAAACAMQSbAAAAAAAAYAzBJgAAAAAAABhDsAkAAAAAAADGEGwCAAAAAACAMQSbAAAAAAAAYAzBJgAAAAAAABhDsAkAAAAAAADGEGwCAAAAAACAMQSbAAAAAAAAYAzBJgAAAAAAABhDsAkAAAAAAADGEGwCAAAAAACAMa0yMjLOOenaJlSo4PFyJdYstNLp4+21d1uSFi+O01pPzZcAAAAAAABALVH2bDqn9p1O6YZbj+hfl5Vq8SjnawAAAAAAAMClTadOnf6Pk67tXGt1r+6gr/e01987nFNy0lm1tb9vV6U+Q1vJs7K9Pq75hwAAAAAAAIBP5NfoQqQP/ruWPlWqPnH2Uit9vjxdt/+h5icAAAAAAACgRtQDhBd/doWeeq+js3ROfW7wOmkAAAAAAADAJ6bZ6N77rL0qnHT7K886KQAAAAAAAMAnpmATAAAAAAAAUB+CTQAAAAAAADCGYBMAAAAAAACMIdgEAAAAAAAAYwg2AQAAAAAAwJjYgk3b2uq4k9RVVbrfSQIAAAAAAAC22IJNnvbaW+KkOx3XPfOrle4sAgAAAAAAAK0yMjLOOemopN9aoTcXlCvRWVZZR32+5wrtLWml44UdtfDtVs4PAAAAAAAAuNzEHGyypQ8+raz/Ua5R151We+c7W8W27sr8VVtnCQAAAAAAAJebCxog/ObRHg3rXTvQBAAAAAAAAMTcs+nmed9p8QyPL9DkSdBbrybqj1va6r2jNT8DAAAAAADgMhZjz6YzemCCE2hSR73182TNW02gCQAAAAAAAD6xBZvivUrv5KRLOurN3U4aAAAAAAAAsMQWbBp5Rv5YkzxttNZJAgAAAAAAALYLGiAcAAAAAAAACIdgEwAAAAAAAIwh2AQAAAAAAABjCDYBAAAAAADAGIJNAAAAAAAAMIZgEwAAAAAAAIwh2AQAAAAAAABjYgo2jco8rUQnXfFdWycFAAAAAAAA+EQdbEof/HdlTTjpLLVS8RftnDQAAAAAAADg0yojI+Ock67t2ipl3V6lTjqnLgM8Gtb7lNq3cX4rS9JTdyfqJWcRAAAAAAAAsEUONk2oUMHj5YHX5gJOJui1J5P1+G5nGQAAAAAAAHBE9xrd2dY6XdZRH7/dVf9zDoEmAAAAAAAAhBe5ZxMAAAAAAAAQo5hmowMAAAAAAADqQ7AJAAAAAAAAxhBsAgAAAAAAgDEEmwAAAAAAAGAMwSYAAAAAAAAYQ7AJAAAAAAAAxhBsAgAAAAAAgDEEmwAAAAAAAGAMwSYAAAAAAAAYQ7AJAAAAAAAAxhBsAgAAAAAAgDEEmwAAAAAAAGAMwSYAAAAAAAAYQ7AJAAAAAAAAxhBsAgAAAAAAgDEEmwAAAAAAAGAMwSYAAAAAAAAYQ7AJAAAAAAAAxhBsAgAAAAAAgDEEmwAAAAAAAGAMwSYAAAAAAAAYQ7AJAAAAAAAAxhBsAgAAAAAAgDEEmwAAAAAAAGAMwSYAAAAAAAAYQ7AJAAAAAAAAxhBsAgAAAAAAgDEEmwAAAAAAAGAMwSYAAAAAAAAYQ7AJAAAAAAAAxhBsAgAAAAAAgDEEmwAAAAAAAGAMwSYAAAAAAAAYQ7AJAAAAAAAAxhBsAgAAAAAAgDEEmwAAAAAAAGAMwSYAAAAAAAAYQ7AJAAAAAAAAxhBsAgAAAAAAgDEEmwAAAAAAAGAMwSYAAAAAAAAYQ7AJAAAAAAAAxhBsAgAAAAAAgDEEmwAAAAAAAGAMwSYAAAAAAAAYQ7AJAAAAAAAAxhBsAgAAAAAAgDEEmwAAAAAAAGAMwSYAAAAAAAAYQ7AJAAAAAAAAxhBsAgAAAAAAgDEEmwAAAAAAAGAMwSYAAAAAAAAYQ7AJAAAAAAAAxhBsAgAAAAAAgDEEmwAAAAAAAGAMwSYAAAAAAAAYQ7AJAAAAAAAAxhBsAgAAAAAAgDEEmwAAAAAAAGAMwSYAAAAAAAAYQ7AJAAAAAAAAxhBsAgAAAAAAgDEEmwAAAAAAAGAMwSYAAAAAAAAYQ7AJAAAAAAAAxhBsAgAAAAAAgDEEmwAAAAAAAGAMwSYAAAAAAAAYQ7AJAAAAAAAAxhBsAgAAAAAAgDEEmwAAAAAAAGAMwSYAAAAAAAAYQ7AJAAAAAAAAhkj/H2FkOsoVCDnuAAAAAElFTkSuQmCC)"
      ],
      "metadata": {
        "id": "AVaxWYtp10Ho"
      }
    },
    {
      "cell_type": "code",
      "source": [
        "\n",
        "param_grid_rf = {\n",
        "    'randomforestclassifier__n_estimators': [100, 200, 300],\n",
        "    'randomforestclassifier__max_depth': [None, 10, 20],\n",
        "    'randomforestclassifier__min_samples_split': [2, 5, 10]\n",
        "}\n",
        "\n",
        "param_grid_gb = {\n",
        "    'gradientboostingclassifier__n_estimators': [50, 100, 150],\n",
        "    'gradientboostingclassifier__learning_rate': [0.01, 0.1, 1],\n",
        "    'gradientboostingclassifier__max_depth': [3, 5, 7]\n",
        "}\n",
        "\n",
        "\n"
      ],
      "metadata": {
        "id": "gV_5Qz8QxrD3"
      },
      "execution_count": 2,
      "outputs": []
    },
    {
      "cell_type": "code",
      "source": [
        "# Loop through each model and perform GridSearchCV\n",
        "for model, param_grid, model_name in models_and_grids:\n",
        "    # Create pipeline with preprocessor and model\n",
        "    pipeline = Pipeline(steps=[('preprocessor', preprocessor), ('classifier', model)])\n",
        "\n",
        "    # Initialize GridSearchCV\n",
        "    grid_search = GridSearchCV(pipeline, param_grid, cv=5, scoring='accuracy', n_jobs=-1)\n",
        "\n",
        "    # Fit the model\n",
        "    grid_search.fit(X_train, y_train)\n",
        "\n",
        "    # Output the best parameters and best cross-validation score for each model\n",
        "    print(f\"\\nBest parameters for {model_name}: {grid_search.best_params_}\")\n",
        "    print(f\"Best cross-validation accuracy for {model_name}: {grid_search.best_score_:.4f}\")"
      ],
      "metadata": {
        "id": "6hlPoaut2is4"
      },
      "execution_count": null,
      "outputs": []
    },
    {
      "cell_type": "markdown",
      "source": [
        "## 7.Reflection and Analysis\n",
        "Which model performed the best without tuning?\n",
        "\n",
        "1. Based on the initial accuracy scores, which model had the highest accuracy before hyperparameter tuning?\n",
        "\n",
        "2. What are two best top performing model? How did hyperparameter tuning affect the top-performing models?\n",
        "\n",
        "3. Compare the accuracy scores before and after tuning for each of the top-performing models. Which model showed the most improvement?\n",
        "\n",
        "4. Summarize the optimal parameters found during hyperparameter tuning. How do these optimal parameters differ from the default ones?\n",
        "\n",
        "5. Did any model experience overfitting after tuning?\n",
        "Examine the training versus test accuracy for each of the top models after tuning.\n",
        "Based on your findings, which model would you select for deployment, and why?\n",
        "\n",
        "6. Considering both performance (accuracy) and other factors like model complexity and interpretability, which model would you choose as the best candidate for deployment? Explain your reasoning."
      ],
      "metadata": {
        "id": "pu25SN5kyy8y"
      }
    },
    {
      "cell_type": "code",
      "source": [
        "# 1. Model with highest initial accuracy\n",
        "best_initial_model = max(initial_scores, key=initial_scores.get)\n",
        "print(f\"Model with highest initial accuracy: {best_initial_model} ({initial_scores[best_initial_model]})\")\n",
        "\n",
        "# 2. Top two performing models after tuning and how tuning affected them\n",
        "top_two_tuned = sorted(tuned_scores, key=tuned_scores.get, reverse=True)[:2]\n",
        "print(\"\\nTop two performing models after tuning:\", top_two_tuned)\n",
        "\n",
        "# 3. Compare performance before and after tuning\n",
        "print(\"\\nPerformance Comparison:\")\n",
        "for model in top_two_tuned:\n",
        "    improvement = tuned_scores[model] - initial_scores[model]\n",
        "    print(f\"{model} - Initial accuracy: {initial_scores[model]:.4f}, Tuned accuracy: {tuned_scores[model]:.4f}, Improvement: {improvement:.4f}\")\n",
        "\n",
        "\n",
        "# 4. Optimal parameters and comparison to defaults\n",
        "print(\"\\nOptimal Parameters:\")\n",
        "for model, params in best_params.items():\n",
        "    print(f\"\\n{model}:\")\n",
        "    for param_name, param_value in params.items():\n",
        "        print(f\"  {param_name}: {param_value}\") # Compare with default values if needed\n",
        "\n",
        "\n",
        "# 5. Overfitting check (replace with your actual training and test scores)\n",
        "training_scores = {'RandomForest': 0.95, 'GradientBoosting': 0.96}\n",
        "test_scores = {'RandomForest': 0.90, 'GradientBoosting': 0.92}\n",
        "\n",
        "print(\"\\nOverfitting Check:\")\n",
        "for model in top_two_tuned:\n",
        "    if model in training_scores and model in test_scores:\n",
        "        print(f\"{model}: Training accuracy: {training_scores[model]:.4f}, Test accuracy: {test_scores[model]:.4f}\")\n",
        "    # Add logic to detect overfitting if needed\n",
        "\n",
        "# 6. Model selection for deployment\n",
        "print(\"\\nModel Selection for Deployment:\")\n",
        "# Example logic based on performance and complexity\n",
        "if 'GradientBoosting' in top_two_tuned and (tuned_scores['GradientBoosting'] > tuned_scores.get('RandomForest', 0) and abs(training_scores.get('GradientBoosting',0) - test_scores.get('GradientBoosting',0)) < 0.05):\n",
        "    print(\"Choose GradientBoosting for its performance and apparent lack of overfitting\")\n",
        "else:\n",
        "    print(f\"Choose {top_two_tuned[0]} based on the provided metrics. Further investigation may be needed\")"
      ],
      "metadata": {
        "id": "KhQtG-N6rUVJ"
      },
      "execution_count": null,
      "outputs": []
    }
  ]
}